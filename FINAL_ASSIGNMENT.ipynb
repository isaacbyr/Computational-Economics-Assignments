{
 "cells": [
  {
   "cell_type": "markdown",
   "metadata": {},
   "source": [
    "#### ISAAC BYRON-BINLEY V00877670"
   ]
  },
  {
   "cell_type": "markdown",
   "metadata": {},
   "source": [
    "I Isaac Byron-Binkley\n",
    "acknowledge that I understand the exam rules and that I will not give or receive any aid on this exam\n",
    "and that all work will be my own."
   ]
  },
  {
   "cell_type": "code",
   "execution_count": 1,
   "metadata": {},
   "outputs": [],
   "source": [
    "import numpy as np\n",
    "import pandas as pd\n",
    "import matplotlib.pyplot as plt\n",
    "import math"
   ]
  },
  {
   "cell_type": "markdown",
   "metadata": {},
   "source": [
    "#### Question 1: Spurious Regressions and Ordinary Least Squares"
   ]
  },
  {
   "cell_type": "markdown",
   "metadata": {},
   "source": [
    "Consider the classical linear econometric model. We analyze some properties of the Ordinary Least\n",
    "Squares (OLS) estimator when the variables are non-stationary. We will rely on Monte Carlo simulation\n",
    "methods. In terms of notation, the index t = 1, ..., T denotes the time period in our (simulated) series, and\n",
    "T is the sample size."
   ]
  },
  {
   "cell_type": "markdown",
   "metadata": {},
   "source": [
    "(a) Set the sample size to T = 100. First consider two independent error terms, u\n",
    "x\n",
    "t and u\n",
    "y\n",
    "t\n",
    ", both drawn\n",
    "from the standard normal distribution. Then generate the explanatory variable (xt) and the error term (et)\n",
    "in the equation that generates the dependent variable (yt). As initial values, use x0 = 0 and e0 = 0. For\n",
    "every data point, you are asked to generate the sample using the following model, setting the true parameter\n",
    "value to β = 0.7:\n",
    "\n",
    "$$x_{t} = x_{t-1} + \\mu^{x}_{t}$$\n",
    "$$e_{t} = e_{t-1} + \\mu^{y}_{t}$$\n",
    "$$y_{t} = \\beta x_{t} + e_{t}$$"
   ]
  },
  {
   "cell_type": "markdown",
   "metadata": {},
   "source": [
    "(a.1) Compute the sample average and the sample standard deviation of both xt and yt. Comment."
   ]
  },
  {
   "cell_type": "code",
   "execution_count": 2,
   "metadata": {},
   "outputs": [],
   "source": [
    "seed = 10"
   ]
  },
  {
   "cell_type": "code",
   "execution_count": 3,
   "metadata": {},
   "outputs": [],
   "source": [
    "np.random.seed(seed)"
   ]
  },
  {
   "cell_type": "code",
   "execution_count": 4,
   "metadata": {},
   "outputs": [
    {
     "data": {
      "text/plain": [
       "[<matplotlib.lines.Line2D at 0x7fb50b454580>]"
      ]
     },
     "execution_count": 4,
     "metadata": {},
     "output_type": "execute_result"
    },
    {
     "data": {
      "image/png": "[encoded data removed]",
      "text/plain": [
       "<Figure size 432x288 with 1 Axes>"
      ]
     },
     "metadata": {
      "needs_background": "light"
     },
     "output_type": "display_data"
    }
   ],
   "source": [
    "# Using the monte carlo simulation method that we used in class and on the assignment\n",
    "\n",
    "beta = 0.7\n",
    "ts_length = 100\n",
    "\n",
    "x_values = []\n",
    "y_values_1 = []\n",
    "e_values = []\n",
    "current_x = 0\n",
    "current_e = 0\n",
    "\n",
    "for i in range(ts_length):\n",
    "    \n",
    "    # defines the first equation for xt\n",
    "    current_x = current_x + np.random.randn()\n",
    "    x_values.append(current_x)\n",
    "    \n",
    "    # defines the second equation for error term\n",
    "    current_e = current_e + np.random.randn()\n",
    "    e_values.append(current_e)\n",
    "    \n",
    "    # defines the last equation for yt\n",
    "    current_y = (beta * current_x) + current_e\n",
    "    y_values_1.append(current_y)\n",
    "    \n",
    "\n",
    "plt.plot(x_values)  "
   ]
  },
  {
   "cell_type": "code",
   "execution_count": 5,
   "metadata": {},
   "outputs": [
    {
     "name": "stdout",
     "output_type": "stream",
     "text": [
      "Sample Average xt: 7.454663351118797\n",
      "Sample Variance xt: 30.734507909342824\n",
      "Sample Standard Deviaton xt: 5.543871202448956\n"
     ]
    }
   ],
   "source": [
    "# Computing the sample average from the simulation for xt\n",
    "\n",
    "x_sampleavg = np.sum(x_values)/100\n",
    "print(\"Sample Average xt:\", x_sampleavg)\n",
    "\n",
    "x_values = np.array(x_values)\n",
    "\n",
    "x_samplevar=np.sum(x_values*x_values)/100\n",
    "x_samplevar=x_samplevar-x_sampleavg*x_sampleavg\n",
    "print(\"Sample Variance xt:\", x_samplevar)\n",
    "print(\"Sample Standard Deviaton xt:\", np.sqrt(x_samplevar))"
   ]
  },
  {
   "cell_type": "code",
   "execution_count": 6,
   "metadata": {},
   "outputs": [
    {
     "name": "stdout",
     "output_type": "stream",
     "text": [
      "Sample Average yt: 6.332395276009197\n",
      "Sample Variance yt: 8.076737915182754\n",
      "Sample Standard Deviaton yt: 2.8419602240676687\n"
     ]
    }
   ],
   "source": [
    "# Computing the sample average from the simulation for yt\n",
    "\n",
    "y_sampleavg = np.sum(y_values_1)/100\n",
    "print(\"Sample Average yt:\", y_sampleavg)\n",
    "\n",
    "y_values_1 = np.array(y_values_1)\n",
    "\n",
    "y_samplevar=np.sum(y_values_1*y_values_1)/100\n",
    "y_samplevar=y_samplevar-y_sampleavg*y_sampleavg\n",
    "print(\"Sample Variance yt:\", y_samplevar)\n",
    "print(\"Sample Standard Deviaton yt:\", np.sqrt(y_samplevar))"
   ]
  },
  {
   "cell_type": "markdown",
   "metadata": {},
   "source": [
    "Looking at the sample averages we can see that the sample average for xt is 7.45 and the sample average for yt = 6.3. It makes sense for xt to be larger as xt is multplied by beta (0.7) in the equation to find yt. "
   ]
  },
  {
   "cell_type": "markdown",
   "metadata": {},
   "source": [
    "(a.2) Compute βˆOLS, the OLS estimate for β."
   ]
  },
  {
   "cell_type": "markdown",
   "metadata": {},
   "source": [
    "For this I followed the simple linear regression without the intercept term formulas on wikipedia, as our formula for yt just has one regressor and an error term, no intercept\n",
    "\n",
    "The equation for $\\beta$ is as follows:\n",
    "\n",
    "$$\\hat \\beta = \\frac{\\sum^{n}_{i} x_{i}y_{i}}{\\sum^{n}_{i}  x^{2}_{i}}$$\n",
    "\n",
    "Which simplifies too\n",
    "\n",
    "$$\\hat \\beta = \\frac{Cov(x,y) + (\\bar x - h)(\\bar y - k)}{Var(x) + (\\bar x - h)^{2}}$$\n",
    "\n",
    "We already have our estimates for $Var(x), \\bar x$ and $\\bar y$ from part a). Now all we have to do is solve for the corvariance between the two. The formula for the covariance is\n",
    "\n",
    "$$Cov_{x,y} = \\frac {\\sum(x_{i} - \\bar x)(y_{i} - \\bar y)}{N -1}$$\n",
    "\n",
    "Again we already know $\\bar x, N$ and $\\bar y$ from part a)\n",
    "\n",
    "What the block of code below is designed to do is to compute random samples which are the $x_{i} and y_{i}$ values, and then subtract the corresponding average from them. I store each of those values into a variable and then multiple them together and add to a list to get x_minus_xbar_mult_y_minus_ybar"
   ]
  },
  {
   "cell_type": "code",
   "execution_count": 7,
   "metadata": {},
   "outputs": [],
   "source": [
    "beta = 0.7\n",
    "ts_length = 100\n",
    "\n",
    "x_minus_xbar_mult_y_minus_ybar = []\n",
    "\n",
    "for i in range(ts_length):\n",
    "    \n",
    "    current_x = x_values[i]\n",
    "    x_minus_xbar = current_x - x_sampleavg\n",
    "    \n",
    "    current_y = y_values_1[i]\n",
    "    y_minus_ybar = current_y - y_sampleavg\n",
    "    \n",
    "    x_minus_xbar_mult_y_minus_ybar.append(x_minus_xbar * y_minus_ybar)\n"
   ]
  },
  {
   "cell_type": "markdown",
   "metadata": {},
   "source": [
    "Now that we have x minus xbar multiplied by y minus ybar we can finish the formula for the covariance which is sum the numerator and dividing by the the sample size minus 1"
   ]
  },
  {
   "cell_type": "code",
   "execution_count": 8,
   "metadata": {},
   "outputs": [
    {
     "data": {
      "text/plain": [
       "11.080589003977137"
      ]
     },
     "execution_count": 8,
     "metadata": {},
     "output_type": "execute_result"
    }
   ],
   "source": [
    "cov_x_y = (np.sum(x_minus_xbar_mult_y_minus_ybar)) / (100 - 1)\n",
    "cov_x_y"
   ]
  },
  {
   "cell_type": "markdown",
   "metadata": {},
   "source": [
    "Now that I have the covariance I can plug everything into the formula above for $\\hat \\beta$. Note that the values $h$ and $k$ represent a point you want the beta to pass through by I just set both to zero"
   ]
  },
  {
   "cell_type": "code",
   "execution_count": 9,
   "metadata": {},
   "outputs": [
    {
     "data": {
      "text/plain": [
       "0.6753425850472737"
      ]
     },
     "execution_count": 9,
     "metadata": {},
     "output_type": "execute_result"
    }
   ],
   "source": [
    "b_est = (cov_x_y + (x_sampleavg - 0)*(y_sampleavg-0))/ (x_samplevar + (x_sampleavg-0)**2)\n",
    "b_est"
   ]
  },
  {
   "cell_type": "markdown",
   "metadata": {},
   "source": [
    "Our estimate $\\beta$ on this model is 0.67"
   ]
  },
  {
   "cell_type": "markdown",
   "metadata": {},
   "source": [
    "(a.3) Now set the seed to a new value, using the formula:\n",
    "\n",
    "$$seed=seed+100$$\n",
    "\n",
    "Create the new values for xt and yt using the same procedure as above. Redo parts (a.1) and (a.2).\n",
    "Comment"
   ]
  },
  {
   "cell_type": "code",
   "execution_count": 10,
   "metadata": {},
   "outputs": [],
   "source": [
    "seed = seed + 100"
   ]
  },
  {
   "cell_type": "code",
   "execution_count": 11,
   "metadata": {},
   "outputs": [
    {
     "data": {
      "text/plain": [
       "[<matplotlib.lines.Line2D at 0x7fb50b5f9bb0>]"
      ]
     },
     "execution_count": 11,
     "metadata": {},
     "output_type": "execute_result"
    },
    {
     "data": {
      "image/png": "[encoded data removed]",
      "text/plain": [
       "<Figure size 432x288 with 1 Axes>"
      ]
     },
     "metadata": {
      "needs_background": "light"
     },
     "output_type": "display_data"
    }
   ],
   "source": [
    "np.random.seed(seed)\n",
    "\n",
    "beta = 0.7\n",
    "ts_length = 100\n",
    "\n",
    "x_values = []\n",
    "y_values_1 = []\n",
    "e_values = []\n",
    "current_x = 0\n",
    "current_e = 0\n",
    "\n",
    "for i in range(ts_length):\n",
    "    \n",
    "    current_x = current_x + np.random.randn()\n",
    "    x_values.append(current_x)\n",
    "    \n",
    "    current_e = current_e + np.random.randn()\n",
    "    e_values.append(current_e)\n",
    "    \n",
    "    current_y = (beta * current_x) + current_e\n",
    "    y_values_1.append(current_y)\n",
    "\n",
    "plt.plot(x_values)  "
   ]
  },
  {
   "cell_type": "code",
   "execution_count": 12,
   "metadata": {},
   "outputs": [
    {
     "name": "stdout",
     "output_type": "stream",
     "text": [
      "Sample Average xt: 1.4833454594414497\n",
      "Sample Variance xt: 3.316679385522994\n",
      "Sample Standard Deviaton xt: 1.821175275892739\n"
     ]
    }
   ],
   "source": [
    "# Computing the sample average from the simulation\n",
    "\n",
    "x_sampleavg = np.sum(x_values)/100\n",
    "print(\"Sample Average xt:\", x_sampleavg)\n",
    "\n",
    "x_values = np.array(x_values)\n",
    "\n",
    "x_samplevar=np.sum(x_values*x_values)/100\n",
    "x_samplevar=x_samplevar-x_sampleavg*x_sampleavg\n",
    "print(\"Sample Variance xt:\", x_samplevar)\n",
    "print(\"Sample Standard Deviaton xt:\", np.sqrt(x_samplevar))"
   ]
  },
  {
   "cell_type": "code",
   "execution_count": 13,
   "metadata": {},
   "outputs": [
    {
     "name": "stdout",
     "output_type": "stream",
     "text": [
      "Sample Average yt: -2.8732447361397364\n",
      "Sample Variance yt: 4.816906826328031\n",
      "Sample Standard Deviaton yt: 2.194745275955283\n"
     ]
    }
   ],
   "source": [
    "# Computing the sample average from the simulation\n",
    "\n",
    "y_sampleavg = np.sum(y_values_1)/100\n",
    "print(\"Sample Average yt:\", y_sampleavg)\n",
    "\n",
    "y_values_1 = np.array(y_values_1)\n",
    "\n",
    "y_samplevar=np.sum(y_values_1*y_values_1)/100\n",
    "y_samplevar=y_samplevar-y_sampleavg*y_sampleavg\n",
    "print(\"Sample Variance yt:\", y_samplevar)\n",
    "print(\"Sample Standard Deviaton yt:\", np.sqrt(y_samplevar))"
   ]
  },
  {
   "cell_type": "markdown",
   "metadata": {},
   "source": [
    "We can see that values of our sample averages for xt and yt changed drastically by using a seed of seed + 100. If we look at the plot it appears more like we would expect that as we have a fluctuating graph that is slowly trending upwards as t progresses "
   ]
  },
  {
   "cell_type": "markdown",
   "metadata": {},
   "source": [
    "Now finding the estimate of $\\beta$ following the same format I did above."
   ]
  },
  {
   "cell_type": "code",
   "execution_count": 14,
   "metadata": {},
   "outputs": [],
   "source": [
    "beta = 0.7\n",
    "ts_length = 100\n",
    "\n",
    "x_minus_xbar_mult_y_minus_ybar = []\n",
    "\n",
    "for i in range(ts_length):\n",
    "    \n",
    "    current_x = x_values[i]\n",
    "    x_minus_xbar = current_x - x_sampleavg\n",
    "    \n",
    "    current_y = y_values_1[i]\n",
    "    y_minus_ybar = current_y - y_sampleavg\n",
    "    \n",
    "    x_minus_xbar_mult_y_minus_ybar.append(x_minus_xbar * y_minus_ybar)\n"
   ]
  },
  {
   "cell_type": "code",
   "execution_count": 15,
   "metadata": {},
   "outputs": [
    {
     "data": {
      "text/plain": [
       "2.7989131577954782"
      ]
     },
     "execution_count": 15,
     "metadata": {},
     "output_type": "execute_result"
    }
   ],
   "source": [
    "cov_x_y = (np.sum(x_minus_xbar_mult_y_minus_ybar)) / (100 - 1)\n",
    "cov_x_y"
   ]
  },
  {
   "cell_type": "code",
   "execution_count": 16,
   "metadata": {},
   "outputs": [
    {
     "data": {
      "text/plain": [
       "-0.26519905661261384"
      ]
     },
     "execution_count": 16,
     "metadata": {},
     "output_type": "execute_result"
    }
   ],
   "source": [
    "b_est = (cov_x_y + (x_sampleavg - 0)*(y_sampleavg-0))/ (x_samplevar + (x_sampleavg-0)**2)\n",
    "b_est"
   ]
  },
  {
   "cell_type": "markdown",
   "metadata": {},
   "source": [
    "The estimate of B has also changed drastically to be -0.265."
   ]
  },
  {
   "cell_type": "markdown",
   "metadata": {},
   "source": [
    "(a.4) Now reset the seed to its original value, and set the sample size to T = 10, 000. Create the new\n",
    "values for xt and yt using the same procedure as above. Redo parts (a.1) and (a.2). Comment on how the\n",
    "results are affected by the sample size."
   ]
  },
  {
   "cell_type": "code",
   "execution_count": 17,
   "metadata": {},
   "outputs": [],
   "source": [
    "seed = 10"
   ]
  },
  {
   "cell_type": "code",
   "execution_count": 18,
   "metadata": {},
   "outputs": [
    {
     "data": {
      "text/plain": [
       "[<matplotlib.lines.Line2D at 0x7fb50b7b6460>]"
      ]
     },
     "execution_count": 18,
     "metadata": {},
     "output_type": "execute_result"
    },
    {
     "data": {
      "image/png": "[encoded data removed]",
      "text/plain": [
       "<Figure size 432x288 with 1 Axes>"
      ]
     },
     "metadata": {
      "needs_background": "light"
     },
     "output_type": "display_data"
    }
   ],
   "source": [
    "np.random.seed(seed)\n",
    "\n",
    "beta = 0.7\n",
    "ts_length = 10000\n",
    "\n",
    "x_values = []\n",
    "y_values_1 = []\n",
    "e_values = []\n",
    "current_x = 0\n",
    "current_e = 0\n",
    "\n",
    "for i in range(ts_length):\n",
    "    \n",
    "    current_x = current_x + np.random.randn()\n",
    "    x_values.append(current_x)\n",
    "    \n",
    "    current_e = current_e + np.random.randn()\n",
    "    e_values.append(current_e)\n",
    "    \n",
    "    current_y = (beta * current_x) + current_e\n",
    "    y_values_1.append(current_y)\n",
    "    \n",
    "\n",
    "plt.plot(x_values)  "
   ]
  },
  {
   "cell_type": "code",
   "execution_count": 19,
   "metadata": {},
   "outputs": [
    {
     "name": "stdout",
     "output_type": "stream",
     "text": [
      "Sample Average xt: 13.874002340272494\n",
      "Sample Variance xt: 1239.4653124247802\n",
      "Sample Standard Deviaton xt: 35.20604085131954\n"
     ]
    }
   ],
   "source": [
    "# Computing the sample average from the simulation\n",
    "\n",
    "x_sampleavg = np.sum(x_values)/10000\n",
    "print(\"Sample Average xt:\", x_sampleavg)\n",
    "\n",
    "x_values = np.array(x_values)\n",
    "\n",
    "x_samplevar=np.sum(x_values*x_values)/10000\n",
    "x_samplevar=x_samplevar-x_sampleavg*x_sampleavg\n",
    "print(\"Sample Variance xt:\", x_samplevar)\n",
    "print(\"Sample Standard Deviaton xt:\", np.sqrt(x_samplevar))"
   ]
  },
  {
   "cell_type": "code",
   "execution_count": 20,
   "metadata": {
    "scrolled": true
   },
   "outputs": [
    {
     "name": "stdout",
     "output_type": "stream",
     "text": [
      "Sample Average yt: -15.002992366312744\n",
      "Sample Variance yt: 3411.0529896151274\n",
      "Sample Standard Deviaton yt: 58.404220648983305\n"
     ]
    }
   ],
   "source": [
    "# Computing the sample average from the simulation\n",
    "\n",
    "y_sampleavg = np.sum(y_values_1)/10000\n",
    "print(\"Sample Average yt:\", y_sampleavg)\n",
    "\n",
    "y_values_1 = np.array(y_values_1)\n",
    "\n",
    "y_samplevar=np.sum(y_values_1*y_values_1)/10000\n",
    "y_samplevar=y_samplevar-y_sampleavg*y_sampleavg\n",
    "print(\"Sample Variance yt:\", y_samplevar)\n",
    "print(\"Sample Standard Deviaton yt:\", np.sqrt(y_samplevar))"
   ]
  },
  {
   "cell_type": "code",
   "execution_count": 21,
   "metadata": {},
   "outputs": [],
   "source": [
    "# calculation for the covariance\n",
    "\n",
    "beta = 0.7\n",
    "ts_length = 10000\n",
    "\n",
    "x_minus_xbar_mult_y_minus_ybar = []\n",
    "\n",
    "for i in range(ts_length):\n",
    "    \n",
    "    current_x = x_values[i]\n",
    "    x_minus_xbar = current_x - x_sampleavg\n",
    "    \n",
    "    current_y = y_values_1[i]\n",
    "    y_minus_ybar = current_y - y_sampleavg\n",
    "    \n",
    "    x_minus_xbar_mult_y_minus_ybar.append(x_minus_xbar * y_minus_ybar)"
   ]
  },
  {
   "cell_type": "code",
   "execution_count": 22,
   "metadata": {},
   "outputs": [
    {
     "data": {
      "text/plain": [
       "1826.4974765500801"
      ]
     },
     "execution_count": 22,
     "metadata": {},
     "output_type": "execute_result"
    }
   ],
   "source": [
    "cov_x_y = (np.sum(x_minus_xbar_mult_y_minus_ybar)) / (10000 - 1)\n",
    "cov_x_y"
   ]
  },
  {
   "cell_type": "code",
   "execution_count": 23,
   "metadata": {},
   "outputs": [
    {
     "data": {
      "text/plain": [
       "1.1301667296389688"
      ]
     },
     "execution_count": 23,
     "metadata": {},
     "output_type": "execute_result"
    }
   ],
   "source": [
    "b_est = (cov_x_y + (x_sampleavg - 0)*(y_sampleavg-0))/ (x_samplevar + (x_sampleavg-0)**2)\n",
    "b_est"
   ]
  },
  {
   "cell_type": "markdown",
   "metadata": {},
   "source": [
    "We can see by increasing the sample size has changed all our numbers drastically. The changes is what we would expect though, as we are working with a non-stationary model that is growing over time. Our estimate of beta is now 1.13"
   ]
  },
  {
   "cell_type": "markdown",
   "metadata": {},
   "source": [
    "(a.5) Set the sample size to T = 100. Create 500 different datasets, using a do-loop and setting the seed\n",
    "to seed=seed+iter, where iter stands for the iteration number. Compute the 500 OLS estimates βˆOLS\n",
    "and plot them in a histogram. Comment."
   ]
  },
  {
   "cell_type": "code",
   "execution_count": 222,
   "metadata": {},
   "outputs": [
    {
     "data": {
      "image/png": "[encoded data removed]",
      "text/plain": [
       "<Figure size 432x288 with 1 Axes>"
      ]
     },
     "metadata": {
      "needs_background": "light"
     },
     "output_type": "display_data"
    }
   ],
   "source": [
    "b_est_500 = []\n",
    "\n",
    "seed = 10;\n",
    "iter = 0;\n",
    "\n",
    "while (iter<500):\n",
    "    np.random.seed(seed)\n",
    "\n",
    "    beta = 0.7\n",
    "    ts_length = 100\n",
    "\n",
    "    x_values = []\n",
    "    y_values_1 = []\n",
    "    current_x = 0\n",
    "    current_e = 0\n",
    "\n",
    "    # iterating through to generate the model\n",
    "    for i in range(ts_length):\n",
    "    \n",
    "        current_x = current_x + np.random.randn()\n",
    "        x_values.append(current_x)\n",
    "    \n",
    "        current_e = current_e + np.random.randn()\n",
    "        \n",
    "        current_y = (beta * current_x) + current_e\n",
    "        y_values_1.append(current_y)\n",
    "    \n",
    "    x_minus_xbar_mult_y_minus_ybar = []\n",
    "    \n",
    "    # finding the averages to be used in the calc. of beta\n",
    "    y_sampleavg = np.sum(y_values_1)/100\n",
    "    \n",
    "    x_sampleavg = np.sum(x_values)/100\n",
    "    \n",
    "    # setting up to find the covar.\n",
    "    for i in range(ts_length):\n",
    "    \n",
    "        current_x = x_values[i]\n",
    "        x_minus_xbar = current_x - x_sampleavg\n",
    "    \n",
    "        current_y = y_values_1[i]\n",
    "        y_minus_ybar = current_y - y_sampleavg\n",
    "    \n",
    "        x_minus_xbar_mult_y_minus_ybar.append(x_minus_xbar * y_minus_ybar)\n",
    "\n",
    "    cov_x_y = (np.sum(x_minus_xbar_mult_y_minus_ybar)) / (100 - 1)\n",
    "    \n",
    "    b_est = (cov_x_y + (x_sampleavg - 0)*(y_sampleavg-0))/ (x_samplevar + (x_sampleavg-0)**2)\n",
    "    \n",
    "    b_est_500.append(b_est)\n",
    "    \n",
    "    iter+=1;\n",
    "    seed+= iter; \n",
    "    \n",
    "plt.hist(b_est_500)\n",
    "plt.xlabel(\"Average of B estimate\")\n",
    "plt.ylabel(\"Frequency\")\n",
    "plt.show()"
   ]
  },
  {
   "cell_type": "markdown",
   "metadata": {},
   "source": [
    "By taking the finding the histogram of 500 samples of beta we are able to see the distribution of the estimate of beta. In this case when T=100, the average beta appears to be around 0.025"
   ]
  },
  {
   "cell_type": "markdown",
   "metadata": {},
   "source": [
    "(a.6) Redo part (a.5) two more times, first with T = 200, then with T = 500. Plot the three sampling\n",
    "distributions of the OLS estimator in a histogram and comment."
   ]
  },
  {
   "cell_type": "markdown",
   "metadata": {},
   "source": [
    "For T = 200"
   ]
  },
  {
   "cell_type": "code",
   "execution_count": 223,
   "metadata": {
    "scrolled": true
   },
   "outputs": [
    {
     "data": {
      "image/png": "[encoded data removed]",
      "text/plain": [
       "<Figure size 432x288 with 1 Axes>"
      ]
     },
     "metadata": {
      "needs_background": "light"
     },
     "output_type": "display_data"
    }
   ],
   "source": [
    "b_est_500 = []\n",
    "\n",
    "seed = 10;\n",
    "iter = 0;\n",
    "\n",
    "while (iter<500):\n",
    "    np.random.seed(seed)\n",
    "\n",
    "    beta = 0.7\n",
    "    ts_length = 200\n",
    "\n",
    "    x_values = []\n",
    "    y_values_1 = []\n",
    "    current_x = 0\n",
    "    current_e = 0\n",
    "\n",
    "    # Generating our model\n",
    "    for i in range(ts_length):\n",
    "    \n",
    "        current_x = current_x + np.random.randn()\n",
    "        x_values.append(current_x)\n",
    "    \n",
    "        current_e = current_e + np.random.randn()\n",
    "        \n",
    "        current_y = (beta * current_x) + current_e\n",
    "        y_values_1.append(current_y)\n",
    "    \n",
    "    x_minus_xbar_mult_y_minus_ybar = []\n",
    "    \n",
    "    y_sampleavg = np.sum(y_values_1)/200\n",
    "    \n",
    "    x_sampleavg = np.sum(x_values)/200\n",
    "    \n",
    "    # Finding the Covariance\n",
    "    for i in range(ts_length):\n",
    "    \n",
    "        current_x = x_values[i]\n",
    "        x_minus_xbar = current_x - x_sampleavg\n",
    "    \n",
    "        current_y = y_values_1[i]\n",
    "        y_minus_ybar = current_y - y_sampleavg\n",
    "    \n",
    "        x_minus_xbar_mult_y_minus_ybar.append(x_minus_xbar * y_minus_ybar)\n",
    "\n",
    "    cov_x_y = (np.sum(x_minus_xbar_mult_y_minus_ybar)) / (200 - 1)\n",
    "    \n",
    "    b_est = (cov_x_y + (x_sampleavg - 0)*(y_sampleavg-0))/ (x_samplevar + (x_sampleavg-0)**2)\n",
    "    \n",
    "    b_est_500.append(b_est)\n",
    "    \n",
    "    iter+=1;\n",
    "    seed+= iter; \n",
    "    \n",
    "plt.hist(b_est_500)\n",
    "plt.xlabel(\"Average of B estimate\")\n",
    "plt.ylabel(\"Frequency\")\n",
    "plt.show()"
   ]
  },
  {
   "cell_type": "markdown",
   "metadata": {},
   "source": [
    "Again we are seeing a very similar distribution of the estimate of beta when T = 200 compared to when T = 100. The distribution appears to reduce its variance and narrow in more on the true parameter value of beta which appears to be around 0.04"
   ]
  },
  {
   "cell_type": "markdown",
   "metadata": {},
   "source": [
    "For T = 500"
   ]
  },
  {
   "cell_type": "code",
   "execution_count": 224,
   "metadata": {},
   "outputs": [
    {
     "data": {
      "image/png": "[encoded data removed]",
      "text/plain": [
       "<Figure size 432x288 with 1 Axes>"
      ]
     },
     "metadata": {
      "needs_background": "light"
     },
     "output_type": "display_data"
    }
   ],
   "source": [
    "b_est_500 = []\n",
    "\n",
    "seed = 10;\n",
    "iter = 0;\n",
    "\n",
    "while (iter<500):\n",
    "    np.random.seed(seed)\n",
    "\n",
    "    beta = 0.7\n",
    "    ts_length = 500\n",
    "    \n",
    "    x_values = []\n",
    "    y_values_1 = []\n",
    "    current_x = 0\n",
    "    current_e = 0\n",
    "\n",
    "    # Generating our model\n",
    "    for i in range(ts_length):\n",
    "    \n",
    "        current_x = current_x + np.random.randn()\n",
    "        x_values.append(current_x)\n",
    "    \n",
    "        current_e = current_e + np.random.randn()\n",
    "        \n",
    "        current_y = (beta * current_x) + current_e\n",
    "        y_values_1.append(current_y)\n",
    "    \n",
    "    x_minus_xbar_mult_y_minus_ybar = []\n",
    "    \n",
    "    # Finding the sample averages\n",
    "    y_sampleavg = np.sum(y_values_1)/500\n",
    "    \n",
    "    x_sampleavg = np.sum(x_values)/500\n",
    "    \n",
    "    # Finidng the Covar.\n",
    "    for i in range(ts_length):\n",
    "    \n",
    "        current_x = x_values[i]\n",
    "        x_minus_xbar = current_x - x_sampleavg\n",
    "    \n",
    "        current_y = y_values_1[i]\n",
    "        y_minus_ybar = current_y - y_sampleavg\n",
    "    \n",
    "        x_minus_xbar_mult_y_minus_ybar.append(x_minus_xbar * y_minus_ybar)\n",
    "\n",
    "    cov_x_y = (np.sum(x_minus_xbar_mult_y_minus_ybar)) / (500 - 1)\n",
    "    \n",
    "    b_est = (cov_x_y + (x_sampleavg - 0)*(y_sampleavg-0))/ (x_samplevar + (x_sampleavg-0)**2)\n",
    "    \n",
    "    b_est_500.append(b_est)\n",
    "    \n",
    "    iter+=1;\n",
    "    seed+= iter; \n",
    "    \n",
    "plt.hist(b_est_500)\n",
    "plt.xlabel(\"Average of B estimate\")\n",
    "plt.ylabel(\"Frequency\")\n",
    "plt.show()"
   ]
  },
  {
   "cell_type": "markdown",
   "metadata": {},
   "source": [
    "When we increase T to T = 500, we again see a very similar distribution to one we saw when T = 100 and T = 200. The aveage estimate again seems to be the same. However in increasing the size we do see more outliers in the data."
   ]
  },
  {
   "cell_type": "markdown",
   "metadata": {},
   "source": [
    "(b) We redo the analysis using a different Data Generating Process.\n",
    "Set the sample size to T = 100. First consider two correlated error terms, v\n",
    "x\n",
    "t and v\n",
    "y\n",
    "t\n",
    ", drawn from a joint\n",
    "normal distribution with zero means, unit variances, and correlation ρ = 0.7. As initial values, use v\n",
    "x\n",
    "0 = 0\n",
    "and v\n",
    "y\n",
    "0 = 0. Generate the error terms for the explanatory variable (e\n",
    "x\n",
    "t\n",
    ") and the error term for the dependent\n",
    "variable (e\n",
    "y\n",
    "t\n",
    ") using the following equations:"
   ]
  },
  {
   "cell_type": "code",
   "execution_count": 29,
   "metadata": {},
   "outputs": [],
   "source": [
    "seed = 15"
   ]
  },
  {
   "cell_type": "code",
   "execution_count": 30,
   "metadata": {},
   "outputs": [],
   "source": [
    "np.random.seed(seed)"
   ]
  },
  {
   "cell_type": "code",
   "execution_count": 31,
   "metadata": {},
   "outputs": [],
   "source": [
    "ts_length = 100\n",
    "\n",
    "mean = [0, 0]\n",
    "cov = np.matrix([\n",
    "    [1, 0.7], \n",
    "    [0.7, 1]\n",
    "])\n",
    "\n",
    "e_x_values = []\n",
    "e_y_values = []\n",
    "current_vx = 0\n",
    "current_vy = 0\n",
    "\n",
    "# Generating our model for the error terms\n",
    "for i in range(ts_length):\n",
    "    \n",
    "    current_vx = 0.1*current_vx + 0.7 * current_vy + current_vx\n",
    "    e_x_values.append(current_vx)\n",
    "    \n",
    "    current_vy = 0.4*current_vx + 0.3 * current_vy + current_vy\n",
    "    e_y_values.append(current_vy)\n",
    "    \n",
    "    joint_dist_sample = np.random.multivariate_normal(mean, cov, 1)\n",
    "    current_vx = joint_dist_sample[0][0]\n",
    "    current_vy = joint_dist_sample[0][1]"
   ]
  },
  {
   "cell_type": "code",
   "execution_count": 32,
   "metadata": {},
   "outputs": [
    {
     "data": {
      "text/plain": [
       "[<matplotlib.lines.Line2D at 0x7fb50c5577f0>]"
      ]
     },
     "execution_count": 32,
     "metadata": {},
     "output_type": "execute_result"
    },
    {
     "data": {
      "image/png": "[encoded data removed]",
      "text/plain": [
       "<Figure size 432x288 with 1 Axes>"
      ]
     },
     "metadata": {
      "needs_background": "light"
     },
     "output_type": "display_data"
    }
   ],
   "source": [
    "beta = 0.7\n",
    "ts_length = 100\n",
    "\n",
    "x_values = []\n",
    "y_values = []\n",
    "\n",
    "current_x = 0\n",
    "\n",
    "# Generating model for xt and yt by using the error terms we found above\n",
    "for i in range(ts_length):\n",
    "    \n",
    "    current_x = current_x + e_x_values[i]\n",
    "    x_values.append(current_x)\n",
    "    \n",
    "    current_y = (beta * current_x) + e_y_values[i]\n",
    "    y_values.append(current_y)\n",
    "    \n",
    "plt.plot(x_values)  "
   ]
  },
  {
   "cell_type": "markdown",
   "metadata": {},
   "source": [
    "(b.1) Compute the sample average and the sample standard deviation of both xt and yt. Comment."
   ]
  },
  {
   "cell_type": "code",
   "execution_count": 33,
   "metadata": {},
   "outputs": [
    {
     "name": "stdout",
     "output_type": "stream",
     "text": [
      "Sample Average xt: 3.452067403335871\n",
      "Sample Variance xt: 25.74994867658554\n",
      "Sample Standard Deviaton xt: 5.074440725497298\n"
     ]
    }
   ],
   "source": [
    "# Computing the sample average from the simulation\n",
    "\n",
    "x_sampleavg = np.sum(x_values)/100\n",
    "print(\"Sample Average xt:\", x_sampleavg)\n",
    "\n",
    "x_values = np.array(x_values)\n",
    "\n",
    "x_samplevar=np.sum(x_values*x_values)/100\n",
    "x_samplevar=x_samplevar-x_sampleavg*x_sampleavg\n",
    "print(\"Sample Variance xt:\", x_samplevar)\n",
    "print(\"Sample Standard Deviaton xt:\", np.sqrt(x_samplevar))"
   ]
  },
  {
   "cell_type": "code",
   "execution_count": 34,
   "metadata": {},
   "outputs": [
    {
     "name": "stdout",
     "output_type": "stream",
     "text": [
      "Sample Average yt: 2.592112159926785\n",
      "Sample Variance yt: 18.235052831370897\n",
      "Sample Standard Deviaton yt: 4.270252080541721\n"
     ]
    }
   ],
   "source": [
    "# Computing the sample average from the simulation\n",
    "\n",
    "y_sampleavg = np.sum(y_values)/100\n",
    "print(\"Sample Average yt:\", y_sampleavg)\n",
    "\n",
    "y_values = np.array(y_values)\n",
    "\n",
    "y_samplevar=np.sum(y_values*y_values)/100\n",
    "y_samplevar=y_samplevar-y_sampleavg*y_sampleavg\n",
    "print(\"Sample Variance yt:\", y_samplevar)\n",
    "print(\"Sample Standard Deviaton yt:\", np.sqrt(y_samplevar))"
   ]
  },
  {
   "cell_type": "markdown",
   "metadata": {},
   "source": [
    "We can see here that the sample average is for xt is 3.45 and for yt it is 2.59. Again because of the relationship between xt and yt we expect the average value of yt to be lower than xt"
   ]
  },
  {
   "cell_type": "markdown",
   "metadata": {},
   "source": [
    "(b.2) Compute the OLS estimate for βˆOLS. Comment."
   ]
  },
  {
   "cell_type": "code",
   "execution_count": 35,
   "metadata": {},
   "outputs": [],
   "source": [
    "# I will be following the same format as I did in the first part of this assignment by \n",
    "# solving for beta by using the formula to solve for a regression with an intercept\n",
    "\n",
    "ts_length = 100\n",
    "\n",
    "mean = [0, 0]\n",
    "cov = np.matrix([\n",
    "    [1, 0.7], \n",
    "    [0.7, 1]\n",
    "])\n",
    "\n",
    "x_minus_xbar_mult_y_minus_ybar = []\n",
    "    \n",
    "current_x = 0\n",
    "\n",
    "# Finding Covar.\n",
    "for i in range(ts_length):\n",
    "    \n",
    "    current_x = current_x + e_x_values[i]\n",
    "    x_minus_xbar = current_x - x_sampleavg\n",
    "    \n",
    "    current_y = (beta * current_x) + e_y_values[i]\n",
    "    y_minus_ybar = current_y - y_sampleavg\n",
    "    \n",
    "    x_minus_xbar_mult_y_minus_ybar.append(x_minus_xbar*y_minus_ybar)"
   ]
  },
  {
   "cell_type": "code",
   "execution_count": 36,
   "metadata": {},
   "outputs": [
    {
     "data": {
      "text/plain": [
       "20.298663815404396"
      ]
     },
     "execution_count": 36,
     "metadata": {},
     "output_type": "execute_result"
    }
   ],
   "source": [
    "cov_x_y = (np.sum(x_minus_xbar_mult_y_minus_ybar)) / (100 - 1)\n",
    "cov_x_y"
   ]
  },
  {
   "cell_type": "code",
   "execution_count": 37,
   "metadata": {},
   "outputs": [
    {
     "data": {
      "text/plain": [
       "0.7764629156770471"
      ]
     },
     "execution_count": 37,
     "metadata": {},
     "output_type": "execute_result"
    }
   ],
   "source": [
    "b_est = (cov_x_y + (x_sampleavg - 0)*(y_sampleavg-0))/ (x_samplevar + (x_sampleavg-0)**2)\n",
    "b_est"
   ]
  },
  {
   "cell_type": "markdown",
   "metadata": {},
   "source": [
    "The beta estimate for this model with T = 100 is 0.77"
   ]
  },
  {
   "cell_type": "markdown",
   "metadata": {},
   "source": [
    "(b.3) Now set the seed to a new value, using the formula:\n",
    "\n",
    "$$seed = seed + 100 $$"
   ]
  },
  {
   "cell_type": "code",
   "execution_count": 38,
   "metadata": {},
   "outputs": [],
   "source": [
    "seed = seed + 100"
   ]
  },
  {
   "cell_type": "code",
   "execution_count": 39,
   "metadata": {},
   "outputs": [],
   "source": [
    "np.random.seed(seed)"
   ]
  },
  {
   "cell_type": "code",
   "execution_count": 40,
   "metadata": {},
   "outputs": [],
   "source": [
    "ts_length = 100\n",
    "\n",
    "mean = [0, 0]\n",
    "cov = np.matrix([\n",
    "    [1, 0.7], \n",
    "    [0.7, 1]\n",
    "])\n",
    "\n",
    "e_x_values = []\n",
    "e_y_values = []\n",
    "current_vx = 0\n",
    "current_vy = 0\n",
    "\n",
    "# Generating the model for the error terms\n",
    "for i in range(ts_length):\n",
    "    \n",
    "    current_vx = 0.1*current_vx + 0.7 * current_vy + current_vx\n",
    "    e_x_values.append(current_vx)\n",
    "    \n",
    "    current_vy = 0.4*current_vx + 0.3 * current_vy + current_vy\n",
    "    e_y_values.append(current_vy)\n",
    "    \n",
    "    joint_dist_sample = np.random.multivariate_normal(mean, cov, 1)\n",
    "    current_vx = joint_dist_sample[0][0]\n",
    "    current_vy = joint_dist_sample[0][1]"
   ]
  },
  {
   "cell_type": "code",
   "execution_count": 41,
   "metadata": {},
   "outputs": [
    {
     "data": {
      "text/plain": [
       "[<matplotlib.lines.Line2D at 0x7fb50c63c910>]"
      ]
     },
     "execution_count": 41,
     "metadata": {},
     "output_type": "execute_result"
    },
    {
     "data": {
      "image/png": "[encoded data removed]",
      "text/plain": [
       "<Figure size 432x288 with 1 Axes>"
      ]
     },
     "metadata": {
      "needs_background": "light"
     },
     "output_type": "display_data"
    }
   ],
   "source": [
    "beta = 0.7\n",
    "ts_length = 100\n",
    "\n",
    "x_values = []\n",
    "y_values = []\n",
    "\n",
    "current_x = 0\n",
    "\n",
    "# Adding the error terms into the model for xt and yt\n",
    "for i in range(ts_length):\n",
    "    \n",
    "    current_x = current_x + e_x_values[i]\n",
    "    x_values.append(current_x)\n",
    "    \n",
    "    current_y = (beta * current_x) + e_y_values[i]\n",
    "    y_values.append(current_y)\n",
    "    \n",
    "plt.plot(x_values)  "
   ]
  },
  {
   "cell_type": "code",
   "execution_count": 42,
   "metadata": {},
   "outputs": [
    {
     "name": "stdout",
     "output_type": "stream",
     "text": [
      "Sample Average xt: -2.4026838846647505\n",
      "Sample Variance xt: 25.156940526541675\n",
      "Sample Standard Deviaton xt: 5.0156694993332325\n"
     ]
    }
   ],
   "source": [
    "# Computing the sample average from the simulation\n",
    "\n",
    "x_sampleavg = np.sum(x_values)/100\n",
    "print(\"Sample Average xt:\", x_sampleavg)\n",
    "\n",
    "x_values = np.array(x_values)\n",
    "\n",
    "x_samplevar=np.sum(x_values*x_values)/100\n",
    "x_samplevar=x_samplevar-x_sampleavg*x_sampleavg\n",
    "print(\"Sample Variance xt:\", x_samplevar)\n",
    "print(\"Sample Standard Deviaton xt:\", np.sqrt(x_samplevar))"
   ]
  },
  {
   "cell_type": "code",
   "execution_count": 43,
   "metadata": {},
   "outputs": [
    {
     "name": "stdout",
     "output_type": "stream",
     "text": [
      "Sample Average yt: -1.8117364687514819\n",
      "Sample Variance yt: 20.871625285052808\n",
      "Sample Standard Deviaton yt: 4.568547393324579\n"
     ]
    }
   ],
   "source": [
    "# Computing the sample average from the simulation\n",
    "\n",
    "y_sampleavg = np.sum(y_values)/100\n",
    "print(\"Sample Average yt:\", y_sampleavg)\n",
    "\n",
    "y_values = np.array(y_values)\n",
    "\n",
    "y_samplevar=np.sum(y_values*y_values)/100\n",
    "y_samplevar=y_samplevar-y_sampleavg*y_sampleavg\n",
    "print(\"Sample Variance yt:\", y_samplevar)\n",
    "print(\"Sample Standard Deviaton yt:\", np.sqrt(y_samplevar))"
   ]
  },
  {
   "cell_type": "code",
   "execution_count": 44,
   "metadata": {},
   "outputs": [],
   "source": [
    "# Find the estimate of beta\n",
    "ts_length = 100\n",
    "\n",
    "mean = [0, 0]\n",
    "cov = np.matrix([\n",
    "    [1, 0.7], \n",
    "    [0.7, 1]\n",
    "])\n",
    "\n",
    "x_minus_xbar_mult_y_minus_ybar = []\n",
    "\n",
    "current_x = 0\n",
    "\n",
    "# Finding Covar.\n",
    "for i in range(ts_length):\n",
    "    \n",
    "    current_x = current_x + e_x_values[i]\n",
    "    x_minus_xbar = current_x - x_sampleavg\n",
    "    \n",
    "    current_y = (beta * current_x) + e_y_values[i]\n",
    "    y_minus_ybar = current_y - y_sampleavg\n",
    "    \n",
    "    x_minus_xbar_mult_y_minus_ybar.append(x_minus_xbar*y_minus_ybar)"
   ]
  },
  {
   "cell_type": "code",
   "execution_count": 45,
   "metadata": {},
   "outputs": [
    {
     "name": "stdout",
     "output_type": "stream",
     "text": [
      "Covariance: 20.938952192685537\n",
      "B estimate: 0.817721335740042\n"
     ]
    }
   ],
   "source": [
    "cov_x_y = (np.sum(x_minus_xbar_mult_y_minus_ybar)) / (100 - 1)\n",
    "print('Covariance:', cov_x_y)\n",
    "b_est = (cov_x_y + (x_sampleavg - 0)*(y_sampleavg-0))/ (x_samplevar + (x_sampleavg-0)**2)\n",
    "print('B estimate:',b_est)"
   ]
  },
  {
   "cell_type": "markdown",
   "metadata": {},
   "source": [
    "We can see changing the seed changed all of the parameter values as it did in the first \n",
    "part of the assignment. While our beta estimate is similiar to the result with the original seed, we the sample averages of xt and yt and now negative in this model"
   ]
  },
  {
   "cell_type": "markdown",
   "metadata": {},
   "source": [
    "(b.4) Now reset the seed to its original value, and set the sample size to T = 10, 000. Create the new\n",
    "values for xt and yt using the same procedure as above. Redo parts (b.1) and (b.2). Comment on how the\n",
    "results are affected by the sample size."
   ]
  },
  {
   "cell_type": "code",
   "execution_count": 46,
   "metadata": {},
   "outputs": [],
   "source": [
    "seed = 15"
   ]
  },
  {
   "cell_type": "code",
   "execution_count": 47,
   "metadata": {},
   "outputs": [],
   "source": [
    "np.random.seed(seed)"
   ]
  },
  {
   "cell_type": "code",
   "execution_count": 48,
   "metadata": {},
   "outputs": [],
   "source": [
    "ts_length = 10000\n",
    "\n",
    "mean = [0, 0]\n",
    "cov = np.matrix([\n",
    "    [1, 0.7], \n",
    "    [0.7, 1]\n",
    "])\n",
    "\n",
    "e_x_values = []\n",
    "e_y_values = []\n",
    "current_vx = 0\n",
    "current_vy = 0\n",
    "\n",
    "# Generating model for error terms.\n",
    "for i in range(ts_length):\n",
    "    \n",
    "    current_vx = 0.1*current_vx + 0.7 * current_vy + current_vx\n",
    "    e_x_values.append(current_vx)\n",
    "    \n",
    "    current_vy = 0.4*current_vx + 0.3 * current_vy + current_vy\n",
    "    e_y_values.append(current_vy)\n",
    "    \n",
    "    joint_dist_sample = np.random.multivariate_normal(mean, cov, 1)\n",
    "    current_vx = joint_dist_sample[0][0]\n",
    "    current_vy = joint_dist_sample[0][1]"
   ]
  },
  {
   "cell_type": "code",
   "execution_count": 49,
   "metadata": {},
   "outputs": [
    {
     "data": {
      "text/plain": [
       "[<matplotlib.lines.Line2D at 0x7fb50c8259a0>]"
      ]
     },
     "execution_count": 49,
     "metadata": {},
     "output_type": "execute_result"
    },
    {
     "data": {
      "image/png": "[encoded data removed]",
      "text/plain": [
       "<Figure size 432x288 with 1 Axes>"
      ]
     },
     "metadata": {
      "needs_background": "light"
     },
     "output_type": "display_data"
    }
   ],
   "source": [
    "beta = 0.7\n",
    "ts_length = 10000\n",
    "\n",
    "x_values = []\n",
    "y_values = []\n",
    "\n",
    "current_x = 0\n",
    "\n",
    "# Generating model in terms of xt and yt\n",
    "for i in range(ts_length):\n",
    "    \n",
    "    current_x = current_x + e_x_values[i]\n",
    "    x_values.append(current_x)\n",
    "    \n",
    "    current_y = (beta * current_x) + e_y_values[i]\n",
    "    y_values.append(current_y)\n",
    "    \n",
    "plt.plot(x_values)  "
   ]
  },
  {
   "cell_type": "code",
   "execution_count": 50,
   "metadata": {},
   "outputs": [
    {
     "name": "stdout",
     "output_type": "stream",
     "text": [
      "Sample Average xt: 73.47537644341602\n",
      "Sample Variance xt: 2465.7247939924537\n",
      "Sample Standard Deviaton xt: 49.65606502726987\n"
     ]
    }
   ],
   "source": [
    "# Computing the sample average from the simulation\n",
    "\n",
    "x_sampleavg = np.sum(x_values)/10000\n",
    "print(\"Sample Average xt:\", x_sampleavg)\n",
    "\n",
    "x_values = np.array(x_values)\n",
    "\n",
    "x_samplevar=np.sum(x_values*x_values)/10000\n",
    "x_samplevar=x_samplevar-x_sampleavg*x_sampleavg\n",
    "print(\"Sample Variance xt:\", x_samplevar)\n",
    "print(\"Sample Standard Deviaton xt:\", np.sqrt(x_samplevar))"
   ]
  },
  {
   "cell_type": "code",
   "execution_count": 51,
   "metadata": {},
   "outputs": [
    {
     "name": "stdout",
     "output_type": "stream",
     "text": [
      "Sample Average yt: 51.44624138840982\n",
      "Sample Variance yt: 1213.5284737788024\n",
      "Sample Standard Deviaton yt: 34.835735585441604\n"
     ]
    }
   ],
   "source": [
    "# Computing the sample average from the simulation\n",
    "\n",
    "y_sampleavg = np.sum(y_values)/10000\n",
    "print(\"Sample Average yt:\", y_sampleavg)\n",
    "\n",
    "y_values = np.array(y_values)\n",
    "\n",
    "y_samplevar=np.sum(y_values*y_values)/10000\n",
    "y_samplevar=y_samplevar-y_sampleavg*y_sampleavg\n",
    "print(\"Sample Variance yt:\", y_samplevar)\n",
    "print(\"Sample Standard Deviaton yt:\", np.sqrt(y_samplevar))"
   ]
  },
  {
   "cell_type": "code",
   "execution_count": 52,
   "metadata": {},
   "outputs": [],
   "source": [
    "# Find the estimate of beta\n",
    "ts_length = 10000\n",
    "\n",
    "mean = [0, 0]\n",
    "cov = np.matrix([\n",
    "    [1, 0.7], \n",
    "    [0.7, 1]\n",
    "])\n",
    "\n",
    "x_minus_xbar_mult_y_minus_ybar = []\n",
    "    \n",
    "current_x = 0\n",
    "\n",
    "# Finding the covar\n",
    "for i in range(ts_length):\n",
    "    \n",
    "    current_x = current_x + e_x_values[i]\n",
    "    x_minus_xbar = current_x - x_sampleavg\n",
    "    \n",
    "    current_y = (beta * current_x) + e_y_values[i]\n",
    "    y_minus_ybar = current_y - y_sampleavg\n",
    "    \n",
    "    x_minus_xbar_mult_y_minus_ybar.append(x_minus_xbar*y_minus_ybar)"
   ]
  },
  {
   "cell_type": "code",
   "execution_count": 54,
   "metadata": {
    "scrolled": true
   },
   "outputs": [
    {
     "name": "stdout",
     "output_type": "stream",
     "text": [
      "Covariance: 1727.2954687638246\n",
      "Beta estimate: 0.7002897128774732\n"
     ]
    }
   ],
   "source": [
    "cov_x_y = (np.sum(x_minus_xbar_mult_y_minus_ybar)) / (10000 - 1)\n",
    "print('Covariance:', cov_x_y)\n",
    "b_est = (cov_x_y + (x_sampleavg - 0)*(y_sampleavg-0))/ (x_samplevar + (x_sampleavg-0)**2)\n",
    "print('Beta estimate:',b_est)"
   ]
  },
  {
   "cell_type": "markdown",
   "metadata": {},
   "source": [
    "Because we are working with a non-stationary model similarly to the first example when we substantially increase the sample size we can expect an substantial increase in the sample averages of xt and yt and also the sample standard deviations of both. Which is exactly what we see here. Our beta estimate is again inline with our results from the previous examples"
   ]
  },
  {
   "cell_type": "markdown",
   "metadata": {},
   "source": [
    "(b.5) Set the sample size to T = 100. Create 500 different datasets, using a do-loop and setting the seed\n",
    "to seed=seed+iter, where iter stands for the iteration number. Compute the 500 OLS estimates βˆOLS\n",
    "and plot them in a histogram. Comment."
   ]
  },
  {
   "cell_type": "code",
   "execution_count": 225,
   "metadata": {
    "scrolled": false
   },
   "outputs": [
    {
     "data": {
      "image/png": "[encoded data removed]",
      "text/plain": [
       "<Figure size 432x288 with 1 Axes>"
      ]
     },
     "metadata": {
      "needs_background": "light"
     },
     "output_type": "display_data"
    }
   ],
   "source": [
    "b_est_500 = []\n",
    "\n",
    "seed = 10;\n",
    "iter = 0;\n",
    "\n",
    "while (iter<500):\n",
    "    np.random.seed(seed)\n",
    "\n",
    "    beta = 0.7\n",
    "    ts_length = 100\n",
    "\n",
    "\n",
    "    mean = [0, 0]\n",
    "    cov = np.matrix([\n",
    "        [1, 0.7], \n",
    "        [0.7, 1]\n",
    "        ])\n",
    "    \n",
    "    e_x_values = []\n",
    "    e_y_values = []\n",
    "    current_vx = 0\n",
    "    current_vy = 0\n",
    "\n",
    "    # Generating our error terms\n",
    "    for i in range(ts_length):\n",
    "    \n",
    "        current_vx = 0.1*current_vx + 0.7 * current_vy + current_vx\n",
    "        e_x_values.append(current_vx)\n",
    "    \n",
    "        current_vy = 0.4*current_vx + 0.3 * current_vy + current_vy\n",
    "        e_y_values.append(current_vy)\n",
    "    \n",
    "        joint_dist_sample = np.random.multivariate_normal(mean, cov, 1)\n",
    "        current_vx = joint_dist_sample[0][0]\n",
    "        current_vy = joint_dist_sample[0][1]\n",
    "        \n",
    "    x_values = []\n",
    "    y_values = []\n",
    "\n",
    "    current_x = 0\n",
    "\n",
    "    # Generating models in terms of xt and yt\n",
    "    for i in range(ts_length):\n",
    "    \n",
    "        current_x = current_x + e_x_values[i]\n",
    "        x_values.append(current_x)\n",
    "    \n",
    "        current_y = (beta * current_x) + e_y_values[i]\n",
    "        y_values.append(current_y)\n",
    "    \n",
    "    x_minus_xbar_mult_y_minus_ybar = []\n",
    "    \n",
    "    # finding the sample averages\n",
    "    y_sampleavg = np.sum(y_values_1)/100\n",
    "    \n",
    "    x_sampleavg = np.sum(x_values)/100\n",
    "    \n",
    "    current_x = 0\n",
    "    \n",
    "    # finding the covariance\n",
    "    for i in range(ts_length):\n",
    "    \n",
    "        current_x = current_x + e_x_values[i]\n",
    "        x_minus_xbar = current_x - x_sampleavg\n",
    "    \n",
    "        current_y = (beta * current_x) + e_y_values[i]\n",
    "        y_minus_ybar = current_y - y_sampleavg\n",
    "    \n",
    "        x_minus_xbar_mult_y_minus_ybar.append(x_minus_xbar * y_minus_ybar)\n",
    "\n",
    "    cov_x_y = (np.sum(x_minus_xbar_mult_y_minus_ybar)) / (100 - 1)\n",
    "    \n",
    "    b_est = (cov_x_y + (x_sampleavg - 0)*(y_sampleavg-0))/ (x_samplevar + (x_sampleavg-0)**2)\n",
    "    \n",
    "    b_est_500.append(b_est)\n",
    "    \n",
    "    iter+=1;\n",
    "    seed+= iter; \n",
    "    \n",
    "plt.hist(b_est_500)\n",
    "plt.xlabel(\"Average of B estimate\")\n",
    "plt.ylabel(\"Frequency\")\n",
    "plt.show()"
   ]
  },
  {
   "cell_type": "markdown",
   "metadata": {},
   "source": [
    "We can see that over T = 100 iterations the average estimate of beta appears to be around 0."
   ]
  },
  {
   "cell_type": "markdown",
   "metadata": {},
   "source": [
    "(b.6) Redo part (b.5) two more times, first with T = 200, then with T = 500. Plot the three sampling\n",
    "distributions of the OLS estimator in a histogram and comment"
   ]
  },
  {
   "cell_type": "markdown",
   "metadata": {},
   "source": [
    "For T = 200"
   ]
  },
  {
   "cell_type": "code",
   "execution_count": 226,
   "metadata": {
    "scrolled": true
   },
   "outputs": [
    {
     "data": {
      "image/png": "[encoded data removed]",
      "text/plain": [
       "<Figure size 432x288 with 1 Axes>"
      ]
     },
     "metadata": {
      "needs_background": "light"
     },
     "output_type": "display_data"
    }
   ],
   "source": [
    "b_est_500 = []\n",
    "\n",
    "seed = 10;\n",
    "iter = 0;\n",
    "\n",
    "while (iter<500):\n",
    "    np.random.seed(seed)\n",
    "\n",
    "    beta = 0.7\n",
    "    ts_length = 200\n",
    "\n",
    "\n",
    "    mean = [0, 0]\n",
    "    cov = np.matrix([\n",
    "        [1, 0.7], \n",
    "        [0.7, 1]\n",
    "        ])\n",
    "    \n",
    "    e_x_values = []\n",
    "    e_y_values = []\n",
    "    current_vx = 0\n",
    "    current_vy = 0\n",
    "\n",
    "    # generating model for error terms\n",
    "    for i in range(ts_length):\n",
    "    \n",
    "        current_vx = 0.1*current_vx + 0.7 * current_vy + current_vx\n",
    "        e_x_values.append(current_vx)\n",
    "    \n",
    "        current_vy = 0.4*current_vx + 0.3 * current_vy + current_vy\n",
    "        e_y_values.append(current_vy)\n",
    "    \n",
    "        joint_dist_sample = np.random.multivariate_normal(mean, cov, 1)\n",
    "        current_vx = joint_dist_sample[0][0]\n",
    "        current_vy = joint_dist_sample[0][1]\n",
    "        \n",
    "    x_values = []\n",
    "    y_values = []\n",
    "\n",
    "    current_x = 0\n",
    "\n",
    "    # generating model for xt and yt\n",
    "    for i in range(ts_length):\n",
    "    \n",
    "        current_x = current_x + e_x_values[i]\n",
    "        x_values.append(current_x)\n",
    "    \n",
    "        current_y = (beta * current_x) + e_y_values[i]\n",
    "        y_values.append(current_y)\n",
    "    \n",
    "    x_minus_xbar_mult_y_minus_ybar = []\n",
    "    \n",
    "    # finding sample averages\n",
    "    y_sampleavg = np.sum(y_values_1)/200\n",
    "    \n",
    "    x_sampleavg = np.sum(x_values)/200\n",
    "    \n",
    "    current_x = 0\n",
    "    \n",
    "    # finding the covariance\n",
    "    for i in range(ts_length):\n",
    "    \n",
    "        current_x = current_x + e_x_values[i]\n",
    "        x_minus_xbar = current_x - x_sampleavg\n",
    "    \n",
    "        current_y = (beta * current_x) + e_y_values[i]\n",
    "        y_minus_ybar = current_y - y_sampleavg\n",
    "    \n",
    "        x_minus_xbar_mult_y_minus_ybar.append(x_minus_xbar * y_minus_ybar)\n",
    "\n",
    "    cov_x_y = (np.sum(x_minus_xbar_mult_y_minus_ybar)) / (200 - 1)\n",
    "    \n",
    "    b_est = (cov_x_y + (x_sampleavg - 0)*(y_sampleavg-0))/ (x_samplevar + (x_sampleavg-0)**2)\n",
    "    \n",
    "    b_est_500.append(b_est)\n",
    "    \n",
    "    iter+=1;\n",
    "    seed+= iter; \n",
    "    \n",
    "plt.hist(b_est_500)\n",
    "plt.xlabel(\"Average of B estimate\")\n",
    "plt.ylabel(\"Frequency\")\n",
    "plt.show()"
   ]
  },
  {
   "cell_type": "markdown",
   "metadata": {},
   "source": [
    "When T = 200 we see it center even more on the true value which appears to be around 0.00"
   ]
  },
  {
   "cell_type": "markdown",
   "metadata": {},
   "source": [
    "For T = 500"
   ]
  },
  {
   "cell_type": "code",
   "execution_count": 227,
   "metadata": {
    "scrolled": true
   },
   "outputs": [
    {
     "data": {
      "image/png": "[encoded data removed]",
      "text/plain": [
       "<Figure size 432x288 with 1 Axes>"
      ]
     },
     "metadata": {
      "needs_background": "light"
     },
     "output_type": "display_data"
    }
   ],
   "source": [
    "b_est_500 = []\n",
    "\n",
    "seed = 10;\n",
    "iter = 0;\n",
    "\n",
    "while (iter<500):\n",
    "    np.random.seed(seed)\n",
    "    \n",
    "    beta = 0.7\n",
    "    ts_length = 500\n",
    "\n",
    "\n",
    "    mean = [0, 0]\n",
    "    cov = np.matrix([\n",
    "        [1, 0.7], \n",
    "        [0.7, 1]\n",
    "        ])\n",
    "    \n",
    "    e_x_values = []\n",
    "    e_y_values = []\n",
    "    current_vx = 0\n",
    "    current_vy = 0\n",
    "\n",
    "    # generating our error terms\n",
    "    for i in range(ts_length):\n",
    "    \n",
    "        current_vx = 0.1*current_vx + 0.7 * current_vy + current_vx\n",
    "        e_x_values.append(current_vx)\n",
    "    \n",
    "        current_vy = 0.4*current_vx + 0.3 * current_vy + current_vy\n",
    "        e_y_values.append(current_vy)\n",
    "    \n",
    "        joint_dist_sample = np.random.multivariate_normal(mean, cov, 1)\n",
    "        current_vx = joint_dist_sample[0][0]\n",
    "        current_vy = joint_dist_sample[0][1]\n",
    "        \n",
    "    x_values = []\n",
    "    y_values = []\n",
    "\n",
    "    current_x = 0\n",
    "\n",
    "    # generating our model for xt and yt\n",
    "    for i in range(ts_length):\n",
    "    \n",
    "        current_x = current_x + e_x_values[i]\n",
    "        x_values.append(current_x)\n",
    "    \n",
    "        current_y = (beta * current_x) + e_y_values[i]\n",
    "        y_values.append(current_y)\n",
    "    \n",
    "    x_minus_xbar_mult_y_minus_ybar = []\n",
    "    \n",
    "    y_sampleavg = np.sum(y_values_1)/500\n",
    "    \n",
    "    x_sampleavg = np.sum(x_values)/500\n",
    "    \n",
    "    current_x = 0\n",
    "    \n",
    "    # finding the covariance\n",
    "    for i in range(ts_length):\n",
    "    \n",
    "        current_x = current_x + e_x_values[i]\n",
    "        x_minus_xbar = current_x - x_sampleavg\n",
    "    \n",
    "        current_y = (beta * current_x) + e_y_values[i]\n",
    "        y_minus_ybar = current_y - y_sampleavg\n",
    "    \n",
    "        x_minus_xbar_mult_y_minus_ybar.append(x_minus_xbar * y_minus_ybar)\n",
    "\n",
    "\n",
    "    cov_x_y = (np.sum(x_minus_xbar_mult_y_minus_ybar)) / (500 - 1)\n",
    "    \n",
    "    b_est = (cov_x_y + (x_sampleavg - 0)*(y_sampleavg-0))/ (x_samplevar + (x_sampleavg-0)**2)\n",
    "    \n",
    "    b_est_500.append(b_est)\n",
    "    \n",
    "    iter+=1;\n",
    "    seed+= iter; \n",
    "    \n",
    "plt.hist(b_est_500)\n",
    "plt.xlabel(\"Average of B estimate\")\n",
    "plt.ylabel(\"Frequency\")\n",
    "plt.show()"
   ]
  },
  {
   "cell_type": "markdown",
   "metadata": {},
   "source": [
    "When T = 500 we see it center even more on the true value of around 0.05"
   ]
  },
  {
   "cell_type": "markdown",
   "metadata": {},
   "source": [
    "#### Question 2: Optimal Redistribution Policies"
   ]
  },
  {
   "cell_type": "markdown",
   "metadata": {},
   "source": [
    "In this question, we want to study the design of an optimal income taxation scheme, in a situation where\n",
    "the tax revenues are only used to finance redistribution across different individuals.\n",
    "Individuals differ in their ability, captured by the wages w that they can earn in their job (each individual\n",
    "has only one job). These wages are log-normally distributed, with probability density function f(w) and\n",
    "parameters µ and σ\n",
    "2\n",
    ": w ∼ LN(µ, σ2\n",
    ").\n",
    "Suppose the agents maximize their utility, which depends on two goods: (disposable) income y and\n",
    "leisure l. The utility function is denoted by u(y, l) and it is assumed to be Cobb-Douglas (with parameter\n",
    "0 < η < 1):\n",
    "$$u(y,l) = y^{η}l^{1-η}$$\n",
    "Individuals have to allocate their time between leisure and hours worked h. In particular, we normalize\n",
    "the total time endowment to 1, so that the time constraint is:\n",
    "$$l + h = 1$$\n",
    "In order to compare different policies, we use a simple “Social Welfare Function” (SWF). In particular, we\n",
    "work with the average utility (which corresponds to the aggregate utility, as we are considering a population\n",
    "size equal to 1):\n",
    "$$SWF = E[u(y,l)] = \\int_0^∞ f(w) u(y(w), l(w))dw $$\n",
    "Notice how income and leisure can potentially vary with the individuals’ wages, namely the notation\n",
    "y(w) (l(w)) denotes that income (leisure) may depend on the agent’s ability.\n",
    "(a) To start with, we consider a situation without a government, and with a fixed number of hours worked\n",
    "$\\bar h$. In this case the individuals’ budget constraint is:\n",
    "$$y(w) = w \\bar h$$\n",
    "Compute the average utility in this economy, with different parameter values. In one case they are:\n",
    "$$η = 0.5, σ^{2} = 0.5, µ = \\frac {−σ^{2}}{2}, \\bar h = 0.4.$$\n",
    "In another case they are:\n",
    "$$η = 0.5, σ^{2} = 0.8, µ = \\frac {−σ^{2}}{2}, \\bar h = 0.4.$$\n",
    "In a final case they are:\n",
    "$$η = 0.5, σ^{2} = 0.5, µ = −σ^{2}, \\bar h = 0.4.$$"
   ]
  },
  {
   "cell_type": "markdown",
   "metadata": {},
   "source": [
    "Setting up the functions we need to use Gaussian Quadrature Methods"
   ]
  },
  {
   "cell_type": "code",
   "execution_count": 63,
   "metadata": {},
   "outputs": [],
   "source": [
    "def _qnwnorm1(n):\n",
    "    maxit = 100\n",
    "    pim4 = 1 / np.pi**(0.25)\n",
    "    m = np.fix((n + 1) / 2).astype(int)\n",
    "    nodes = np.zeros(n)\n",
    "    weights = np.zeros(n)\n",
    "\n",
    "    for i in range(m):\n",
    "        if i == 0:\n",
    "            z = np.sqrt(2*n+1) - 1.85575 * ((2 * n + 1)**(-1 / 6.1))\n",
    "        elif i == 1:\n",
    "            z = z - 1.14 * (n ** 0.426) / z\n",
    "        elif i == 2:\n",
    "            z = 1.86 * z + 0.86 * nodes[0]\n",
    "        elif i == 3:\n",
    "            z = 1.91 * z + 0.91 * nodes[1]\n",
    "        else:\n",
    "            z = 2 * z + nodes[i-2]\n",
    "\n",
    "        its = 0\n",
    "\n",
    "        while its < maxit:\n",
    "            its += 1\n",
    "            p1 = pim4\n",
    "            p2 = 0\n",
    "            for j in range(1, n+1):\n",
    "                p3 = p2\n",
    "                p2 = p1\n",
    "                p1 = z * math.sqrt(2.0/j) * p2 - math.sqrt((j - 1.0) / j) * p3\n",
    "\n",
    "            pp = math.sqrt(2 * n) * p2\n",
    "            z1 = z\n",
    "            z = z1 - p1/pp\n",
    "            if abs(z - z1) < 1e-14:\n",
    "                break\n",
    "\n",
    "        if its == maxit:\n",
    "            raise ValueError(\"Failed to converge in _qnwnorm1\")\n",
    "\n",
    "        nodes[n - 1 - i] = z\n",
    "        nodes[i] = -z\n",
    "        weights[i] = 2 / (pp*pp)\n",
    "        weights[n - 1 - i] = weights[i]\n",
    "\n",
    "    weights /= math.sqrt(math.pi)\n",
    "    nodes = nodes * math.sqrt(2.0)\n",
    "\n",
    "    return nodes, weights"
   ]
  },
  {
   "cell_type": "code",
   "execution_count": 64,
   "metadata": {},
   "outputs": [],
   "source": [
    "def qnwnorm(n, mu=None, sig2=None, usesqrtm=False):\n",
    "    n = np.asarray(n)\n",
    "    d = n.size\n",
    "\n",
    "    if mu is None:\n",
    "        mu = np.zeros(d)\n",
    "    else:\n",
    "        mu = np.asarray(mu)\n",
    "\n",
    "    if sig2 is None:\n",
    "        sig2 = np.eye(d)\n",
    "    else:\n",
    "        sig2 = np.asarray(sig2).reshape(d, d)\n",
    "\n",
    "    if all([x.size == 1 for x in [n, mu, sig2]]):\n",
    "        nodes, weights = _qnwnorm1(n)\n",
    "    else:\n",
    "        nodes = []\n",
    "        weights = []\n",
    "\n",
    "        for i in range(d):\n",
    "            _1d = _qnwnorm1(n[i])\n",
    "            nodes.append(_1d[0])\n",
    "            weights.append(_1d[1])\n",
    "\n",
    "        nodes = gridmake(*nodes)\n",
    "        weights = ckron(*weights[::-1])\n",
    "\n",
    "    if usesqrtm:\n",
    "        new_sig2 = la.sqrtm(sig2)\n",
    "    else:  # cholesky\n",
    "        new_sig2 = la.cholesky(sig2)\n",
    "\n",
    "    if d > 1:\n",
    "        nodes = nodes.dot(new_sig2) + mu  # Broadcast ok\n",
    "    else:  # nodes.dot(sig) will not be aligned in scalar case.\n",
    "        nodes = nodes * new_sig2 + mu\n",
    "\n",
    "    return nodes.squeeze(), weights"
   ]
  },
  {
   "cell_type": "code",
   "execution_count": 65,
   "metadata": {},
   "outputs": [],
   "source": [
    "def qnwlogn(n, mu=None, sig2=None):\n",
    "    nodes, weights = qnwnorm(n, mu, sig2)\n",
    "    return np.exp(nodes), weights"
   ]
  },
  {
   "cell_type": "markdown",
   "metadata": {},
   "source": [
    "For the first case:\n",
    "$$η = 0.5, σ^{2} = 0.5, µ = \\frac {−σ^{2}}{2}, \\bar h = 0.4.$$"
   ]
  },
  {
   "cell_type": "code",
   "execution_count": 204,
   "metadata": {},
   "outputs": [],
   "source": [
    "# Creating a dataframe to load the results in too\n",
    "df = pd.DataFrame(columns = [\"case\", \"η\", \"var\", \"mu\", \"hbar\", \"Expected Utility\"])"
   ]
  },
  {
   "cell_type": "code",
   "execution_count": 205,
   "metadata": {},
   "outputs": [
    {
     "name": "stdout",
     "output_type": "stream",
     "text": [
      "The expected utility is: 0.46021653231962567\n"
     ]
    }
   ],
   "source": [
    "n = 100\n",
    "\n",
    "# eta = η\n",
    "eta = 0.5\n",
    "var = 0.5\n",
    "mu = (-var)/2\n",
    "hbar = 0.4\n",
    "l = 1 - hbar\n",
    "\n",
    "w, weights = qnwlogn(n,mu,var)\n",
    "\n",
    "# Computing the expected values given the params\n",
    "expectedutility = weights@((w*hbar)**eta)*(l**(1-eta))\n",
    "print(\"The expected utility is:\", expectedutility)"
   ]
  },
  {
   "cell_type": "code",
   "execution_count": 206,
   "metadata": {},
   "outputs": [],
   "source": [
    "# Appending the variables and results into the dataframe\n",
    "df = df.append({\"case\":1, \"η\":eta, \"var\":var, \"mu\":mu, \"hbar\":hbar, \"Expected Utility\":expectedutility}, ignore_index=True)"
   ]
  },
  {
   "cell_type": "markdown",
   "metadata": {},
   "source": [
    "For Case 2\n",
    "$$η = 0.5, σ^{2} = 0.8, µ = \\frac {−σ^{2}}{2}, \\bar h = 0.4.$$"
   ]
  },
  {
   "cell_type": "code",
   "execution_count": 207,
   "metadata": {},
   "outputs": [
    {
     "name": "stdout",
     "output_type": "stream",
     "text": [
      "The expected utility is: 0.4432779948730976\n"
     ]
    }
   ],
   "source": [
    "n = 100\n",
    "\n",
    "eta = 0.5\n",
    "var = 0.8\n",
    "mu = (-var)/2\n",
    "hbar = 0.4\n",
    "l = 1 - hbar\n",
    "\n",
    "w, weights = qnwlogn(n,mu,var)\n",
    "\n",
    "\n",
    "#Let's compute the expected utility, given the parameter values\n",
    "expectedutility = weights@(((w*hbar)**eta)*(l**(1-eta)))\n",
    "print(\"The expected utility is:\", expectedutility)"
   ]
  },
  {
   "cell_type": "code",
   "execution_count": 208,
   "metadata": {},
   "outputs": [],
   "source": [
    "# Appending the variables and results into the dataframe\n",
    "df = df.append({\"case\":1, \"η\":eta, \"var\":var, \"mu\":mu, \"hbar\":hbar, \"Expected Utility\":expectedutility}, ignore_index=True)"
   ]
  },
  {
   "cell_type": "markdown",
   "metadata": {},
   "source": [
    "For Case 3:\n",
    "\n",
    "$$η = 0.5, σ^{2} = 0.5, µ = −σ^{2}, \\bar h = 0.4.$$"
   ]
  },
  {
   "cell_type": "code",
   "execution_count": 209,
   "metadata": {},
   "outputs": [
    {
     "name": "stdout",
     "output_type": "stream",
     "text": [
      "The expected utility is: 0.40613966429029297\n"
     ]
    }
   ],
   "source": [
    "n = 100\n",
    "\n",
    "eta = 0.5\n",
    "var = 0.5\n",
    "mu = (-var)\n",
    "ybar = np.exp(mu + var/2)\n",
    "hbar = 0.4\n",
    "l = 1 - hbar\n",
    "\n",
    "w, weights = qnwlogn(n,mu,var)\n",
    "\n",
    "expectedutility = weights@((w*hbar)**eta)*(l**(1-eta))\n",
    "print(\"The expected utility is:\", expectedutility)"
   ]
  },
  {
   "cell_type": "code",
   "execution_count": 210,
   "metadata": {},
   "outputs": [],
   "source": [
    "# Appending the variables and results into the dataframe\n",
    "df = df.append({\"case\":1, \"η\":eta, \"var\":var, \"mu\":mu, \"hbar\":hbar, \"Expected Utility\":expectedutility}, ignore_index=True)"
   ]
  },
  {
   "cell_type": "code",
   "execution_count": 211,
   "metadata": {},
   "outputs": [
    {
     "data": {
      "text/html": [
       "<div>\n",
       "<style scoped>\n",
       "    .dataframe tbody tr th:only-of-type {\n",
       "        vertical-align: middle;\n",
       "    }\n",
       "\n",
       "    .dataframe tbody tr th {\n",
       "        vertical-align: top;\n",
       "    }\n",
       "\n",
       "    .dataframe thead th {\n",
       "        text-align: right;\n",
       "    }\n",
       "</style>\n",
       "<table border=\"1\" class=\"dataframe\">\n",
       "  <thead>\n",
       "    <tr style=\"text-align: right;\">\n",
       "      <th></th>\n",
       "      <th>case</th>\n",
       "      <th>η</th>\n",
       "      <th>var</th>\n",
       "      <th>mu</th>\n",
       "      <th>hbar</th>\n",
       "      <th>Expected Utility</th>\n",
       "    </tr>\n",
       "  </thead>\n",
       "  <tbody>\n",
       "    <tr>\n",
       "      <th>0</th>\n",
       "      <td>1.0</td>\n",
       "      <td>0.5</td>\n",
       "      <td>0.5</td>\n",
       "      <td>-0.25</td>\n",
       "      <td>0.4</td>\n",
       "      <td>0.460217</td>\n",
       "    </tr>\n",
       "    <tr>\n",
       "      <th>1</th>\n",
       "      <td>1.0</td>\n",
       "      <td>0.5</td>\n",
       "      <td>0.8</td>\n",
       "      <td>-0.40</td>\n",
       "      <td>0.4</td>\n",
       "      <td>0.443278</td>\n",
       "    </tr>\n",
       "    <tr>\n",
       "      <th>2</th>\n",
       "      <td>1.0</td>\n",
       "      <td>0.5</td>\n",
       "      <td>0.5</td>\n",
       "      <td>-0.50</td>\n",
       "      <td>0.4</td>\n",
       "      <td>0.406140</td>\n",
       "    </tr>\n",
       "  </tbody>\n",
       "</table>\n",
       "</div>"
      ],
      "text/plain": [
       "   case    η  var    mu  hbar  Expected Utility\n",
       "0   1.0  0.5  0.5 -0.25   0.4          0.460217\n",
       "1   1.0  0.5  0.8 -0.40   0.4          0.443278\n",
       "2   1.0  0.5  0.5 -0.50   0.4          0.406140"
      ]
     },
     "execution_count": 211,
     "metadata": {},
     "output_type": "execute_result"
    }
   ],
   "source": [
    "df.head()"
   ]
  },
  {
   "cell_type": "markdown",
   "metadata": {},
   "source": [
    "Looking at the above table we notice that the expected utility was the highest when the average of the wage distribution (mu) was the highest and the variance of the wage distribution (var) which logically makes sense. The higher the average wage and the more likely you are to get that wage the happier you will be. If you increase the variance of the wage distribution because of the relationship with the average you actually decrease the average. This results in a decrease in expected utility, which again logically makes sense. However, the because decrease in expected utility comes solely from a decrease in the average of the wage distribution (mu) when we change it to -0.5"
   ]
  },
  {
   "cell_type": "markdown",
   "metadata": {},
   "source": [
    "(b) Now consider a government whose task is to select the proportional tax rate τ and the transfer T.\n",
    "We are dealing with the so-called “flat-tax” fiscal system. All tax revenues R are rebated with a lump-sum\n",
    "transfer, which represents a source of income that is not taxed. In this case the individuals’ budget constraint\n",
    "is\n",
    "\n",
    "$$y(w) = (1-r)w\\bar h + T$$\n",
    "\n",
    "The requirement that the government balances its budget implies that:\n",
    "\n",
    "$$T = R = \\int_0^∞ f(w) r w \\bar hdw  $$\n",
    "\n",
    "Compute numerically the optimal tax rate τ\n",
    "∗\n",
    ", namely the tax rate that maximizes the average utility:\n",
    "\n",
    "$$ Max \\space SWF(r) = E[u(y(w),l(w))]$$\n",
    "\n",
    "Do so for different combinations of parameter values. In one case they are:\n",
    "$$η = 0.5, σ^{2} = 0.5, µ = \\frac {−σ^{2}}{2}, \\bar h = 0.4.$$\n",
    "In another case they are:\n",
    "$$η = 0.5, σ^{2} = 0.8, µ = \\frac {−σ^{2}}{2}, \\bar h = 0.4.$$\n",
    "In a final case they are:\n",
    "$$η = 0.5, σ^{2} = 0.5, µ = −σ^{2}, \\bar h = 0.4.$$"
   ]
  },
  {
   "cell_type": "markdown",
   "metadata": {},
   "source": [
    "For this question I started with the government balancing equation. Because r is just a constant we can factor it out of the integral to get \n",
    "\n",
    "$$T = r \\int_0^∞ f(w)  w \\bar hdw  $$\n",
    "\n",
    "Now inside the integral looks very similiar to the expected utility formulas we have solved before and in the first part of this question. If we take the integral using the same method that I used in part (a) we will get some value, lets call it $\\bar T$. We can now mulitply $\\bar T$ by $r$ to get\n",
    "\n",
    "$$T = \\bar T r  $$\n",
    "\n",
    "We can now plug that into the individuals budget constraint as $T$ to get \n",
    "\n",
    "$$y(w) = (1-r)w\\bar h + \\bar T r$$\n",
    "\n",
    "Now we can plug that into our utility function as $y$ to get \n",
    "\n",
    "$$ u(y, l) = [(1-r)w\\bar h + \\bar T r ]^{η} \\space l^{1-η}$$\n",
    "\n",
    "Plugging in the the value for $\\bar h $ and $l$ given $\\bar h = 0.4$ for every case and $l = 1 - \\bar h$  \n",
    "\n",
    "$$ u(y, l) = [(1-r)0.4 w + \\bar T r]^{η} \\space 0.6^{1-η}$$\n",
    "\n",
    "We can now take the expected utility of that using the same method as part (a) and plug in values of r to figure out what value maximize the expected utilty"
   ]
  },
  {
   "cell_type": "code",
   "execution_count": 189,
   "metadata": {},
   "outputs": [],
   "source": [
    "# Creating the a dataframe to load the results in too\n",
    "df_b = pd.DataFrame(columns = [\"case\", \"T\", \"η\", \"var\", \"mu\", \"hbar\", \"Expected Utility\", \"Optimal Tax Rate (r)\"])"
   ]
  },
  {
   "cell_type": "code",
   "execution_count": 190,
   "metadata": {},
   "outputs": [],
   "source": [
    "# A function I wrote that iterates through the Expected Utililty and inputs different tax\n",
    "# levels. It then stores and returns the maximum expected utility and corresponding tax rate\n",
    "# Because the basis of each utilty function is the same formula just with different params\n",
    "# we can define it in here and pass in the different params to get change the function as needed\n",
    "\n",
    "def get_max_value(weights, w, T, l, eta):\n",
    "    \n",
    "    max_func_value = 0\n",
    "    r_value = 0\n",
    "\n",
    "    for r in np.linspace(0,100,100):\n",
    "        r = r/100\n",
    "        func_value = weights@ (((0.4*w - 0.4*w*r + T*r)**eta) * l**eta)\n",
    "        \n",
    "        if (func_value > max_func_value):\n",
    "            max_func_value = func_value\n",
    "            r_value = r \n",
    "\n",
    "    return round(max_func_value,3), r_value"
   ]
  },
  {
   "cell_type": "markdown",
   "metadata": {},
   "source": [
    "For Case 1:\n",
    "$$η = 0.5, σ^{2} = 0.5, µ = \\frac {−σ^{2}}{2}, \\bar h = 0.4.$$"
   ]
  },
  {
   "cell_type": "code",
   "execution_count": 191,
   "metadata": {},
   "outputs": [
    {
     "data": {
      "text/plain": [
       "0.4"
      ]
     },
     "execution_count": 191,
     "metadata": {},
     "output_type": "execute_result"
    }
   ],
   "source": [
    "n = 100\n",
    "\n",
    "var = 0.5\n",
    "mu = (-var)/2\n",
    "hbar = 0.4\n",
    "\n",
    "w, weights = qnwlogn(n,mu,var)\n",
    "\n",
    "# Finds the value of Tbar that I talked about above. This is a function of r and gets \n",
    "# substituted into the individuals budget constraint\n",
    "T = round(weights@(w*hbar),4)\n",
    "T"
   ]
  },
  {
   "cell_type": "code",
   "execution_count": 192,
   "metadata": {},
   "outputs": [],
   "source": [
    "n = 100\n",
    "\n",
    "eta = 0.5\n",
    "var = 0.5\n",
    "mu = (-var)/2\n",
    "\n",
    "hbar = 0.4\n",
    "l = 1 - hbar\n",
    "\n",
    "# This peforms the integral of the individuals utility function given the parameters\n",
    "w, weights = qnwlogn(n,mu,var)"
   ]
  },
  {
   "cell_type": "code",
   "execution_count": 193,
   "metadata": {},
   "outputs": [
    {
     "name": "stdout",
     "output_type": "stream",
     "text": [
      "---------------------------\n",
      "Expected Utility:  0.49\n",
      "Optimal Tax Rate:  100.0 %\n",
      "---------------------------\n"
     ]
    }
   ],
   "source": [
    "# Passes the params and the weights and nodes into the max value function to find the \n",
    "# max expected utility.\n",
    "\n",
    "results = get_max_value(weights, w, T, l, eta)\n",
    "print(\"---------------------------\")\n",
    "print(\"Expected Utility: \", results[0])\n",
    "print(\"Optimal Tax Rate: \", results[1]*100, \"%\")\n",
    "print(\"---------------------------\")"
   ]
  },
  {
   "cell_type": "code",
   "execution_count": 194,
   "metadata": {},
   "outputs": [],
   "source": [
    "# Appending the variables and results into the dataframe\n",
    "df_b = df_b.append({\"case\":1, \"T\":T, \"η\":eta, \"var\":var, \"mu\":mu, \"hbar\":hbar, \"Expected Utility\":results[0], \"Optimal Tax Rate (r)\":results[1]*100}, ignore_index=True)"
   ]
  },
  {
   "cell_type": "markdown",
   "metadata": {},
   "source": [
    "For Case 2\n",
    "$$η = 0.5, σ^{2} = 0.8, µ = \\frac {−σ^{2}}{2}, \\bar h = 0.4.$$"
   ]
  },
  {
   "cell_type": "code",
   "execution_count": 212,
   "metadata": {},
   "outputs": [
    {
     "data": {
      "text/plain": [
       "0.4"
      ]
     },
     "execution_count": 212,
     "metadata": {},
     "output_type": "execute_result"
    }
   ],
   "source": [
    "n = 100\n",
    "\n",
    "var = 0.8\n",
    "mu = (-var)/2\n",
    "hbar = 0.4\n",
    "\n",
    "w, weights = qnwlogn(n,mu,var)\n",
    "\n",
    "# Finds the Value of Tbar\n",
    "T = round(weights@(w*hbar),3)\n",
    "T"
   ]
  },
  {
   "cell_type": "code",
   "execution_count": 213,
   "metadata": {},
   "outputs": [],
   "source": [
    "n = 100\n",
    "\n",
    "eta = 0.5\n",
    "var = 0.8\n",
    "mu = (-var)/2\n",
    "hbar = 0.4\n",
    "l = 1 - hbar\n",
    "\n",
    "# This peforms the integral of the individuals utility function given the parameters\n",
    "w, weights = qnwlogn(n,mu,var)"
   ]
  },
  {
   "cell_type": "code",
   "execution_count": 214,
   "metadata": {},
   "outputs": [
    {
     "name": "stdout",
     "output_type": "stream",
     "text": [
      "---------------------------\n",
      "Expected Utility:  0.49\n",
      "Optimal Tax Rate:  100.0 %\n",
      "---------------------------\n"
     ]
    }
   ],
   "source": [
    "# Passes the params and the weights and nodes into the max value function to find the \n",
    "# max expected utility.\n",
    "\n",
    "results = get_max_value(weights, w, T, l, eta)\n",
    "print(\"---------------------------\")\n",
    "print(\"Expected Utility: \", results[0])\n",
    "print(\"Optimal Tax Rate: \", results[1]*100, \"%\")\n",
    "print(\"---------------------------\")"
   ]
  },
  {
   "cell_type": "code",
   "execution_count": 198,
   "metadata": {},
   "outputs": [],
   "source": [
    "# Appending the variables and results into the dataframe\n",
    "df_b = df_b.append({\"case\":2, \"T\":T, \"η\":eta, \"var\":var, \"mu\":mu, \"hbar\":hbar, \"Expected Utility\":results[0], \"Optimal Tax Rate (r)\":results[1]*100}, ignore_index=True)"
   ]
  },
  {
   "cell_type": "markdown",
   "metadata": {},
   "source": [
    "For Case 3: \n",
    "$$η = 0.5, σ^{2} = 0.5, µ = −σ^{2}, \\bar h = 0.4.$$"
   ]
  },
  {
   "cell_type": "code",
   "execution_count": 199,
   "metadata": {},
   "outputs": [
    {
     "data": {
      "text/plain": [
       "0.312"
      ]
     },
     "execution_count": 199,
     "metadata": {},
     "output_type": "execute_result"
    }
   ],
   "source": [
    "n = 100\n",
    "\n",
    "var = 0.5\n",
    "mu = (-var)\n",
    "hbar = 0.4\n",
    "\n",
    "w, weights = qnwlogn(n,mu,var)\n",
    "\n",
    "# Finds the value of Tbar\n",
    "T = round(weights@(hbar*w),3)\n",
    "T"
   ]
  },
  {
   "cell_type": "code",
   "execution_count": 200,
   "metadata": {},
   "outputs": [],
   "source": [
    "n = 100\n",
    "\n",
    "eta = 0.5\n",
    "var = 0.5\n",
    "mu = (-var)\n",
    "hbar = 0.4\n",
    "l = 1 - hbar\n",
    "\n",
    "# This peforms the integral of the individuals utility function given the parameters\n",
    "w, weights = qnwlogn(n,mu,var)"
   ]
  },
  {
   "cell_type": "code",
   "execution_count": 201,
   "metadata": {},
   "outputs": [
    {
     "name": "stdout",
     "output_type": "stream",
     "text": [
      "---------------------------\n",
      "Expected Utility:  0.433\n",
      "Optimal Tax Rate:  100.0 %\n",
      "---------------------------\n"
     ]
    }
   ],
   "source": [
    "#Passes the parames and the weights and nodes into the max value function to find the \n",
    "# max expected utility.\n",
    "\n",
    "results = get_max_value(weights, w, T, l, eta)\n",
    "print(\"---------------------------\")\n",
    "print(\"Expected Utility: \", results[0])\n",
    "print(\"Optimal Tax Rate: \", results[1]*100, \"%\")\n",
    "print(\"---------------------------\")"
   ]
  },
  {
   "cell_type": "code",
   "execution_count": 202,
   "metadata": {},
   "outputs": [],
   "source": [
    "# Appending the variables and results into the dataframe\n",
    "df_b = df_b.append({\"case\":3, \"T\":T, \"η\":eta, \"var\":var, \"mu\":mu, \"hbar\":hbar, \"Expected Utility\":results[0], \"Optimal Tax Rate (r)\":results[1]*100}, ignore_index=True)"
   ]
  },
  {
   "cell_type": "code",
   "execution_count": 203,
   "metadata": {
    "scrolled": true
   },
   "outputs": [
    {
     "data": {
      "text/html": [
       "<div>\n",
       "<style scoped>\n",
       "    .dataframe tbody tr th:only-of-type {\n",
       "        vertical-align: middle;\n",
       "    }\n",
       "\n",
       "    .dataframe tbody tr th {\n",
       "        vertical-align: top;\n",
       "    }\n",
       "\n",
       "    .dataframe thead th {\n",
       "        text-align: right;\n",
       "    }\n",
       "</style>\n",
       "<table border=\"1\" class=\"dataframe\">\n",
       "  <thead>\n",
       "    <tr style=\"text-align: right;\">\n",
       "      <th></th>\n",
       "      <th>case</th>\n",
       "      <th>T</th>\n",
       "      <th>η</th>\n",
       "      <th>var</th>\n",
       "      <th>mu</th>\n",
       "      <th>hbar</th>\n",
       "      <th>Expected Utility</th>\n",
       "      <th>Optimal Tax Rate (r)</th>\n",
       "    </tr>\n",
       "  </thead>\n",
       "  <tbody>\n",
       "    <tr>\n",
       "      <th>0</th>\n",
       "      <td>1.0</td>\n",
       "      <td>0.400</td>\n",
       "      <td>0.5</td>\n",
       "      <td>0.5</td>\n",
       "      <td>-0.25</td>\n",
       "      <td>0.4</td>\n",
       "      <td>0.490</td>\n",
       "      <td>100.0</td>\n",
       "    </tr>\n",
       "    <tr>\n",
       "      <th>1</th>\n",
       "      <td>2.0</td>\n",
       "      <td>0.400</td>\n",
       "      <td>0.5</td>\n",
       "      <td>0.8</td>\n",
       "      <td>-0.40</td>\n",
       "      <td>0.4</td>\n",
       "      <td>0.490</td>\n",
       "      <td>100.0</td>\n",
       "    </tr>\n",
       "    <tr>\n",
       "      <th>2</th>\n",
       "      <td>3.0</td>\n",
       "      <td>0.312</td>\n",
       "      <td>0.5</td>\n",
       "      <td>0.5</td>\n",
       "      <td>-0.50</td>\n",
       "      <td>0.4</td>\n",
       "      <td>0.433</td>\n",
       "      <td>100.0</td>\n",
       "    </tr>\n",
       "  </tbody>\n",
       "</table>\n",
       "</div>"
      ],
      "text/plain": [
       "   case      T    η  var    mu  hbar  Expected Utility  Optimal Tax Rate (r)\n",
       "0   1.0  0.400  0.5  0.5 -0.25   0.4             0.490                 100.0\n",
       "1   2.0  0.400  0.5  0.8 -0.40   0.4             0.490                 100.0\n",
       "2   3.0  0.312  0.5  0.5 -0.50   0.4             0.433                 100.0"
      ]
     },
     "execution_count": 203,
     "metadata": {},
     "output_type": "execute_result"
    }
   ],
   "source": [
    "df_b"
   ]
  },
  {
   "cell_type": "markdown",
   "metadata": {},
   "source": [
    "As we can see the results are similiar to the first part in question 2, however there is a small difference. Between case 1 and 3 decreasing the mean does still result in a decrease in expected utility even with the tax rate. The difference between the first question is that case 1 and case 2 have the same expected utility. With the government balancing equation small changes in the variance and mean don't seem to affect the overall expected utility. In all the 3 cases the tax rate that maximizes utility is a tax rate of 100."
   ]
  },
  {
   "cell_type": "markdown",
   "metadata": {},
   "source": [
    "(c) Repeat the exercise in part b, when the fiscal system is partially wasteful. The equilibrium value of\n",
    "the transfer Tnew is lower than the total tax revenues R, and 0 < φ < 1 denotes a government efficiency\n",
    "parameter:\n",
    "\n",
    "$$T_{new}  = φR = φ \\int f(w) r w \\bar h dw $$\n",
    "\n",
    "In this case the individuals’ budget constraint is:\n",
    "\n",
    "$$y(w) = (1-r) w \\bar h + T_{new}$$\n",
    "\n",
    "Compute numerically the optimal tax rate $r^{*}$\n",
    ", namely the tax rate that maximizes the average utility:\n",
    "\n",
    "$$Max \\space SWF(r) = E[u(y(w), l(w))]$$\n",
    "\n",
    "Do so for different combinations of parameter values. In one case they are:\n",
    "$$φ = 0.5, η = 0.5, σ^{2} = 0.5, µ = \\frac {−σ^{2}}{2}, \\bar h = 0.4.$$\n",
    "In another case they are:\n",
    "$$φ = 0.5, η = 0.5, σ^{2} = 0.8, µ = \\frac {−σ^{2}}{2}, \\bar h = 0.4.$$\n",
    "In a final case they are:\n",
    "$$φ = 0.5, η = 0.5, σ^{2} = 0.5, µ = −σ^{2}, \\bar h = 0.4.$$"
   ]
  },
  {
   "cell_type": "markdown",
   "metadata": {},
   "source": [
    "Similar to the previous question, we will start with finding the value for $T_{new}$\n",
    "Again because r is a constant we can factor it out of the integral to get\n",
    "\n",
    "$$T_{new} = r φ \\int f(w) w \\bar h dw $$\n",
    "\n",
    "Again, Now inside the integral looks very similiar to the expected utility formulas we have solved before and in the first part of this question. If we take the integral using the same method that I used in part (a) we will get $\\bar T$. We can now mulitply $\\bar T$ by $r$ and $φ$ to get\n",
    "\n",
    "$$E[T] = \\bar T φ r  $$\n",
    "\n",
    "We can now plug that into the individuals budget constraint as $T$ to get \n",
    "\n",
    "$$y(w) = (1-r)w\\bar h + \\bar T r$$\n",
    "\n",
    "Now we can plug that into our utility function as $y$ to get \n",
    "\n",
    "$$ u(y, l) = [(1-r)w\\bar h + \\bar T φ r ]^{η} \\space l^{1-η}$$\n",
    "\n",
    "Plugging in the the value for $\\bar h $ and $l$ given $\\bar h = 0.4$ for every case and $l = 1 - \\bar h$  \n",
    "\n",
    "$$ u(y, l) = [(1-r)0.4 w + \\bar T φ r]^{η} \\space 0.6^{1-η}$$\n",
    "\n",
    "We can now take the expected utility of that using the same method as part (a) and plug in values of r to figure out what value maximize the expected utilty"
   ]
  },
  {
   "cell_type": "markdown",
   "metadata": {},
   "source": [
    "For Case 1:\n",
    "$$φ = 0.5, η = 0.5, σ^{2} = 0.5, µ = \\frac {−σ^{2}}{2}, \\bar h = 0.4.$$"
   ]
  },
  {
   "cell_type": "code",
   "execution_count": 161,
   "metadata": {},
   "outputs": [],
   "source": [
    "# Creating the a dataframe to load the results in too\n",
    "df_c = pd.DataFrame(columns = [\"case\",\"φ\", \"T\", \"η\", \"var\", \"mu\", \"hbar\", \"Expected Utility\", \"Optimal Tax Rate (r)\"])"
   ]
  },
  {
   "cell_type": "code",
   "execution_count": 162,
   "metadata": {},
   "outputs": [
    {
     "data": {
      "text/plain": [
       "0.2"
      ]
     },
     "execution_count": 162,
     "metadata": {},
     "output_type": "execute_result"
    }
   ],
   "source": [
    "phi = 0.5 \n",
    "\n",
    "n = 100\n",
    "\n",
    "var = 0.5\n",
    "mu = (-var)/2\n",
    "hbar = 0.4\n",
    "\n",
    "w, weights = qnwlogn(n,mu,var)\n",
    "\n",
    "# Finding the expected value of Tbar\n",
    "T = round(weights@(hbar*w),3)\n",
    "\n",
    "#multiplying it by the value of phi\n",
    "T = T * phi\n",
    "T"
   ]
  },
  {
   "cell_type": "code",
   "execution_count": 163,
   "metadata": {},
   "outputs": [],
   "source": [
    "n = 100\n",
    "\n",
    "eta = 0.5\n",
    "var = 0.5\n",
    "mu = (-var)/2\n",
    "hbar = 0.4\n",
    "l = 1 - hbar\n",
    "\n",
    "# Finding the expected value of the utility function\n",
    "w, weights = qnwlogn(n,mu,var)"
   ]
  },
  {
   "cell_type": "code",
   "execution_count": 164,
   "metadata": {},
   "outputs": [
    {
     "name": "stdout",
     "output_type": "stream",
     "text": [
      "---------------------------\n",
      "Expected Utility:  0.46\n",
      "Optimal Tax Rate:  0.0 %\n",
      "---------------------------\n"
     ]
    }
   ],
   "source": [
    "# Passing the params into the get_max_value function to find the r value that maxes\n",
    "# expected utility\n",
    "results = get_max_value(weights, w, T, l, eta)\n",
    "print(\"---------------------------\")\n",
    "print(\"Expected Utility: \", results[0])\n",
    "print(\"Optimal Tax Rate: \", results[1]*100, \"%\")\n",
    "print(\"---------------------------\")"
   ]
  },
  {
   "cell_type": "code",
   "execution_count": 165,
   "metadata": {},
   "outputs": [],
   "source": [
    "# Appending the variables and results into the dataframe\n",
    "df_c = df_c.append({\"case\":1,\"φ\": phi ,\"T\":T, \"η\":eta, \"var\":var, \"mu\":mu, \"hbar\":hbar, \"Expected Utility\":results[0], \"Optimal Tax Rate (r)\":results[1]*100}, ignore_index=True)"
   ]
  },
  {
   "cell_type": "markdown",
   "metadata": {},
   "source": [
    "For Case 2: \n",
    "$$φ = 0.5, η = 0.5, σ^{2} = 0.8, µ = \\frac {−σ^{2}}{2}, \\bar h = 0.4.$$"
   ]
  },
  {
   "cell_type": "code",
   "execution_count": 166,
   "metadata": {},
   "outputs": [
    {
     "data": {
      "text/plain": [
       "0.2"
      ]
     },
     "execution_count": 166,
     "metadata": {},
     "output_type": "execute_result"
    }
   ],
   "source": [
    "phi = 0.5 \n",
    "\n",
    "n = 100\n",
    "\n",
    "var = 0.8\n",
    "mu = (-var)/2\n",
    "hbar = 0.4\n",
    "\n",
    "w, weights = qnwlogn(n,mu,var)\n",
    "\n",
    "# Finding the expected value of Tbar\n",
    "T = round(weights@(hbar*w),3)\n",
    "\n",
    "#multiplying it by the value of phi\n",
    "T = T * phi\n",
    "T"
   ]
  },
  {
   "cell_type": "code",
   "execution_count": 167,
   "metadata": {},
   "outputs": [],
   "source": [
    "n = 100\n",
    "\n",
    "eta = 0.5\n",
    "var = 0.8\n",
    "mu = (-var)/2\n",
    "hbar = 0.4\n",
    "l = 1 - hbar\n",
    "\n",
    "# Finding the expected value of the utility function\n",
    "w, weights = qnwlogn(n,mu,var)"
   ]
  },
  {
   "cell_type": "code",
   "execution_count": 168,
   "metadata": {},
   "outputs": [
    {
     "name": "stdout",
     "output_type": "stream",
     "text": [
      "---------------------------\n",
      "Expected Utility:  0.443\n",
      "Optimal Tax Rate:  0.0 %\n",
      "---------------------------\n"
     ]
    }
   ],
   "source": [
    "# Passing the params into the get_max_value function to find the r value that maxes\n",
    "# expected utility\n",
    "results = get_max_value(weights, w, T, l, eta)\n",
    "print(\"---------------------------\")\n",
    "print(\"Expected Utility: \", results[0])\n",
    "print(\"Optimal Tax Rate: \", results[1]*100, \"%\")\n",
    "print(\"---------------------------\")"
   ]
  },
  {
   "cell_type": "code",
   "execution_count": 169,
   "metadata": {},
   "outputs": [],
   "source": [
    "# Appending the variables and results into the dataframe\n",
    "df_c = df_c.append({\"case\":2,\"φ\": phi ,\"T\":T, \"η\":eta, \"var\":var, \"mu\":mu, \"hbar\":hbar, \"Expected Utility\":results[0], \"Optimal Tax Rate (r)\":results[1]*100}, ignore_index=True)"
   ]
  },
  {
   "cell_type": "markdown",
   "metadata": {},
   "source": [
    "For Case 3:\n",
    "$$φ = 0.5, η = 0.5, σ^{2} = 0.5, µ = −σ^{2}, \\bar h = 0.4.$$"
   ]
  },
  {
   "cell_type": "code",
   "execution_count": 170,
   "metadata": {},
   "outputs": [
    {
     "data": {
      "text/plain": [
       "0.156"
      ]
     },
     "execution_count": 170,
     "metadata": {},
     "output_type": "execute_result"
    }
   ],
   "source": [
    "phi = 0.5 \n",
    "\n",
    "n = 100\n",
    "\n",
    "var = 0.5\n",
    "mu = (-var)\n",
    "hbar = 0.4\n",
    "\n",
    "w, weights = qnwlogn(n,mu,var)\n",
    "\n",
    "# Finding the expected value of Tbar\n",
    "T = round(weights@(hbar*w),3)\n",
    "\n",
    "#multiplying it by the value of phi\n",
    "T = T * phi\n",
    "T"
   ]
  },
  {
   "cell_type": "code",
   "execution_count": 171,
   "metadata": {},
   "outputs": [],
   "source": [
    "n = 100\n",
    "\n",
    "eta = 0.5\n",
    "var = 0.5\n",
    "mu = (-var)\n",
    "hbar = 0.4\n",
    "l = 1 - hbar\n",
    "\n",
    "# Finding the expected value of the utility function\n",
    "w, weights = qnwlogn(n,mu,var)"
   ]
  },
  {
   "cell_type": "code",
   "execution_count": 172,
   "metadata": {},
   "outputs": [
    {
     "name": "stdout",
     "output_type": "stream",
     "text": [
      "---------------------------\n",
      "Expected Utility:  0.406\n",
      "Optimal Tax Rate:  0.0 %\n",
      "---------------------------\n"
     ]
    }
   ],
   "source": [
    "# Passing the params into the get_max_value function to find the r value that maxes\n",
    "# expected utility\n",
    "results = get_max_value(weights, w, T, l, eta)\n",
    "print(\"---------------------------\")\n",
    "print(\"Expected Utility: \", results[0])\n",
    "print(\"Optimal Tax Rate: \", results[1]*100, \"%\")\n",
    "print(\"---------------------------\")"
   ]
  },
  {
   "cell_type": "code",
   "execution_count": 173,
   "metadata": {},
   "outputs": [],
   "source": [
    "# Appending the variables and results into the dataframe\n",
    "df_c = df_c.append({\"case\":3,\"φ\": phi ,\"T\":T, \"η\":eta, \"var\":var, \"mu\":mu, \"hbar\":hbar, \"Expected Utility\":results[0], \"Optimal Tax Rate (r)\":results[1]*100}, ignore_index=True)"
   ]
  },
  {
   "cell_type": "code",
   "execution_count": 174,
   "metadata": {
    "scrolled": true
   },
   "outputs": [
    {
     "data": {
      "text/html": [
       "<div>\n",
       "<style scoped>\n",
       "    .dataframe tbody tr th:only-of-type {\n",
       "        vertical-align: middle;\n",
       "    }\n",
       "\n",
       "    .dataframe tbody tr th {\n",
       "        vertical-align: top;\n",
       "    }\n",
       "\n",
       "    .dataframe thead th {\n",
       "        text-align: right;\n",
       "    }\n",
       "</style>\n",
       "<table border=\"1\" class=\"dataframe\">\n",
       "  <thead>\n",
       "    <tr style=\"text-align: right;\">\n",
       "      <th></th>\n",
       "      <th>case</th>\n",
       "      <th>φ</th>\n",
       "      <th>T</th>\n",
       "      <th>η</th>\n",
       "      <th>var</th>\n",
       "      <th>mu</th>\n",
       "      <th>hbar</th>\n",
       "      <th>Expected Utility</th>\n",
       "      <th>Optimal Tax Rate (r)</th>\n",
       "    </tr>\n",
       "  </thead>\n",
       "  <tbody>\n",
       "    <tr>\n",
       "      <th>0</th>\n",
       "      <td>1.0</td>\n",
       "      <td>0.5</td>\n",
       "      <td>0.200</td>\n",
       "      <td>0.5</td>\n",
       "      <td>0.5</td>\n",
       "      <td>-0.25</td>\n",
       "      <td>0.4</td>\n",
       "      <td>0.460</td>\n",
       "      <td>0.0</td>\n",
       "    </tr>\n",
       "    <tr>\n",
       "      <th>1</th>\n",
       "      <td>2.0</td>\n",
       "      <td>0.5</td>\n",
       "      <td>0.200</td>\n",
       "      <td>0.5</td>\n",
       "      <td>0.8</td>\n",
       "      <td>-0.40</td>\n",
       "      <td>0.4</td>\n",
       "      <td>0.443</td>\n",
       "      <td>0.0</td>\n",
       "    </tr>\n",
       "    <tr>\n",
       "      <th>2</th>\n",
       "      <td>3.0</td>\n",
       "      <td>0.5</td>\n",
       "      <td>0.156</td>\n",
       "      <td>0.5</td>\n",
       "      <td>0.5</td>\n",
       "      <td>-0.50</td>\n",
       "      <td>0.4</td>\n",
       "      <td>0.406</td>\n",
       "      <td>0.0</td>\n",
       "    </tr>\n",
       "  </tbody>\n",
       "</table>\n",
       "</div>"
      ],
      "text/plain": [
       "   case    φ      T    η  var    mu  hbar  Expected Utility  \\\n",
       "0   1.0  0.5  0.200  0.5  0.5 -0.25   0.4             0.460   \n",
       "1   2.0  0.5  0.200  0.5  0.8 -0.40   0.4             0.443   \n",
       "2   3.0  0.5  0.156  0.5  0.5 -0.50   0.4             0.406   \n",
       "\n",
       "   Optimal Tax Rate (r)  \n",
       "0                   0.0  \n",
       "1                   0.0  \n",
       "2                   0.0  "
      ]
     },
     "execution_count": 174,
     "metadata": {},
     "output_type": "execute_result"
    }
   ],
   "source": [
    "df_c"
   ]
  },
  {
   "cell_type": "markdown",
   "metadata": {},
   "source": [
    "We can see here when introducing the government efficiency parameter it reverts are answers back to the same structure that we saw in the first part of the question. The expected utility is highest when the the average of the wage distribution is the highest, and it is the lowest when the average wage distribution is the lowest. Also slightly increasing the variance as we did in case 2 results in a slight decrease in expected utility. In all the 3 cases the tax rate that maximizes utility is a tax rate of 0 ."
   ]
  },
  {
   "cell_type": "markdown",
   "metadata": {},
   "source": [
    "(d) Repeat the exercise in part c, when the number of hours worked is no longer fixed. Instead, every\n",
    "individual is now free to choose the hours worked that maximize their utility, h\n",
    "∗\n",
    "(w). In this case the\n",
    "individuals’ budget constraint is:\n",
    "\n",
    "$$y(w) = (1-r) w  h(w) + T_{new}$$\n",
    "\n",
    "The requirement that the government balances its budget implies that:\n",
    "\n",
    "$$T_{new}  = φR = φ \\int f(w) r w h(w) dw $$\n",
    "\n",
    "Compute numerically the optimal tax rate $r^{*}$\n",
    ", namely the tax rate that maximizes the average utility:\n",
    "\n",
    "$$Max \\space SWF(r) = E[u(y(w), l(w))]$$\n",
    "\n",
    "Do so for different combinations of parameter values. In one case they are:\n",
    "$$φ = 0.5, η = 0.5, σ^{2} = 0.5, µ = \\frac {−σ^{2}}{2}$$\n",
    "In another case they are:\n",
    "$$φ = 0.5, η = 0.5, σ^{2} = 0.8, µ = \\frac {−σ^{2}}{2}$$\n",
    "In a final case they are:\n",
    "$$φ = 0.5, η = 0.5, σ^{2} = 0.5, µ = −σ^{2}$$"
   ]
  },
  {
   "cell_type": "markdown",
   "metadata": {},
   "source": [
    "Again, I will start with finding the value for $T_{new}$\n",
    "Again because r is a constant we can factor it out of the integral to get\n",
    "\n",
    "$$T_{new} = r φ \\int f(w) w h(w) dw $$\n",
    "\n",
    "Also we dont know the individuals h(w) function so we cant take the expected value of it but what we can do is we know that no matter what their hours are they are subject to the expression\n",
    "\n",
    "$$h = 1 - l$$\n",
    "\n",
    "We can substitute that value into the integral instead of h(w) and because it is just a constant we can also factor it out to get\n",
    "\n",
    "$$T_{new} = r φ (1 - l) \\int f(w) w  dw $$\n",
    "\n",
    "Now we can take the expected value of that integral as we did before to get $\\bar T$\n",
    "\n",
    "$$T_{new} = r φ (1 - l) \\bar T$$\n",
    "\n",
    "We can now sub that into the individual budget constraint to get\n",
    "\n",
    "$$y(w) = (1-r) w h(w) + r φ (1 - l) \\bar T$$\n",
    "\n",
    "which can be rearranged too\n",
    "\n",
    "$$y(w) = w(1-r)(1-l)  + r φ (1 - l) \\bar T$$\n",
    "\n",
    "That can now be substituted into the utiltiy function as y(w)\n",
    "\n",
    "$$u(y,l) = [w(1-r)(1-l)  + r φ (1 - l) \\bar T]^{η} * l^{1-η}$$"
   ]
  },
  {
   "cell_type": "markdown",
   "metadata": {},
   "source": [
    "For the first case:\n",
    "\n",
    "$$φ = 0.5, η = 0.5, σ^{2} = 0.5, µ = \\frac {−σ^{2}}{2} $$"
   ]
  },
  {
   "cell_type": "code",
   "execution_count": 148,
   "metadata": {},
   "outputs": [
    {
     "name": "stdout",
     "output_type": "stream",
     "text": [
      "0.9999999999999953\n"
     ]
    },
    {
     "data": {
      "text/plain": [
       "0.49999999999999767"
      ]
     },
     "execution_count": 148,
     "metadata": {},
     "output_type": "execute_result"
    }
   ],
   "source": [
    "phi = 0.5 \n",
    "\n",
    "n = 100\n",
    "\n",
    "var = 0.5\n",
    "mu = (-var)/2\n",
    "\n",
    "w, weights = qnwlogn(n,mu,var)\n",
    "\n",
    "# Finding the expected value of Tbar\n",
    "result = weights@w\n",
    "\n",
    "print(result)\n",
    "\n",
    "#multiplying it by the value of phi\n",
    "T = result * phi\n",
    "T"
   ]
  },
  {
   "cell_type": "code",
   "execution_count": 149,
   "metadata": {},
   "outputs": [],
   "source": [
    "n = 100\n",
    "\n",
    "eta = 0.5\n",
    "var = 0.5\n",
    "mu = (-var)/2\n",
    "hbar = 0.4\n",
    "l = 1 - hbar\n",
    "\n",
    "\n",
    "w, weights = qnwlogn(n,mu,var)"
   ]
  },
  {
   "cell_type": "markdown",
   "metadata": {},
   "source": [
    "For the next part what I did was expand the utility function. Now we have a function with three variables and two unknowns, the tax rate (r) and the amount of leisure (l).\n",
    "I wasn't really sure what to do at this point, but this resembles a similiar question we worked on before so what I tried to do was run the nelder-mead algorithm on the utility function to find the values of $r$ and $l$ that maximize it."
   ]
  },
  {
   "cell_type": "code",
   "execution_count": 215,
   "metadata": {},
   "outputs": [],
   "source": [
    "def f(x):\n",
    "    return -(weights @ ((w-w*x[0] - w*x[1] + w*x[0]*x[1] + 0.5*x[1] - 0.5*x[1]*x[0])**(1/2)) * x[0]**(1/2))"
   ]
  },
  {
   "cell_type": "code",
   "execution_count": 216,
   "metadata": {},
   "outputs": [
    {
     "name": "stderr",
     "output_type": "stream",
     "text": [
      "<ipython-input-215-b81f1eeb2034>:2: RuntimeWarning: invalid value encountered in sqrt\n",
      "  return -(weights @ ((w-w*x[0] - w*x[1] + w*x[0]*x[1] + 0.5*x[1] - 0.5*x[1]*x[0])**(1/2)) * x[0]**(1/2))\n"
     ]
    },
    {
     "data": {
      "text/plain": [
       " final_simplex: (array([[5.00049438e-01, 2.71529425e-08],\n",
       "       [4.99972260e-01, 2.32428312e-07],\n",
       "       [5.00098605e-01, 5.14222309e-07]]), array([-0.45241871, -0.45241869, -0.45241867]))\n",
       "           fun: -0.4524187052457928\n",
       "       message: 'Optimization terminated successfully.'\n",
       "          nfev: 80\n",
       "           nit: 43\n",
       "        status: 0\n",
       "       success: True\n",
       "             x: array([5.00049438e-01, 2.71529425e-08])"
      ]
     },
     "execution_count": 216,
     "metadata": {},
     "output_type": "execute_result"
    }
   ],
   "source": [
    "from scipy.optimize import minimize\n",
    "\n",
    "minimize(f,[1,0], method='Nelder-Mead')"
   ]
  },
  {
   "cell_type": "code",
   "execution_count": 152,
   "metadata": {},
   "outputs": [],
   "source": [
    "import copy\n",
    "\n",
    "def nelder_mead(f, x_start,\n",
    "                step=0.1, no_improve_thr=10e-6,\n",
    "                no_improv_break=10, max_iter=0,\n",
    "                alpha=1., gamma=2., rho=-0.5, sigma=0.5):\n",
    "    '''\n",
    "    @param f (function): function to optimize, must return a scalar score\n",
    "        and operate over a numpy array of the same dimensions as x_start\n",
    "    @param x_start (numpy array): initial position\n",
    "    @param step (float): look-around radius in initial step\n",
    "    @no_improv_thr,  no_improv_break (float, int): break after no_improv_break iterations with\n",
    "        an improvement lower than no_improv_thr\n",
    "    @max_iter (int): always break after this number of iterations.\n",
    "        Set it to 0 to loop indefinitely.\n",
    "    @alpha, gamma, rho, sigma (floats): parameters of the algorithm\n",
    "        (see Wikipedia page for reference)\n",
    "    return: tuple (best parameter array, best score)\n",
    "    '''\n",
    "    # init\n",
    "    dim = len(x_start)\n",
    "    prev_best = f(x_start)\n",
    "    no_improv = 0\n",
    "    res = [[x_start, prev_best]]\n",
    "\n",
    "    for i in range(dim):\n",
    "        x = copy.copy(x_start)\n",
    "        x[i] = x[i] + step\n",
    "        score = f(x)\n",
    "        res.append([x, score])\n",
    "\n",
    "    # simplex iter\n",
    "    iters = 0\n",
    "    while 1:\n",
    "        # order\n",
    "        res.sort(key=lambda x: x[1])\n",
    "        best = res[0][1]\n",
    "\n",
    "        # break after max_iter\n",
    "        if max_iter and iters >= max_iter:\n",
    "            return res[0]\n",
    "        iters += 1\n",
    "\n",
    "        # break after no_improv_break iterations with no improvement\n",
    "        print('...best so far:', best)\n",
    "\n",
    "        if best < prev_best - no_improve_thr:\n",
    "            no_improv = 0\n",
    "            prev_best = best\n",
    "        else:\n",
    "            no_improv += 1\n",
    "\n",
    "        if no_improv >= no_improv_break:\n",
    "            return res[0]\n",
    "\n",
    "        # centroid\n",
    "        x0 = [0.] * dim\n",
    "        for tup in res[:-1]:\n",
    "            for i, c in enumerate(tup[0]):\n",
    "                x0[i] += c / (len(res)-1)\n",
    "\n",
    "        # reflection\n",
    "        xr = x0 + alpha*(x0 - res[-1][0])\n",
    "        rscore = f(xr)\n",
    "        if res[0][1] <= rscore < res[-2][1]:\n",
    "            del res[-1]\n",
    "            res.append([xr, rscore])\n",
    "            continue\n",
    "\n",
    "        # expansion\n",
    "        if rscore < res[0][1]:\n",
    "            xe = x0 + gamma*(x0 - res[-1][0])\n",
    "            escore = f(xe)\n",
    "            if escore < rscore:\n",
    "                del res[-1]\n",
    "                res.append([xe, escore])\n",
    "                continue\n",
    "            else:\n",
    "                del res[-1]\n",
    "                res.append([xr, rscore])\n",
    "                continue\n",
    "\n",
    "        # contraction\n",
    "        xc = x0 + rho*(x0 - res[-1][0])\n",
    "        cscore = f(xc)\n",
    "        if cscore < res[-1][1]:\n",
    "            del res[-1]\n",
    "            res.append([xc, cscore])\n",
    "            continue\n",
    "\n",
    "        # reduction\n",
    "        x1 = res[0][0]\n",
    "        nres = []\n",
    "        for tup in res:\n",
    "            redx = x1 + sigma*(tup[0] - x1)\n",
    "            score = f(redx)\n",
    "            nres.append([redx, score])\n",
    "        res = nres\n"
   ]
  },
  {
   "cell_type": "code",
   "execution_count": 145,
   "metadata": {
    "collapsed": true
   },
   "outputs": [
    {
     "name": "stdout",
     "output_type": "stream",
     "text": [
      "...best so far: -0.24870873545411906\n",
      "...best so far: -0.24870873545411906\n",
      "...best so far: -0.31914666390405133\n",
      "...best so far: -0.40175026274215875\n",
      "...best so far: -0.40706854202097525\n",
      "...best so far: -0.40706854202097525\n",
      "...best so far: -0.41012439401055445\n",
      "...best so far: -0.41012439401055445\n",
      "...best so far: -0.41012439401055445\n",
      "...best so far: -0.41083562892375936\n",
      "...best so far: -0.4117503349114381\n",
      "...best so far: -0.412130754406266\n",
      "...best so far: -0.41334709282809984\n",
      "...best so far: -0.41339447817600583\n",
      "...best so far: -0.41339447817600583\n",
      "...best so far: -0.4140674551236197\n",
      "...best so far: -0.4140674551236197\n",
      "...best so far: -0.4140674551236197\n",
      "...best so far: -0.41434162119087675\n",
      "...best so far: -0.41434162119087675\n",
      "...best so far: -0.41434162119087675\n",
      "...best so far: -0.41434162119087675\n",
      "...best so far: -0.41446904938485435\n",
      "...best so far: -0.41446904938485435\n",
      "...best so far: -0.41446904938485435\n",
      "...best so far: -0.41446904938485435\n",
      "...best so far: -0.4145119452705878\n",
      "...best so far: -0.4145119452705878\n",
      "...best so far: -0.4145119452705878\n",
      "...best so far: -0.4145119452705878\n",
      "...best so far: -0.4145119452705878\n",
      "...best so far: -0.4145119452705878\n",
      "...best so far: -0.4145119452705878\n",
      "...best so far: -0.4145119452705878\n",
      "...best so far: -0.4145119452705878\n",
      "...best so far: -0.4145119452705878\n",
      "...best so far: -0.4145119452705878\n"
     ]
    },
    {
     "name": "stderr",
     "output_type": "stream",
     "text": [
      "<ipython-input-138-7f9c844611e4>:2: RuntimeWarning: invalid value encountered in sqrt\n",
      "  return -(weights @ ((w-w*x[0] - w*x[1] + w*x[0]*x[1] + T*x[1] - T*x[1]*x[0])**(1/2)) * x[0]**(1/2))\n"
     ]
    },
    {
     "data": {
      "text/plain": [
       "[array([5.01343250e-01, 1.50680542e-05]), -0.4145119452705878]"
      ]
     },
     "execution_count": 145,
     "metadata": {},
     "output_type": "execute_result"
    }
   ],
   "source": [
    "# Trying the nelder mead function above with f\n",
    "nelder_mead(f, np.array([0., 0.]))"
   ]
  },
  {
   "cell_type": "markdown",
   "metadata": {},
   "source": [
    "For the second case:\n",
    "\n",
    "$$φ = 0.5, η = 0.5, σ^{2} = 0.8, µ = \\frac {−σ^{2}}{2}$$"
   ]
  },
  {
   "cell_type": "code",
   "execution_count": 153,
   "metadata": {},
   "outputs": [
    {
     "data": {
      "text/plain": [
       "0.49999999999999756"
      ]
     },
     "execution_count": 153,
     "metadata": {},
     "output_type": "execute_result"
    }
   ],
   "source": [
    "phi = 0.5 \n",
    "\n",
    "n = 100\n",
    "\n",
    "var = 0.8\n",
    "mu = (-var)/2\n",
    "\n",
    "w, weights = qnwlogn(n,mu,var)\n",
    "\n",
    "# Finding the expected value of Tbar\n",
    "result = weights@w\n",
    "\n",
    "#multiplying it by the value of phi\n",
    "T = result * phi\n",
    "T"
   ]
  },
  {
   "cell_type": "code",
   "execution_count": 154,
   "metadata": {},
   "outputs": [],
   "source": [
    "n = 100\n",
    "\n",
    "eta = 0.5\n",
    "var = 0.8\n",
    "mu = (-var)/2\n",
    "hbar = 0.4\n",
    "l = 1 - hbar\n",
    "\n",
    "\n",
    "w, weights = qnwlogn(n,mu,var)"
   ]
  },
  {
   "cell_type": "code",
   "execution_count": 155,
   "metadata": {},
   "outputs": [
    {
     "name": "stderr",
     "output_type": "stream",
     "text": [
      "<ipython-input-150-7f9c844611e4>:2: RuntimeWarning: invalid value encountered in sqrt\n",
      "  return -(weights @ ((w-w*x[0] - w*x[1] + w*x[0]*x[1] + T*x[1] - T*x[1]*x[0])**(1/2)) * x[0]**(1/2))\n"
     ]
    },
    {
     "data": {
      "text/plain": [
       " final_simplex: (array([[5.00049438e-01, 2.71529425e-08],\n",
       "       [4.99972260e-01, 2.32428312e-07],\n",
       "       [5.00098605e-01, 5.14222309e-07]]), array([-0.45241871, -0.45241869, -0.45241867]))\n",
       "           fun: -0.4524187052457928\n",
       "       message: 'Optimization terminated successfully.'\n",
       "          nfev: 80\n",
       "           nit: 43\n",
       "        status: 0\n",
       "       success: True\n",
       "             x: array([5.00049438e-01, 2.71529425e-08])"
      ]
     },
     "execution_count": 155,
     "metadata": {},
     "output_type": "execute_result"
    }
   ],
   "source": [
    "minimize(f,[1,0], method='Nelder-Mead')"
   ]
  },
  {
   "cell_type": "code",
   "execution_count": 156,
   "metadata": {
    "collapsed": true
   },
   "outputs": [
    {
     "name": "stdout",
     "output_type": "stream",
     "text": [
      "...best so far: -0.2714512254107867\n",
      "...best so far: -0.2714512254107867\n",
      "...best so far: -0.349632265961932\n",
      "...best so far: -0.43876968720679516\n",
      "...best so far: -0.44621839221612636\n",
      "...best so far: -0.44621839221612636\n",
      "...best so far: -0.44847972650208906\n",
      "...best so far: -0.44847972650208906\n",
      "...best so far: -0.44847972650208906\n",
      "...best so far: -0.4493964832304531\n",
      "...best so far: -0.44983432521508715\n",
      "...best so far: -0.45039214894867313\n",
      "...best so far: -0.4511444869972122\n",
      "...best so far: -0.4513421064439414\n",
      "...best so far: -0.45150906682172187\n",
      "...best so far: -0.4520495478766179\n",
      "...best so far: -0.4520495478766179\n",
      "...best so far: -0.4520495478766179\n",
      "...best so far: -0.4520495478766179\n",
      "...best so far: -0.45219456497969546\n",
      "...best so far: -0.45219456497969546\n",
      "...best so far: -0.45227057945631205\n",
      "...best so far: -0.45227057945631205\n",
      "...best so far: -0.45235270985396064\n",
      "...best so far: -0.45235270985396064\n",
      "...best so far: -0.45235270985396064\n",
      "...best so far: -0.45235270985396064\n",
      "...best so far: -0.4523570887009229\n",
      "...best so far: -0.45238124222166815\n",
      "...best so far: -0.45240058964043744\n",
      "...best so far: -0.45240058964043744\n",
      "...best so far: -0.45240058964043744\n",
      "...best so far: -0.45240058964043744\n",
      "...best so far: -0.4524111748370598\n",
      "...best so far: -0.4524111748370598\n",
      "...best so far: -0.4524111748370598\n",
      "...best so far: -0.4524111748370598\n",
      "...best so far: -0.4524172224489326\n",
      "...best so far: -0.4524172224489326\n",
      "...best so far: -0.4524172224489326\n",
      "...best so far: -0.4524172224489326\n",
      "...best so far: -0.4524172224489326\n",
      "...best so far: -0.4524172224489326\n",
      "...best so far: -0.4524178088579731\n"
     ]
    },
    {
     "name": "stderr",
     "output_type": "stream",
     "text": [
      "<ipython-input-150-7f9c844611e4>:2: RuntimeWarning: invalid value encountered in sqrt\n",
      "  return -(weights @ ((w-w*x[0] - w*x[1] + w*x[0]*x[1] + T*x[1] - T*x[1]*x[0])**(1/2)) * x[0]**(1/2))\n"
     ]
    },
    {
     "data": {
      "text/plain": [
       "[array([4.99724057e-01, 1.44623598e-05]), -0.4524178088579731]"
      ]
     },
     "execution_count": 156,
     "metadata": {},
     "output_type": "execute_result"
    }
   ],
   "source": [
    "# Trying the nelder mead function above with f\n",
    "nelder_mead(f, np.array([0., 0.]))"
   ]
  },
  {
   "cell_type": "markdown",
   "metadata": {},
   "source": [
    "For case 3:\n",
    "\n",
    "$$φ = 0.5, η = 0.5, σ^{2} = 0.5, µ = −σ^{2}$$"
   ]
  },
  {
   "cell_type": "code",
   "execution_count": 217,
   "metadata": {},
   "outputs": [
    {
     "data": {
      "text/plain": [
       "0.3894003915357006"
      ]
     },
     "execution_count": 217,
     "metadata": {},
     "output_type": "execute_result"
    }
   ],
   "source": [
    "phi = 0.5 \n",
    "\n",
    "n = 100\n",
    "\n",
    "var = 0.5\n",
    "mu = (-var)\n",
    "\n",
    "w, weights = qnwlogn(n,mu,var)\n",
    "\n",
    "# Finding the expected value of Tbar\n",
    "result = weights@w\n",
    "\n",
    "#multiplying it by the value of phi\n",
    "T = result * phi\n",
    "T"
   ]
  },
  {
   "cell_type": "code",
   "execution_count": 218,
   "metadata": {},
   "outputs": [],
   "source": [
    "n = 100\n",
    "\n",
    "eta = 0.5\n",
    "var = 0.5\n",
    "mu = (-var)\n",
    "hbar = 0.4\n",
    "l = 1 - hbar\n",
    "\n",
    "\n",
    "w, weights = qnwlogn(n,mu,var)"
   ]
  },
  {
   "cell_type": "code",
   "execution_count": 219,
   "metadata": {},
   "outputs": [],
   "source": [
    "def f(x):\n",
    "    return -(weights @ ((w-w*x[0] - w*x[1] + w*x[0]*x[1] + 0.389*x[1] - 0.389*x[1]*x[0])**(1/2)) * x[0]**(1/2))"
   ]
  },
  {
   "cell_type": "code",
   "execution_count": 220,
   "metadata": {
    "collapsed": true
   },
   "outputs": [
    {
     "name": "stderr",
     "output_type": "stream",
     "text": [
      "<ipython-input-219-df1d8bd12234>:2: RuntimeWarning: invalid value encountered in sqrt\n",
      "  return -(weights @ ((w-w*x[0] - w*x[1] + w*x[0]*x[1] + 0.389*x[1] - 0.389*x[1]*x[0])**(1/2)) * x[0]**(1/2))\n"
     ]
    },
    {
     "data": {
      "text/plain": [
       " final_simplex: (array([[ 5.00781250e-01, -1.95312500e-06],\n",
       "       [ 5.00703305e-01,  2.27996613e-06],\n",
       "       [ 5.00689439e-01,  3.07124566e-06]]), array([-0.4145142 , -0.41451398, -0.41451394]))\n",
       "           fun: -0.41451419827067\n",
       "       message: 'Optimization terminated successfully.'\n",
       "          nfev: 70\n",
       "           nit: 35\n",
       "        status: 0\n",
       "       success: True\n",
       "             x: array([ 5.0078125e-01, -1.9531250e-06])"
      ]
     },
     "execution_count": 220,
     "metadata": {},
     "output_type": "execute_result"
    }
   ],
   "source": [
    "minimize(f,[1,0], method='Nelder-Mead')"
   ]
  },
  {
   "cell_type": "code",
   "execution_count": 160,
   "metadata": {
    "collapsed": true
   },
   "outputs": [
    {
     "name": "stdout",
     "output_type": "stream",
     "text": [
      "...best so far: -0.24870873545411906\n",
      "...best so far: -0.24870873545411906\n",
      "...best so far: -0.31914666390405133\n",
      "...best so far: -0.40175026274215875\n",
      "...best so far: -0.40706854202097525\n",
      "...best so far: -0.40706854202097525\n",
      "...best so far: -0.41012439401055445\n",
      "...best so far: -0.41012439401055445\n",
      "...best so far: -0.41012439401055445\n",
      "...best so far: -0.41083562892375936\n",
      "...best so far: -0.4117503349114381\n",
      "...best so far: -0.412130754406266\n",
      "...best so far: -0.41334709282809984\n",
      "...best so far: -0.41339447817600583\n",
      "...best so far: -0.41339447817600583\n",
      "...best so far: -0.4140674551236197\n",
      "...best so far: -0.4140674551236197\n",
      "...best so far: -0.4140674551236197\n",
      "...best so far: -0.41434162119087675\n",
      "...best so far: -0.41434162119087675\n",
      "...best so far: -0.41434162119087675\n",
      "...best so far: -0.41434162119087675\n",
      "...best so far: -0.41446904938485435\n",
      "...best so far: -0.41446904938485435\n",
      "...best so far: -0.41446904938485435\n",
      "...best so far: -0.41446904938485435\n",
      "...best so far: -0.4145119452705878\n",
      "...best so far: -0.4145119452705878\n",
      "...best so far: -0.4145119452705878\n",
      "...best so far: -0.4145119452705878\n",
      "...best so far: -0.4145119452705878\n",
      "...best so far: -0.4145119452705878\n",
      "...best so far: -0.4145119452705878\n",
      "...best so far: -0.4145119452705878\n",
      "...best so far: -0.4145119452705878\n",
      "...best so far: -0.4145119452705878\n",
      "...best so far: -0.4145119452705878\n"
     ]
    },
    {
     "name": "stderr",
     "output_type": "stream",
     "text": [
      "<ipython-input-150-7f9c844611e4>:2: RuntimeWarning: invalid value encountered in sqrt\n",
      "  return -(weights @ ((w-w*x[0] - w*x[1] + w*x[0]*x[1] + T*x[1] - T*x[1]*x[0])**(1/2)) * x[0]**(1/2))\n"
     ]
    },
    {
     "data": {
      "text/plain": [
       "[array([5.01343250e-01, 1.50680542e-05]), -0.4145119452705878]"
      ]
     },
     "execution_count": 160,
     "metadata": {},
     "output_type": "execute_result"
    }
   ],
   "source": [
    "# Trying the nelder mead function above with f\n",
    "nelder_mead(f, np.array([0., 0.]))"
   ]
  },
  {
   "cell_type": "markdown",
   "metadata": {},
   "source": [
    "Every equation is returning the same result, but according to the algorithm before it encounters an error the optimal values that maximize the function are a value of 0.5 for l (leisure) which would make the value for h (hours worked) .5 as well. Then for every result its giving that the optimal tax is 0 in order to maximize utility."
   ]
  },
  {
   "cell_type": "code",
   "execution_count": null,
   "metadata": {},
   "outputs": [],
   "source": []
  },
  {
   "cell_type": "code",
   "execution_count": 228,
   "metadata": {},
   "outputs": [
    {
     "name": "stdout",
     "output_type": "stream",
     "text": [
      "[NbConvertApp] WARNING | pattern '457_FINAL.pdf' matched no files\n",
      "This application is used to convert notebook files (*.ipynb) to various other\n",
      "formats.\n",
      "\n",
      "WARNING: THE COMMANDLINE INTERFACE MAY CHANGE IN FUTURE RELEASES.\n",
      "\n",
      "Options\n",
      "-------\n",
      "\n",
      "Arguments that take values are actually convenience aliases to full\n",
      "Configurables, whose aliases are listed on the help line. For more information\n",
      "on full configurables, see '--help-all'.\n",
      "\n",
      "--debug\n",
      "    set log level to logging.DEBUG (maximize logging output)\n",
      "--generate-config\n",
      "    generate default config file\n",
      "-y\n",
      "    Answer yes to any questions instead of prompting.\n",
      "--execute\n",
      "    Execute the notebook prior to export.\n",
      "--allow-errors\n",
      "    Continue notebook execution even if one of the cells throws an error and include the error message in the cell output (the default behaviour is to abort conversion). This flag is only relevant if '--execute' was specified, too.\n",
      "--stdin\n",
      "    read a single notebook file from stdin. Write the resulting notebook with default basename 'notebook.*'\n",
      "--stdout\n",
      "    Write notebook output to stdout instead of files.\n",
      "--inplace\n",
      "    Run nbconvert in place, overwriting the existing notebook (only \n",
      "    relevant when converting to notebook format)\n",
      "--clear-output\n",
      "    Clear output of current file and save in place, \n",
      "    overwriting the existing notebook.\n",
      "--no-prompt\n",
      "    Exclude input and output prompts from converted document.\n",
      "--no-input\n",
      "    Exclude input cells and output prompts from converted document. \n",
      "    This mode is ideal for generating code-free reports.\n",
      "--log-level=<Enum> (Application.log_level)\n",
      "    Default: 30\n",
      "    Choices: (0, 10, 20, 30, 40, 50, 'DEBUG', 'INFO', 'WARN', 'ERROR', 'CRITICAL')\n",
      "    Set the log level by value or name.\n",
      "--config=<Unicode> (JupyterApp.config_file)\n",
      "    Default: ''\n",
      "    Full path of a config file.\n",
      "--to=<Unicode> (NbConvertApp.export_format)\n",
      "    Default: 'html'\n",
      "    The export format to be used, either one of the built-in formats\n",
      "    ['PDFviaHTML', 'asciidoc', 'custom', 'html', 'latex', 'markdown',\n",
      "    'notebook', 'pdf', 'python', 'rst', 'script', 'slides'] or a dotted object\n",
      "    name that represents the import path for an `Exporter` class\n",
      "--template=<Unicode> (TemplateExporter.template_file)\n",
      "    Default: ''\n",
      "    Name of the template file to use\n",
      "--writer=<DottedObjectName> (NbConvertApp.writer_class)\n",
      "    Default: 'FilesWriter'\n",
      "    Writer class used to write the  results of the conversion\n",
      "--post=<DottedOrNone> (NbConvertApp.postprocessor_class)\n",
      "    Default: ''\n",
      "    PostProcessor class used to write the results of the conversion\n",
      "--output=<Unicode> (NbConvertApp.output_base)\n",
      "    Default: ''\n",
      "    overwrite base name use for output files. can only be used when converting\n",
      "    one notebook at a time.\n",
      "--output-dir=<Unicode> (FilesWriter.build_directory)\n",
      "    Default: ''\n",
      "    Directory to write output(s) to. Defaults to output to the directory of each\n",
      "    notebook. To recover previous default behaviour (outputting to the current\n",
      "    working directory) use . as the flag value.\n",
      "--reveal-prefix=<Unicode> (SlidesExporter.reveal_url_prefix)\n",
      "    Default: ''\n",
      "    The URL prefix for reveal.js (version 3.x). This defaults to the reveal CDN,\n",
      "    but can be any url pointing to a copy  of reveal.js.\n",
      "    For speaker notes to work, this must be a relative path to a local  copy of\n",
      "    reveal.js: e.g., \"reveal.js\".\n",
      "    If a relative path is given, it must be a subdirectory of the current\n",
      "    directory (from which the server is run).\n",
      "    See the usage documentation\n",
      "    (https://nbconvert.readthedocs.io/en/latest/usage.html#reveal-js-html-\n",
      "    slideshow) for more details.\n",
      "--nbformat=<Enum> (NotebookExporter.nbformat_version)\n",
      "    Default: 4\n",
      "    Choices: [1, 2, 3, 4]\n",
      "    The nbformat version to write. Use this to downgrade notebooks.\n",
      "\n",
      "To see all available configurables, use `--help-all`\n",
      "\n",
      "Examples\n",
      "--------\n",
      "\n",
      "    The simplest way to use nbconvert is\n",
      "    \n",
      "    > jupyter nbconvert mynotebook.ipynb\n",
      "    \n",
      "    which will convert mynotebook.ipynb to the default format (probably HTML).\n",
      "    \n",
      "    You can specify the export format with `--to`.\n",
      "    Options include ['PDFviaHTML', 'asciidoc', 'custom', 'html', 'latex', 'markdown', 'notebook', 'pdf', 'python', 'rst', 'script', 'slides'].\n",
      "    \n",
      "    > jupyter nbconvert --to latex mynotebook.ipynb\n",
      "    \n",
      "    Both HTML and LaTeX support multiple output templates. LaTeX includes\n",
      "    'base', 'article' and 'report'.  HTML includes 'basic' and 'full'. You\n",
      "    can specify the flavor of the format used.\n",
      "    \n",
      "    > jupyter nbconvert --to html --template basic mynotebook.ipynb\n",
      "    \n",
      "    You can also pipe the output to stdout, rather than a file\n",
      "    \n",
      "    > jupyter nbconvert mynotebook.ipynb --stdout\n",
      "    \n",
      "    PDF is generated via latex\n",
      "    \n",
      "    > jupyter nbconvert mynotebook.ipynb --to pdf\n",
      "    \n",
      "    You can get (and serve) a Reveal.js-powered slideshow\n",
      "    \n",
      "    > jupyter nbconvert myslides.ipynb --to slides --post serve\n",
      "    \n",
      "    Multiple notebooks can be given at the command line in a couple of \n",
      "    different ways:\n",
      "    \n",
      "    > jupyter nbconvert notebook*.ipynb\n",
      "    > jupyter nbconvert notebook1.ipynb notebook2.ipynb\n",
      "    \n",
      "    or you can specify the notebooks list in a config file, containing::\n",
      "    \n",
      "        c.NbConvertApp.notebooks = [\"my_notebook.ipynb\"]\n",
      "    \n",
      "    > jupyter nbconvert --config mycfg.py\n",
      "\n"
     ]
    }
   ],
   "source": [
    "!jupyter-nbconvert --to PDFviaHTML 457_FINAL_BYRON_BINKLEY_ISAAC_V00877670.pdf"
   ]
  },
  {
   "cell_type": "code",
   "execution_count": null,
   "metadata": {},
   "outputs": [],
   "source": []
  }
 ],
 "metadata": {
  "kernelspec": {
   "display_name": "Python 3",
   "language": "python",
   "name": "python3"
  },
  "language_info": {
   "codemirror_mode": {
    "name": "ipython",
    "version": 3
   },
   "file_extension": ".py",
   "mimetype": "text/x-python",
   "name": "python",
   "nbconvert_exporter": "python",
   "pygments_lexer": "ipython3",
   "version": "3.8.0"
  }
 },
 "nbformat": 4,
 "nbformat_minor": 4
}
