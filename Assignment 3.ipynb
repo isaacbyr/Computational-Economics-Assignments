{
 "cells": [
  {
   "cell_type": "code",
   "execution_count": 41,
   "metadata": {},
   "outputs": [],
   "source": [
    "import matplotlib.pyplot as plt\n",
    "import seaborn as sns\n",
    "import numpy as np\n",
    "import scipy as sp"
   ]
  },
  {
   "cell_type": "markdown",
   "metadata": {},
   "source": [
    "#### Question 1: Solving a Non-Linear Equation"
   ]
  },
  {
   "cell_type": "markdown",
   "metadata": {},
   "source": [
    "A common problem in numerical analysis is finding the inverse of a Cumulative Distribution Function (CDF). A CDF is a function F(x) that is non-decreasing over some domain [a, b], and for which F(a) = 0 and F(b) = 1. "
   ]
  },
  {
   "cell_type": "markdown",
   "metadata": {},
   "source": [
    "#### Definining a function to solve this"
   ]
  },
  {
   "cell_type": "code",
   "execution_count": 10,
   "metadata": {},
   "outputs": [],
   "source": [
    "# The following function uses the bisectional method to find the root. \n",
    "def bisectFunc(f, a, b, tol):\n",
    "    \n",
    "    lower, upper = a, b\n",
    "    \n",
    "    while upper - lower > tol:\n",
    "        middle = 0.5 * (upper + lower)\n",
    "        if f(upper)>f(lower):\n",
    "            # === if root is between lower and middle === #\n",
    "            if f(middle) > 0:  \n",
    "                lower, upper = lower, middle\n",
    "            # === if root is between middle and upper  === #\n",
    "            else:              \n",
    "                lower, upper = middle, upper\n",
    "        else:\n",
    "            if f(middle) > 0:  \n",
    "                lower, upper = middle, upper\n",
    "            else:              \n",
    "                lower, upper = lower, middle\n",
    "\n",
    "    return 0.5 * (upper + lower)"
   ]
  },
  {
   "cell_type": "markdown",
   "metadata": {},
   "source": [
    "(a) Use the CDF of the uniform distribution defined on [0, 2]. Compute the percentiles associated with the following probabilities: 0.6, 0.4. Comment and report on the accuracy of your results by comparing them with the exact percentile values."
   ]
  },
  {
   "cell_type": "markdown",
   "metadata": {},
   "source": [
    "The fuction we are going to use to solve this problem is\n",
    "\n",
    "$$f = \\frac{x-a}{b-a} - p $$\n",
    "\n",
    "where p is the probability, a is the lower bound and b is the upper bound"
   ]
  },
  {
   "cell_type": "code",
   "execution_count": 13,
   "metadata": {},
   "outputs": [
    {
     "data": {
      "text/plain": [
       "0.8"
      ]
     },
     "execution_count": 13,
     "metadata": {},
     "output_type": "execute_result"
    }
   ],
   "source": [
    "# starting with p = 0.4\n",
    "\n",
    "f = lambda x: (x-0)/(2-0) - 0.4\n",
    "\n",
    "ans1 = round(bisectFunc(f,0,2,10e-10),3)\n",
    "ans1"
   ]
  },
  {
   "cell_type": "code",
   "execution_count": 14,
   "metadata": {},
   "outputs": [
    {
     "data": {
      "text/plain": [
       "1.2"
      ]
     },
     "execution_count": 14,
     "metadata": {},
     "output_type": "execute_result"
    }
   ],
   "source": [
    "# next using p = 0.6\n",
    "\n",
    "f = lambda x: (x-0)/(2-0) - 0.6\n",
    "\n",
    "ans2 = round(bisectFunc(f,0,2,10e-10),3)\n",
    "ans2"
   ]
  },
  {
   "cell_type": "markdown",
   "metadata": {},
   "source": [
    "To compare with the exact results we just have to use the followinng formula\n",
    "$$F^{-1}(p)= a + p(b-a)$$\n",
    "\n",
    "where p is the probability, a is lower bound, and b is upper bound"
   ]
  },
  {
   "cell_type": "code",
   "execution_count": 5,
   "metadata": {},
   "outputs": [
    {
     "data": {
      "text/plain": [
       "0.8"
      ]
     },
     "execution_count": 5,
     "metadata": {},
     "output_type": "execute_result"
    }
   ],
   "source": [
    "# for p = 0.4\n",
    "F_p = 0 + 0.4*(2-0)\n",
    "F_p"
   ]
  },
  {
   "cell_type": "code",
   "execution_count": 6,
   "metadata": {},
   "outputs": [
    {
     "data": {
      "text/plain": [
       "1.2"
      ]
     },
     "execution_count": 6,
     "metadata": {},
     "output_type": "execute_result"
    }
   ],
   "source": [
    "# for p = 0.6\n",
    "F_p = 0 + 0.6*(2-0)\n",
    "F_p"
   ]
  },
  {
   "cell_type": "markdown",
   "metadata": {},
   "source": [
    "When comparing my results, we can see that they are identical to the true value"
   ]
  },
  {
   "cell_type": "markdown",
   "metadata": {},
   "source": [
    "(b) Use the CDF of the negative exponential distribution, with parameter λ = 2. Compute the percentiles associated with the following probabilities: 0.7, 0.3. Comment and report on the accuracy of your results by comparing them with the exact percentile values."
   ]
  },
  {
   "cell_type": "markdown",
   "metadata": {},
   "source": [
    "In this part I will be working with a different function, this function will be defined as:\n",
    "$$f = 1-e^{-\\lambda x} - p$$\n",
    "\n",
    "where lambda = 2, and p is the associated probability"
   ]
  },
  {
   "cell_type": "code",
   "execution_count": 31,
   "metadata": {},
   "outputs": [
    {
     "data": {
      "text/plain": [
       "0.602"
      ]
     },
     "execution_count": 31,
     "metadata": {},
     "output_type": "execute_result"
    }
   ],
   "source": [
    "import math\n",
    "\n",
    "# for p = 0.7\n",
    "f1 = lambda x: 1-math.exp(-2*x) - 0.7\n",
    "\n",
    "round(bisectFunc(f1,0,2,10e-10),4)\n"
   ]
  },
  {
   "cell_type": "code",
   "execution_count": 34,
   "metadata": {},
   "outputs": [
    {
     "data": {
      "text/plain": [
       "0.1783"
      ]
     },
     "execution_count": 34,
     "metadata": {},
     "output_type": "execute_result"
    }
   ],
   "source": [
    "# for p = 0.3\n",
    "f2 = lambda x: 1-math.exp(-2*x) - 0.3\n",
    "\n",
    "ans2 = round(bisectFunc(f2,0,2,10e-10),4)\n",
    "ans2"
   ]
  },
  {
   "cell_type": "code",
   "execution_count": 30,
   "metadata": {},
   "outputs": [
    {
     "data": {
      "text/plain": [
       "0.602"
      ]
     },
     "execution_count": 30,
     "metadata": {},
     "output_type": "execute_result"
    }
   ],
   "source": [
    "from scipy.optimize import fsolve\n",
    "\n",
    "# we can use fsolve to help us determine the exact percentile value\n",
    "# for p = 0.7\n",
    "x0 = 1\n",
    "round(fsolve(f1,x0)[0],4)"
   ]
  },
  {
   "cell_type": "code",
   "execution_count": 35,
   "metadata": {},
   "outputs": [
    {
     "data": {
      "text/plain": [
       "0.1783"
      ]
     },
     "execution_count": 35,
     "metadata": {},
     "output_type": "execute_result"
    }
   ],
   "source": [
    "# for p = 0.3\n",
    "x0 = 1\n",
    "round(fsolve(f2,x0)[0],4)"
   ]
  },
  {
   "cell_type": "markdown",
   "metadata": {},
   "source": [
    "We can again see that when comparing my results to exact values they are the same"
   ]
  },
  {
   "cell_type": "markdown",
   "metadata": {},
   "source": [
    "(c)Use the CDF of the standard normal distribution, with parameters µ = 0 and σ\n",
    "2 = 1. Compute the percentiles associated with the following probabilities: 0.9, 0.2. "
   ]
  },
  {
   "cell_type": "code",
   "execution_count": 36,
   "metadata": {},
   "outputs": [],
   "source": [
    "# To help me solve this question I will be using a scipy library that has a built-in\n",
    "# feature that that mimics the the CDF of a normal distribution\n",
    "\n",
    "from scipy.stats import norm"
   ]
  },
  {
   "cell_type": "code",
   "execution_count": 38,
   "metadata": {},
   "outputs": [
    {
     "data": {
      "text/plain": [
       "-0.8416"
      ]
     },
     "execution_count": 38,
     "metadata": {},
     "output_type": "execute_result"
    }
   ],
   "source": [
    "# for p = 0.9\n",
    "f = lambda x: norm.cdf(x) - 0.2\n",
    "\n",
    "round(bisectFunc(f,-4,4,10e-10),4)"
   ]
  },
  {
   "cell_type": "code",
   "execution_count": 39,
   "metadata": {},
   "outputs": [
    {
     "data": {
      "text/plain": [
       "1.2816"
      ]
     },
     "execution_count": 39,
     "metadata": {},
     "output_type": "execute_result"
    }
   ],
   "source": [
    "# for p = 0.2\n",
    "\n",
    "f = lambda x: norm.cdf(x) - 0.9\n",
    "\n",
    "round(bisectFunc(f,-4,4,10e-10),4)"
   ]
  },
  {
   "cell_type": "markdown",
   "metadata": {},
   "source": [
    "The numbers that are returned in the following equations are z-scores, and we can look up a z-score table for the standard normal distribution to confirm my answers. \n",
    "For instance, when we look at a z-score of 1.28 we get a probability of 0.8997, and for a z-score of -0.84 we get a probability of 0.2005. This confirms that our answers above are correct.\n",
    "Here is the link for the table I used for reference.\n",
    "https://cnx.org/contents/SCdvoXS4@2/Using-the-Normal-Distribution"
   ]
  },
  {
   "cell_type": "markdown",
   "metadata": {},
   "source": [
    "#### Question 2: A Three-period Model of Storage"
   ]
  },
  {
   "cell_type": "markdown",
   "metadata": {},
   "source": [
    "Consider the market for potatoes, which are storable intra-seasonally (but not inter-seasonally). In this market, the harvest is entirely consumed over three periods, t = 1, 2, 3. Potatoes can be stored at (marginal) cost κ per potato/period. Denoting initial supply by s and consumption in period t by ct, the market\n",
    "equilibrium requires that:\n",
    "$$s = c1 + c2 + c3$$\n",
    "Competition among storers, who have perfect foresight about future prices, eliminates inter-period arbitrage opportunities. Thus,\n",
    "$$p1 + k = \\delta p2$$ and\n",
    "$$p2 + k = \\delta p3 $$\n",
    "\n",
    "where pt is the equilibrium price in period t, κ = 0.1 is per-period unit cost of storage, and δ = 0.9 is\n",
    "per-period discount factor. The demand function, which is assumed to be the same across periods, is given\n",
    "by pt = c\n",
    "−4"
   ]
  },
  {
   "cell_type": "markdown",
   "metadata": {},
   "source": [
    "(a) Write a Python code to compute the equilibrium prices for periods 1, 2 and 3 when s = 1, s = 2, and\n",
    "s = 3. Report the values and comment."
   ]
  },
  {
   "cell_type": "code",
   "execution_count": 52,
   "metadata": {},
   "outputs": [],
   "source": [
    "# I am going to be using fsolve to help me solve the system of non-linear equations.\n",
    "from scipy.optimize import fsolve"
   ]
  },
  {
   "cell_type": "code",
   "execution_count": 53,
   "metadata": {},
   "outputs": [],
   "source": [
    "# Basically what this function does is set up the system of non-linear equations in a \n",
    "# format that fsolve can understand. I define and pass in the three equations we \n",
    "# have listed in the problem above. I also add in any parameters that are need for the \n",
    "# specific problem\n",
    "# k = 0.1 , s = 1, delta = 0.9\n",
    "\n",
    "def myFunc(x):\n",
    "    c1 = x[0]\n",
    "    c2 = x[1]\n",
    "    c3 = x[2]\n",
    "    \n",
    "    F = np.empty((3))\n",
    "    F[0] = c1+c2+c3-1\n",
    "    F[1] = 0.9*(1/(c2**4))-0.1-(1/(c1**4))\n",
    "    F[2] = 0.9*(1/(c3**4))-0.1-(1/(c2**4))\n",
    "    \n",
    "    return F"
   ]
  },
  {
   "cell_type": "code",
   "execution_count": 56,
   "metadata": {},
   "outputs": [
    {
     "data": {
      "text/plain": [
       "array([0.34226229, 0.33325049, 0.32448722])"
      ]
     },
     "execution_count": 56,
     "metadata": {},
     "output_type": "execute_result"
    }
   ],
   "source": [
    "# Making an inital guess\n",
    "xGuess = np.array([2,2,2])\n",
    "\n",
    "# Calling fsolve on the system and passing in the initial guess\n",
    "x = fsolve(myFunc, xGuess)\n",
    "x"
   ]
  },
  {
   "cell_type": "code",
   "execution_count": 57,
   "metadata": {},
   "outputs": [
    {
     "name": "stdout",
     "output_type": "stream",
     "text": [
      "k = 0.1 , s = 1, delta = 0.9\n",
      "----------------------------\n",
      "         Eq Values\n",
      "----------------------------\n",
      "c1 = 0.34226229300147265\n",
      "c2 = 0.333250487897177\n",
      "c3 = 0.32448721910135037\n",
      "\n",
      "p1 = 72.87251823988328\n",
      "p2 = 81.08057582276557\n",
      "p3 = 90.20063980278651\n"
     ]
    }
   ],
   "source": [
    "p1 = 1/(x[0]**4)\n",
    "p2 = 1/(x[1]**4)\n",
    "p3 = 1/(x[2]**4)\n",
    "print(\"k = 0.1 , s = 1, delta = 0.9\")\n",
    "print(\"----------------------------\")\n",
    "print(\"         Eq Values\")\n",
    "print(\"----------------------------\")\n",
    "print(\"c1 =\", x[0])\n",
    "print(\"c2 =\", x[1])\n",
    "print(\"c3 =\", x[2])\n",
    "print()\n",
    "print(\"p1 =\", p1)\n",
    "print(\"p2 =\", p2)\n",
    "print(\"p3 =\", p3)"
   ]
  },
  {
   "cell_type": "markdown",
   "metadata": {},
   "source": [
    "I tried to write and pass in different parameters according to the question, however\n",
    "for some reason I kept getting errors, therefore I had to hardcode, which takes more time and is not as neat but gets you the same answers"
   ]
  },
  {
   "cell_type": "code",
   "execution_count": 62,
   "metadata": {},
   "outputs": [],
   "source": [
    "# k = 0.1 , s = 2, delta = 0.9\n",
    "\n",
    "def myFunc(x):\n",
    "    c1 = x[0]\n",
    "    c2 = x[1]\n",
    "    c3 = x[2]\n",
    "    \n",
    "    F = np.empty((3))\n",
    "    F[0] = c1+c2+c3-2\n",
    "    F[1] = 0.9*(1/(c2**4))-0.1-(1/(c1**4))\n",
    "    F[2] = 0.9*(1/(c3**4))-0.1-(1/(c2**4))\n",
    "    \n",
    "    return F"
   ]
  },
  {
   "cell_type": "code",
   "execution_count": 63,
   "metadata": {},
   "outputs": [
    {
     "data": {
      "text/plain": [
       "array([0.68788076, 0.66629975, 0.64581949])"
      ]
     },
     "execution_count": 63,
     "metadata": {},
     "output_type": "execute_result"
    }
   ],
   "source": [
    "# Making an inital guess\n",
    "xGuess = np.array([1,1,1])\n",
    "\n",
    "# Calling fsolve on the system and passing in the initial guess\n",
    "x = fsolve(myFunc, xGuess)\n",
    "x"
   ]
  },
  {
   "cell_type": "code",
   "execution_count": 64,
   "metadata": {},
   "outputs": [
    {
     "name": "stdout",
     "output_type": "stream",
     "text": [
      "k = 0.1 , s = 2, delta = 0.9\n",
      "----------------------------\n",
      "         Eq Values\n",
      "----------------------------\n",
      "c1 = 0.6878807611692905\n",
      "c2 = 0.6662997497516732\n",
      "c3 = 0.6458194890790363\n",
      "\n",
      "p1 = 4.466294407861632\n",
      "p2 = 5.073660453162372\n",
      "p3 = 5.748511614610137\n"
     ]
    }
   ],
   "source": [
    "p1 = 1/(x[0]**4)\n",
    "p2 = 1/(x[1]**4)\n",
    "p3 = 1/(x[2]**4)\n",
    "print(\"k = 0.1 , s = 2, delta = 0.9\")\n",
    "print(\"----------------------------\")\n",
    "print(\"         Eq Values\")\n",
    "print(\"----------------------------\")\n",
    "print(\"c1 =\", x[0])\n",
    "print(\"c2 =\", x[1])\n",
    "print(\"c3 =\", x[2])\n",
    "print()\n",
    "print(\"p1 =\", p1)\n",
    "print(\"p2 =\", p2)\n",
    "print(\"p3 =\", p3)"
   ]
  },
  {
   "cell_type": "code",
   "execution_count": 65,
   "metadata": {},
   "outputs": [],
   "source": [
    "# k = 0.1 , s = 3, delta = 0.9\n",
    "\n",
    "def myFunc(x):\n",
    "    c1 = x[0]\n",
    "    c2 = x[1]\n",
    "    c3 = x[2]\n",
    "    \n",
    "    F = np.empty((3))\n",
    "    F[0] = c1+c2+c3-3\n",
    "    F[1] = 0.9*(1/(c2**4))-0.1-(1/(c1**4))\n",
    "    F[2] = 0.9*(1/(c3**4))-0.1-(1/(c2**4))\n",
    "    \n",
    "    return F"
   ]
  },
  {
   "cell_type": "code",
   "execution_count": 66,
   "metadata": {},
   "outputs": [
    {
     "data": {
      "text/plain": [
       "array([1.05408586, 0.99723572, 0.94867842])"
      ]
     },
     "execution_count": 66,
     "metadata": {},
     "output_type": "execute_result"
    }
   ],
   "source": [
    "# Making an inital guess\n",
    "xGuess = np.array([1,1,1])\n",
    "\n",
    "# Calling fsolve on the system and passing in the initial guess\n",
    "x = fsolve(myFunc, xGuess)\n",
    "x"
   ]
  },
  {
   "cell_type": "code",
   "execution_count": 67,
   "metadata": {},
   "outputs": [
    {
     "name": "stdout",
     "output_type": "stream",
     "text": [
      "k = 0.1 , s = 2, delta = 0.9\n",
      "----------------------------\n",
      "         Eq Values\n",
      "----------------------------\n",
      "c1 = 1.0540858619234086\n",
      "c2 = 0.9972357181195423\n",
      "c3 = 0.948678419957049\n",
      "\n",
      "p1 = 0.8100205681123656\n",
      "p2 = 1.0111339645692772\n",
      "p3 = 1.2345932939659066\n"
     ]
    }
   ],
   "source": [
    "p1 = 1/(x[0]**4)\n",
    "p2 = 1/(x[1]**4)\n",
    "p3 = 1/(x[2]**4)\n",
    "print(\"k = 0.1 , s = 2, delta = 0.9\")\n",
    "print(\"----------------------------\")\n",
    "print(\"         Eq Values\")\n",
    "print(\"----------------------------\")\n",
    "print(\"c1 =\", x[0])\n",
    "print(\"c2 =\", x[1])\n",
    "print(\"c3 =\", x[2])\n",
    "print()\n",
    "print(\"p1 =\", p1)\n",
    "print(\"p2 =\", p2)\n",
    "print(\"p3 =\", p3)"
   ]
  },
  {
   "cell_type": "markdown",
   "metadata": {},
   "source": [
    "We can see that doubling and tripling s (the supply) from 1 to 2 and then from 2 to 3, dramtatically effects the prices of the good in each period. Logically this makes sense as if you were to double the supply of something in the market it becomes less valuable and you will see a shift downward in prices. Its also worth nothing that consumption is always the greatest in the first period and then decreasing slowly afterwards, and price is always less in the first period and then slowly increases. This is resulting from the discount factor of 0.9. On average the following periods prices will be atleast 1/0.9 = 1.1 times larger than the previous period. Also because there is a cost of storage of k=0.1 to store the goods per period, this means that the there is a higher cost in holding onto the goods, which results in the lower consumption by the third period"
   ]
  },
  {
   "cell_type": "markdown",
   "metadata": {},
   "source": [
    "(b) Now solve the model when κ = 0.2 and s = 1. Report the equilibrium values and comment."
   ]
  },
  {
   "cell_type": "code",
   "execution_count": 68,
   "metadata": {},
   "outputs": [],
   "source": [
    "# k = 0.2 , s = 1, delta = 0.9\n",
    "def myFunc(x):\n",
    "    c1 = x[0]\n",
    "    c2 = x[1]\n",
    "    c3 = x[2]\n",
    "    \n",
    "    F = np.empty((3))\n",
    "    F[0] = c1+c2+c3-1\n",
    "    F[1] = 0.9*(1/(c2**4))-0.2-(1/(c1**4))\n",
    "    F[2] = 0.9*(1/(c3**4))-0.2-(1/(c2**4))\n",
    "    \n",
    "    return F"
   ]
  },
  {
   "cell_type": "code",
   "execution_count": 69,
   "metadata": {},
   "outputs": [
    {
     "data": {
      "text/plain": [
       "array([0.34237375, 0.3332446 , 0.32438165])"
      ]
     },
     "execution_count": 69,
     "metadata": {},
     "output_type": "execute_result"
    }
   ],
   "source": [
    "xGuess = np.array([1,1,1])\n",
    "x = fsolve(myFunc, xGuess)\n",
    "x"
   ]
  },
  {
   "cell_type": "code",
   "execution_count": 71,
   "metadata": {},
   "outputs": [
    {
     "name": "stdout",
     "output_type": "stream",
     "text": [
      "k = 0.2 , s = 1, delta = 0.9\n",
      "----------------------------\n",
      "         Eq Values\n",
      "----------------------------\n",
      "c1 = 0.3423737470774766\n",
      "c2 = 0.3332446008953794\n",
      "c3 = 0.324381652027144\n",
      "\n",
      "p1 = 72.77767482185594\n",
      "p2 = 81.08630535768158\n",
      "p3 = 90.31811706408006\n"
     ]
    }
   ],
   "source": [
    "p1 = 1/(x[0]**4)\n",
    "p2 = 1/(x[1]**4)\n",
    "p3 = 1/(x[2]**4)\n",
    "print(\"k = 0.2 , s = 1, delta = 0.9\")\n",
    "print(\"----------------------------\")\n",
    "print(\"         Eq Values\")\n",
    "print(\"----------------------------\")\n",
    "print(\"c1 =\", x[0])\n",
    "print(\"c2 =\", x[1])\n",
    "print(\"c3 =\", x[2])\n",
    "print()\n",
    "print(\"p1 =\", p1)\n",
    "print(\"p2 =\", p2)\n",
    "print(\"p3 =\", p3)"
   ]
  },
  {
   "cell_type": "markdown",
   "metadata": {},
   "source": [
    "The above example represents an increase in the per-period unit cost of storage. When comparing this to the very first example where we had s = 1, delta = 0.9, and k = 0.1,\n",
    "we can see that the prices and consumption levels in each period are very similar. \n",
    "We have decreasing consumption as the periods progress and increasing prices.  "
   ]
  },
  {
   "cell_type": "markdown",
   "metadata": {},
   "source": [
    "(c) Now solve the model when κ = 0.1, s = 1 and δ = 0.5 . Report the equilibrium values and comment."
   ]
  },
  {
   "cell_type": "code",
   "execution_count": 78,
   "metadata": {},
   "outputs": [],
   "source": [
    "# k = 0.1 , s = 1, delta = 0.5\n",
    "def myFunc(x):\n",
    "    c1 = x[0]\n",
    "    c2 = x[1]\n",
    "    c3 = x[2]\n",
    "    \n",
    "    F = np.empty((3))\n",
    "    F[0] = c1+c2+c3-1\n",
    "    F[1] = 0.5*(1/(c2**4))-0.1-(1/(c1**4))\n",
    "    F[2] = 0.5*(1/(c3**4))-0.1-(1/(c2**4))\n",
    "    \n",
    "    return F"
   ]
  },
  {
   "cell_type": "code",
   "execution_count": 79,
   "metadata": {},
   "outputs": [
    {
     "data": {
      "text/plain": [
       "array([0.39263796, 0.32997197, 0.27739007])"
      ]
     },
     "execution_count": 79,
     "metadata": {},
     "output_type": "execute_result"
    }
   ],
   "source": [
    "xGuess = np.array([1,1,1])\n",
    "x = fsolve(myFunc, xGuess)\n",
    "x"
   ]
  },
  {
   "cell_type": "code",
   "execution_count": 80,
   "metadata": {},
   "outputs": [
    {
     "name": "stdout",
     "output_type": "stream",
     "text": [
      "k = 0.1 , s = 1, delta = 0.5\n",
      "----------------------------\n",
      "         Eq Values\n",
      "----------------------------\n",
      "c1 = 0.3926379606616476\n",
      "c2 = 0.3299719693723708\n",
      "c3 = 0.27739006996598164\n",
      "\n",
      "p1 = 42.075652397751554\n",
      "p2 = 84.35130479567195\n",
      "p3 = 168.90260958921357\n"
     ]
    }
   ],
   "source": [
    "p1 = 1/(x[0]**4)\n",
    "p2 = 1/(x[1]**4)\n",
    "p3 = 1/(x[2]**4)\n",
    "print(\"k = 0.1 , s = 1, delta = 0.5\")\n",
    "print(\"----------------------------\")\n",
    "print(\"         Eq Values\")\n",
    "print(\"----------------------------\")\n",
    "print(\"c1 =\", x[0])\n",
    "print(\"c2 =\", x[1])\n",
    "print(\"c3 =\", x[2])\n",
    "print()\n",
    "print(\"p1 =\", p1)\n",
    "print(\"p2 =\", p2)\n",
    "print(\"p3 =\", p3)"
   ]
  },
  {
   "cell_type": "markdown",
   "metadata": {},
   "source": [
    "This example is where we get the largest disparity between price levels as time progress. This is all a result of decreasing the discount factor from 0.9 to 0.5. Because the discount factor is 0.5, you can expect to see the next periods prices being\n",
    "1/0.5 = 2 times as big as the previous periods, which is exactly what we see. With such  a large increase is prices period over period you would expect consumption to fall period over period, which is also exaclty what we see in the model. In all other instances the consumption values period over period where relatively close, but in this example because of the large increases in price we can see that consumption is the most disperse."
   ]
  },
  {
   "cell_type": "code",
   "execution_count": null,
   "metadata": {},
   "outputs": [],
   "source": []
  },
  {
   "cell_type": "code",
   "execution_count": 81,
   "metadata": {},
   "outputs": [
    {
     "name": "stdout",
     "output_type": "stream",
     "text": [
      "[NbConvertApp] WARNING | pattern 'Assignment_3.pdf' matched no files\n",
      "This application is used to convert notebook files (*.ipynb) to various other\n",
      "formats.\n",
      "\n",
      "WARNING: THE COMMANDLINE INTERFACE MAY CHANGE IN FUTURE RELEASES.\n",
      "\n",
      "Options\n",
      "-------\n",
      "\n",
      "Arguments that take values are actually convenience aliases to full\n",
      "Configurables, whose aliases are listed on the help line. For more information\n",
      "on full configurables, see '--help-all'.\n",
      "\n",
      "--debug\n",
      "    set log level to logging.DEBUG (maximize logging output)\n",
      "--generate-config\n",
      "    generate default config file\n",
      "-y\n",
      "    Answer yes to any questions instead of prompting.\n",
      "--execute\n",
      "    Execute the notebook prior to export.\n",
      "--allow-errors\n",
      "    Continue notebook execution even if one of the cells throws an error and include the error message in the cell output (the default behaviour is to abort conversion). This flag is only relevant if '--execute' was specified, too.\n",
      "--stdin\n",
      "    read a single notebook file from stdin. Write the resulting notebook with default basename 'notebook.*'\n",
      "--stdout\n",
      "    Write notebook output to stdout instead of files.\n",
      "--inplace\n",
      "    Run nbconvert in place, overwriting the existing notebook (only \n",
      "    relevant when converting to notebook format)\n",
      "--clear-output\n",
      "    Clear output of current file and save in place, \n",
      "    overwriting the existing notebook.\n",
      "--no-prompt\n",
      "    Exclude input and output prompts from converted document.\n",
      "--no-input\n",
      "    Exclude input cells and output prompts from converted document. \n",
      "    This mode is ideal for generating code-free reports.\n",
      "--log-level=<Enum> (Application.log_level)\n",
      "    Default: 30\n",
      "    Choices: (0, 10, 20, 30, 40, 50, 'DEBUG', 'INFO', 'WARN', 'ERROR', 'CRITICAL')\n",
      "    Set the log level by value or name.\n",
      "--config=<Unicode> (JupyterApp.config_file)\n",
      "    Default: ''\n",
      "    Full path of a config file.\n",
      "--to=<Unicode> (NbConvertApp.export_format)\n",
      "    Default: 'html'\n",
      "    The export format to be used, either one of the built-in formats\n",
      "    ['PDFviaHTML', 'asciidoc', 'custom', 'html', 'latex', 'markdown',\n",
      "    'notebook', 'pdf', 'python', 'rst', 'script', 'slides'] or a dotted object\n",
      "    name that represents the import path for an `Exporter` class\n",
      "--template=<Unicode> (TemplateExporter.template_file)\n",
      "    Default: ''\n",
      "    Name of the template file to use\n",
      "--writer=<DottedObjectName> (NbConvertApp.writer_class)\n",
      "    Default: 'FilesWriter'\n",
      "    Writer class used to write the  results of the conversion\n",
      "--post=<DottedOrNone> (NbConvertApp.postprocessor_class)\n",
      "    Default: ''\n",
      "    PostProcessor class used to write the results of the conversion\n",
      "--output=<Unicode> (NbConvertApp.output_base)\n",
      "    Default: ''\n",
      "    overwrite base name use for output files. can only be used when converting\n",
      "    one notebook at a time.\n",
      "--output-dir=<Unicode> (FilesWriter.build_directory)\n",
      "    Default: ''\n",
      "    Directory to write output(s) to. Defaults to output to the directory of each\n",
      "    notebook. To recover previous default behaviour (outputting to the current\n",
      "    working directory) use . as the flag value.\n",
      "--reveal-prefix=<Unicode> (SlidesExporter.reveal_url_prefix)\n",
      "    Default: ''\n",
      "    The URL prefix for reveal.js (version 3.x). This defaults to the reveal CDN,\n",
      "    but can be any url pointing to a copy  of reveal.js.\n",
      "    For speaker notes to work, this must be a relative path to a local  copy of\n",
      "    reveal.js: e.g., \"reveal.js\".\n",
      "    If a relative path is given, it must be a subdirectory of the current\n",
      "    directory (from which the server is run).\n",
      "    See the usage documentation\n",
      "    (https://nbconvert.readthedocs.io/en/latest/usage.html#reveal-js-html-\n",
      "    slideshow) for more details.\n",
      "--nbformat=<Enum> (NotebookExporter.nbformat_version)\n",
      "    Default: 4\n",
      "    Choices: [1, 2, 3, 4]\n",
      "    The nbformat version to write. Use this to downgrade notebooks.\n",
      "\n",
      "To see all available configurables, use `--help-all`\n",
      "\n",
      "Examples\n",
      "--------\n",
      "\n",
      "    The simplest way to use nbconvert is\n",
      "    \n",
      "    > jupyter nbconvert mynotebook.ipynb\n",
      "    \n",
      "    which will convert mynotebook.ipynb to the default format (probably HTML).\n",
      "    \n",
      "    You can specify the export format with `--to`.\n",
      "    Options include ['PDFviaHTML', 'asciidoc', 'custom', 'html', 'latex', 'markdown', 'notebook', 'pdf', 'python', 'rst', 'script', 'slides'].\n",
      "    \n",
      "    > jupyter nbconvert --to latex mynotebook.ipynb\n",
      "    \n",
      "    Both HTML and LaTeX support multiple output templates. LaTeX includes\n",
      "    'base', 'article' and 'report'.  HTML includes 'basic' and 'full'. You\n",
      "    can specify the flavor of the format used.\n",
      "    \n",
      "    > jupyter nbconvert --to html --template basic mynotebook.ipynb\n",
      "    \n",
      "    You can also pipe the output to stdout, rather than a file\n",
      "    \n",
      "    > jupyter nbconvert mynotebook.ipynb --stdout\n",
      "    \n",
      "    PDF is generated via latex\n",
      "    \n",
      "    > jupyter nbconvert mynotebook.ipynb --to pdf\n",
      "    \n",
      "    You can get (and serve) a Reveal.js-powered slideshow\n",
      "    \n",
      "    > jupyter nbconvert myslides.ipynb --to slides --post serve\n",
      "    \n",
      "    Multiple notebooks can be given at the command line in a couple of \n",
      "    different ways:\n",
      "    \n",
      "    > jupyter nbconvert notebook*.ipynb\n",
      "    > jupyter nbconvert notebook1.ipynb notebook2.ipynb\n",
      "    \n",
      "    or you can specify the notebooks list in a config file, containing::\n",
      "    \n",
      "        c.NbConvertApp.notebooks = [\"my_notebook.ipynb\"]\n",
      "    \n",
      "    > jupyter nbconvert --config mycfg.py\n",
      "\n"
     ]
    }
   ],
   "source": [
    "!jupyter-nbconvert --to PDFviaHTML Assignment_3.pdf"
   ]
  },
  {
   "cell_type": "code",
   "execution_count": null,
   "metadata": {},
   "outputs": [],
   "source": []
  }
 ],
 "metadata": {
  "kernelspec": {
   "display_name": "Python 3",
   "language": "python",
   "name": "python3"
  },
  "language_info": {
   "codemirror_mode": {
    "name": "ipython",
    "version": 3
   },
   "file_extension": ".py",
   "mimetype": "text/x-python",
   "name": "python",
   "nbconvert_exporter": "python",
   "pygments_lexer": "ipython3",
   "version": "3.8.0"
  }
 },
 "nbformat": 4,
 "nbformat_minor": 4
}
