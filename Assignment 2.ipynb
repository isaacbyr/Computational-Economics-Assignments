{
 "cells": [
  {
   "cell_type": "code",
   "execution_count": 37,
   "metadata": {},
   "outputs": [],
   "source": [
    "import pandas as pd\n",
    "import numpy as np\n",
    "import matplotlib.pyplot as plt\n",
    "import scipy as sp\n",
    "from sympy import *\n",
    "import scipy.linalg as la"
   ]
  },
  {
   "cell_type": "markdown",
   "metadata": {},
   "source": [
    "### Question 1:  Matrices and Systems of Linear Equations\n",
    "Given the following matrices\n",
    "$$A = \\begin{bmatrix} 0 & -1 & 2 \\\\ -20 & -1 & 4 \\\\ -2 & 7 & -3 \\end{bmatrix}$$\n",
    "\n",
    "$$B = \\begin{bmatrix} -7 & 1 & 1 \\\\ 7 & -3 & -2 \\\\ 3 & 5 & 0 \\end{bmatrix}$$\n",
    "\n",
    "Solve for C given $$C = A*B $$"
   ]
  },
  {
   "cell_type": "code",
   "execution_count": 24,
   "metadata": {},
   "outputs": [
    {
     "data": {
      "text/plain": [
       "matrix([[  0,  -1,   2],\n",
       "        [-20,  -1,   4],\n",
       "        [ -2,   7,  -3]])"
      ]
     },
     "execution_count": 24,
     "metadata": {},
     "output_type": "execute_result"
    }
   ],
   "source": [
    "A = np.matrix([[0,-1,2],\n",
    "            [-20,-1,4],\n",
    "            [-2,7,-3]])\n",
    "A"
   ]
  },
  {
   "cell_type": "code",
   "execution_count": 25,
   "metadata": {},
   "outputs": [
    {
     "data": {
      "text/plain": [
       "matrix([[-7,  1,  1],\n",
       "        [ 7, -3, -2],\n",
       "        [ 3,  5,  0]])"
      ]
     },
     "execution_count": 25,
     "metadata": {},
     "output_type": "execute_result"
    }
   ],
   "source": [
    "B = np.matrix([[-7,1,1],\n",
    "             [7,-3,-2],\n",
    "             [3,5,0]])\n",
    "B"
   ]
  },
  {
   "cell_type": "code",
   "execution_count": 23,
   "metadata": {},
   "outputs": [
    {
     "data": {
      "text/plain": [
       "matrix([[ -1,  13,   2],\n",
       "        [145,   3, -18],\n",
       "        [ 54, -38, -16]])"
      ]
     },
     "execution_count": 23,
     "metadata": {},
     "output_type": "execute_result"
    }
   ],
   "source": [
    "C = A*B\n",
    "C"
   ]
  },
  {
   "cell_type": "markdown",
   "metadata": {},
   "source": [
    "Part 2. Solve the equation $$C x =y$$"
   ]
  },
  {
   "cell_type": "code",
   "execution_count": 26,
   "metadata": {},
   "outputs": [
    {
     "data": {
      "text/plain": [
       "array([[-0.10590278,  0.01909722, -0.03472222],\n",
       "       [ 0.19502315, -0.01331019,  0.03935185],\n",
       "       [-0.82060185,  0.09606481, -0.27314815]])"
      ]
     },
     "execution_count": 26,
     "metadata": {},
     "output_type": "execute_result"
    }
   ],
   "source": [
    "C_inv = la.inv(C)\n",
    "C_inv"
   ]
  },
  {
   "cell_type": "code",
   "execution_count": 33,
   "metadata": {},
   "outputs": [
    {
     "data": {
      "text/plain": [
       "matrix([[ 1],\n",
       "        [-1],\n",
       "        [ 2]])"
      ]
     },
     "execution_count": 33,
     "metadata": {},
     "output_type": "execute_result"
    }
   ],
   "source": [
    "y = np.matrix([[1],\n",
    "              [-1],\n",
    "              [2]])\n",
    "y"
   ]
  },
  {
   "cell_type": "code",
   "execution_count": 35,
   "metadata": {},
   "outputs": [
    {
     "data": {
      "text/plain": [
       "matrix([[-0.19444444],\n",
       "        [ 0.28703704],\n",
       "        [-1.46296296]])"
      ]
     },
     "execution_count": 35,
     "metadata": {},
     "output_type": "execute_result"
    }
   ],
   "source": [
    "x = np.dot(C_inv, y)\n",
    "x"
   ]
  },
  {
   "cell_type": "markdown",
   "metadata": {},
   "source": [
    "### Question 2: Estimating some simple Keynesian consumption functions\n",
    "\n",
    "The Excel file US data.xls contains data on aggregate consumption (Ct), income (Yt), and the interest rate (rt) for the U.S. economy. All variables are nominal, quarterly, and span the period 1960Q1-2019Q3.\n",
    "\n",
    "a) Import the data using Pandas"
   ]
  },
  {
   "cell_type": "code",
   "execution_count": 290,
   "metadata": {},
   "outputs": [],
   "source": [
    "data = pd.read_csv('US_data.csv')"
   ]
  },
  {
   "cell_type": "code",
   "execution_count": 399,
   "metadata": {},
   "outputs": [
    {
     "data": {
      "text/html": [
       "<div>\n",
       "<style scoped>\n",
       "    .dataframe tbody tr th:only-of-type {\n",
       "        vertical-align: middle;\n",
       "    }\n",
       "\n",
       "    .dataframe tbody tr th {\n",
       "        vertical-align: top;\n",
       "    }\n",
       "\n",
       "    .dataframe thead th {\n",
       "        text-align: right;\n",
       "    }\n",
       "</style>\n",
       "<table border=\"1\" class=\"dataframe\">\n",
       "  <thead>\n",
       "    <tr style=\"text-align: right;\">\n",
       "      <th></th>\n",
       "      <th>Date</th>\n",
       "      <th>Consumption</th>\n",
       "      <th>GDP</th>\n",
       "      <th>Interest Rate</th>\n",
       "    </tr>\n",
       "  </thead>\n",
       "  <tbody>\n",
       "    <tr>\n",
       "      <th>0</th>\n",
       "      <td>1960-01-01</td>\n",
       "      <td>326.36</td>\n",
       "      <td>542.65</td>\n",
       "      <td>4.49</td>\n",
       "    </tr>\n",
       "    <tr>\n",
       "      <th>1</th>\n",
       "      <td>1960-04-01</td>\n",
       "      <td>332.21</td>\n",
       "      <td>541.08</td>\n",
       "      <td>4.26</td>\n",
       "    </tr>\n",
       "    <tr>\n",
       "      <th>2</th>\n",
       "      <td>1960-07-01</td>\n",
       "      <td>332.13</td>\n",
       "      <td>545.60</td>\n",
       "      <td>3.83</td>\n",
       "    </tr>\n",
       "    <tr>\n",
       "      <th>3</th>\n",
       "      <td>1960-10-01</td>\n",
       "      <td>334.02</td>\n",
       "      <td>540.20</td>\n",
       "      <td>3.89</td>\n",
       "    </tr>\n",
       "    <tr>\n",
       "      <th>4</th>\n",
       "      <td>1961-01-01</td>\n",
       "      <td>334.52</td>\n",
       "      <td>545.02</td>\n",
       "      <td>3.79</td>\n",
       "    </tr>\n",
       "    <tr>\n",
       "      <th>...</th>\n",
       "      <td>...</td>\n",
       "      <td>...</td>\n",
       "      <td>...</td>\n",
       "      <td>...</td>\n",
       "    </tr>\n",
       "    <tr>\n",
       "      <th>234</th>\n",
       "      <td>2018-07-01</td>\n",
       "      <td>14114.56</td>\n",
       "      <td>20749.75</td>\n",
       "      <td>2.93</td>\n",
       "    </tr>\n",
       "    <tr>\n",
       "      <th>235</th>\n",
       "      <td>2018-10-01</td>\n",
       "      <td>14211.92</td>\n",
       "      <td>20897.80</td>\n",
       "      <td>3.03</td>\n",
       "    </tr>\n",
       "    <tr>\n",
       "      <th>236</th>\n",
       "      <td>2019-01-01</td>\n",
       "      <td>14266.25</td>\n",
       "      <td>21098.83</td>\n",
       "      <td>2.65</td>\n",
       "    </tr>\n",
       "    <tr>\n",
       "      <th>237</th>\n",
       "      <td>2019-04-01</td>\n",
       "      <td>14511.18</td>\n",
       "      <td>21340.27</td>\n",
       "      <td>2.33</td>\n",
       "    </tr>\n",
       "    <tr>\n",
       "      <th>238</th>\n",
       "      <td>2019-07-01</td>\n",
       "      <td>14669.27</td>\n",
       "      <td>21525.82</td>\n",
       "      <td>1.80</td>\n",
       "    </tr>\n",
       "  </tbody>\n",
       "</table>\n",
       "<p>239 rows × 4 columns</p>\n",
       "</div>"
      ],
      "text/plain": [
       "           Date  Consumption      GDP  Interest Rate\n",
       "0    1960-01-01       326.36   542.65           4.49\n",
       "1    1960-04-01       332.21   541.08           4.26\n",
       "2    1960-07-01       332.13   545.60           3.83\n",
       "3    1960-10-01       334.02   540.20           3.89\n",
       "4    1961-01-01       334.52   545.02           3.79\n",
       "..          ...          ...      ...            ...\n",
       "234  2018-07-01     14114.56 20749.75           2.93\n",
       "235  2018-10-01     14211.92 20897.80           3.03\n",
       "236  2019-01-01     14266.25 21098.83           2.65\n",
       "237  2019-04-01     14511.18 21340.27           2.33\n",
       "238  2019-07-01     14669.27 21525.82           1.80\n",
       "\n",
       "[239 rows x 4 columns]"
      ]
     },
     "execution_count": 399,
     "metadata": {},
     "output_type": "execute_result"
    }
   ],
   "source": [
    "data = data.rename(columns= {'observation_date':'Date', \"PCEC\": 'Consumption',\n",
    "                            'GDP': 'GDP', 'IRLTLT01USQ156N': 'Interest Rate'} )\n",
    "data"
   ]
  },
  {
   "cell_type": "markdown",
   "metadata": {},
   "source": [
    "(b) Plot the three series on the same graph."
   ]
  },
  {
   "cell_type": "code",
   "execution_count": 306,
   "metadata": {},
   "outputs": [
    {
     "data": {
      "image/png": "[encoded data removed]",
      "text/plain": [
       "<Figure size 720x576 with 1 Axes>"
      ]
     },
     "metadata": {
      "needs_background": "light"
     },
     "output_type": "display_data"
    }
   ],
   "source": [
    "#Plotting the three series\n",
    "f, ax = plt.subplots(figsize = (10,8))\n",
    "\n",
    "plt.bar(x = data['Date'], height = data['GDP'], label = 'GDP')\n",
    "plt.bar(x = data['Date'], height = data['Consumption'], label = 'Consumption')\n",
    "plt.bar(x = data['Date'], height = data['Interest Rate'], label = 'Interest Rate')\n",
    "plt.title('GDP, Investment and Interest Rate')\n",
    "plt.xlabel('Date')\n",
    "plt.legend()\n",
    "plt.show()"
   ]
  },
  {
   "cell_type": "markdown",
   "metadata": {},
   "source": [
    "Because of the different scales of our data when plotting all three on the same graph we are not able to see the interest rate series. However for Consumption and GDP we can see a gradual uptrend as the time progresses. "
   ]
  },
  {
   "cell_type": "code",
   "execution_count": 528,
   "metadata": {},
   "outputs": [
    {
     "data": {
      "image/png": "[encoded data removed]",
      "text/plain": [
       "<Figure size 432x288 with 1 Axes>"
      ]
     },
     "metadata": {
      "needs_background": "light"
     },
     "output_type": "display_data"
    }
   ],
   "source": [
    "# Here is a seperate plot of the interest rate so we can get a better appoximation\n",
    "\n",
    "plt.bar(x = data['Date'], height = data['Interest Rate'], label = 'Interest Rate')\n",
    "plt.title('Interest Rate')\n",
    "plt.xlabel('Date')\n",
    "plt.legend()\n",
    "plt.show()"
   ]
  },
  {
   "cell_type": "markdown",
   "metadata": {},
   "source": [
    "(c) Using only matrix operations, compute the OLS (point) estimates for these two (nested) models:\n",
    "\n",
    "$$Ct = α0 + α1Yt + \u000ft$$\n",
    "\n",
    "$$Ct = β0 + β1Yt + β2rt + εt$$"
   ]
  },
  {
   "cell_type": "markdown",
   "metadata": {},
   "source": [
    "First $$Ct = α0 + α1Yt + \u000ft$$"
   ]
  },
  {
   "cell_type": "code",
   "execution_count": 481,
   "metadata": {},
   "outputs": [],
   "source": [
    "Y = data['Consumption']\n",
    "X = data['GDP']\n",
    "\n",
    "# Creating the matrix X which has a column of ones and a column of \n",
    "X = np.vstack([X, np.ones(len(X))]).T"
   ]
  },
  {
   "cell_type": "markdown",
   "metadata": {},
   "source": [
    "Finding $$\\hat{B} = (X'X)^{-1} X'Y$$"
   ]
  },
  {
   "cell_type": "code",
   "execution_count": 446,
   "metadata": {},
   "outputs": [
    {
     "data": {
      "text/plain": [
       "array([   0.68487276, -167.1292038 ])"
      ]
     },
     "execution_count": 446,
     "metadata": {},
     "output_type": "execute_result"
    }
   ],
   "source": [
    "beta = np.dot(np.linalg.inv(np.dot(X.T, X)), np.dot(X.T, Y))\n",
    "beta"
   ]
  },
  {
   "cell_type": "markdown",
   "metadata": {},
   "source": [
    "The first number represents the slope and the second number represents the y intercept"
   ]
  },
  {
   "cell_type": "markdown",
   "metadata": {},
   "source": [
    "Finding $$\\hat{Y} = X\\hat{B}$$"
   ]
  },
  {
   "cell_type": "code",
   "execution_count": 447,
   "metadata": {
    "scrolled": true
   },
   "outputs": [],
   "source": [
    "y_hat = np.dot(X,beta)"
   ]
  },
  {
   "cell_type": "code",
   "execution_count": 448,
   "metadata": {},
   "outputs": [
    {
     "data": {
      "text/plain": [
       "4899.165556485355"
      ]
     },
     "execution_count": 448,
     "metadata": {},
     "output_type": "execute_result"
    }
   ],
   "source": [
    "# Finding y_bar\n",
    "\n",
    "y_bar = np.mean(Y)\n",
    "y_bar"
   ]
  },
  {
   "cell_type": "markdown",
   "metadata": {},
   "source": [
    "Now we need to calculate $R^{2}$. To do that we need to find SST and SSR\n",
    "$$SST = \\sum\\limits_{i=1}^{n}(y_{i} - \\bar{y})^{2}$$\n",
    "$$SSR = \\sum\\limits_{i=1}^{n}(\\hat{y}_{i} - \\bar{y})^{2}$$\n",
    "$$R^{2} = SSR/SST$$"
   ]
  },
  {
   "cell_type": "code",
   "execution_count": 449,
   "metadata": {},
   "outputs": [
    {
     "data": {
      "text/plain": [
       "4308198791.755816"
      ]
     },
     "execution_count": 449,
     "metadata": {},
     "output_type": "execute_result"
    }
   ],
   "source": [
    "SSR = np.sum((y_hat-y_bar)**2)\n",
    "SSR"
   ]
  },
  {
   "cell_type": "code",
   "execution_count": 450,
   "metadata": {},
   "outputs": [
    {
     "data": {
      "text/plain": [
       "4310095256.307289"
      ]
     },
     "execution_count": 450,
     "metadata": {},
     "output_type": "execute_result"
    }
   ],
   "source": [
    "SST = np.sum((Y-y_bar)**2)\n",
    "SST"
   ]
  },
  {
   "cell_type": "code",
   "execution_count": 451,
   "metadata": {},
   "outputs": [
    {
     "data": {
      "text/plain": [
       "0.9995599947475181"
      ]
     },
     "execution_count": 451,
     "metadata": {},
     "output_type": "execute_result"
    }
   ],
   "source": [
    "R_2 = SSR/SST\n",
    "R_2"
   ]
  },
  {
   "cell_type": "code",
   "execution_count": 462,
   "metadata": {},
   "outputs": [],
   "source": [
    "# Creating a DataFrame to load our answers into\n",
    "r_2_table = pd.DataFrame(columns = ['Equation', 'R2'])\n",
    "r_2_table = r_2_table.append({'Equation' :'1', 'R2':R_2}, ignore_index=True)"
   ]
  },
  {
   "cell_type": "markdown",
   "metadata": {},
   "source": [
    "Next $$Ct = β0 + β1Yt + β2rt + εt$$"
   ]
  },
  {
   "cell_type": "code",
   "execution_count": 453,
   "metadata": {},
   "outputs": [],
   "source": [
    "r = data['Interest Rate']\n",
    "Y = data['Consumption']\n",
    "X = data['GDP']\n",
    "\n",
    "X = np.vstack([X, r, np.ones(len(X))]).T"
   ]
  },
  {
   "cell_type": "markdown",
   "metadata": {},
   "source": [
    "Finding $$\\hat{β} = (X'X)^-1 X'Y$$"
   ]
  },
  {
   "cell_type": "code",
   "execution_count": 454,
   "metadata": {},
   "outputs": [
    {
     "data": {
      "text/plain": [
       "array([  0.67807397, -25.29811167,  36.64662999])"
      ]
     },
     "execution_count": 454,
     "metadata": {},
     "output_type": "execute_result"
    }
   ],
   "source": [
    "beta = np.dot(np.linalg.inv(np.dot(X.T, X)), np.dot(X.T, Y))\n",
    "beta"
   ]
  },
  {
   "cell_type": "markdown",
   "metadata": {},
   "source": [
    "Finding $$\\hat{Y} = X\\hat{B}$$"
   ]
  },
  {
   "cell_type": "code",
   "execution_count": 455,
   "metadata": {
    "scrolled": true
   },
   "outputs": [],
   "source": [
    "y_hat = np.dot(X,beta)"
   ]
  },
  {
   "cell_type": "markdown",
   "metadata": {},
   "source": [
    "As before,  we need to calculate $R^{2}$. To do that we need to find SST and SSR\n",
    "$$SST = \\sum\\limits_{i=1}^{n}(y_{i} - \\bar{y})^{2}$$\n",
    "$$SSR = \\sum\\limits_{i=1}^{n}(\\hat{y}_{i} - \\bar{y})^{2}$$\n",
    "$$R^{2} = SSR/SST$$"
   ]
  },
  {
   "cell_type": "code",
   "execution_count": 456,
   "metadata": {},
   "outputs": [
    {
     "data": {
      "text/plain": [
       "4309024564.952015"
      ]
     },
     "execution_count": 456,
     "metadata": {},
     "output_type": "execute_result"
    }
   ],
   "source": [
    "SSR = np.sum((y_hat-y_bar)**2)\n",
    "SSR"
   ]
  },
  {
   "cell_type": "code",
   "execution_count": 457,
   "metadata": {},
   "outputs": [
    {
     "data": {
      "text/plain": [
       "4310095256.307289"
      ]
     },
     "execution_count": 457,
     "metadata": {},
     "output_type": "execute_result"
    }
   ],
   "source": [
    "SST = np.sum((Y-y_bar)**2)\n",
    "SST"
   ]
  },
  {
   "cell_type": "markdown",
   "metadata": {},
   "source": [
    "R_2 = SSR/SST\n",
    "R_2\n",
    "r_2_table = r_2_table.append({'Equation' :'2', 'R2':R_2}, ignore_index=True)"
   ]
  },
  {
   "cell_type": "code",
   "execution_count": 464,
   "metadata": {},
   "outputs": [
    {
     "data": {
      "text/html": [
       "<div>\n",
       "<style scoped>\n",
       "    .dataframe tbody tr th:only-of-type {\n",
       "        vertical-align: middle;\n",
       "    }\n",
       "\n",
       "    .dataframe tbody tr th {\n",
       "        vertical-align: top;\n",
       "    }\n",
       "\n",
       "    .dataframe thead th {\n",
       "        text-align: right;\n",
       "    }\n",
       "</style>\n",
       "<table border=\"1\" class=\"dataframe\">\n",
       "  <thead>\n",
       "    <tr style=\"text-align: right;\">\n",
       "      <th></th>\n",
       "      <th>Equation</th>\n",
       "      <th>R2</th>\n",
       "    </tr>\n",
       "  </thead>\n",
       "  <tbody>\n",
       "    <tr>\n",
       "      <th>0</th>\n",
       "      <td>1</td>\n",
       "      <td>1.00</td>\n",
       "    </tr>\n",
       "    <tr>\n",
       "      <th>1</th>\n",
       "      <td>2</td>\n",
       "      <td>1.00</td>\n",
       "    </tr>\n",
       "  </tbody>\n",
       "</table>\n",
       "</div>"
      ],
      "text/plain": [
       "  Equation   R2\n",
       "0        1 1.00\n",
       "1        2 1.00"
      ]
     },
     "execution_count": 464,
     "metadata": {},
     "output_type": "execute_result"
    }
   ],
   "source": [
    "r_2_table"
   ]
  },
  {
   "cell_type": "markdown",
   "metadata": {},
   "source": [
    "$R^{2}$ should be between 0 and 1. Because the R value I am getting is equal to 1 this tells us that our model is doing a good job at fitting the data."
   ]
  },
  {
   "cell_type": "markdown",
   "metadata": {},
   "source": [
    "(d) Re-do part c, considering the following modification (rather than using consumption and income in levels, we consider their log transformation):\n",
    "$$lnCt = α0 + α1lnYt + \u000ft$$\n",
    "$$lnCt = β0 + β1lnYt + β2rt + εt$$"
   ]
  },
  {
   "cell_type": "markdown",
   "metadata": {},
   "source": [
    "Starting with $$lnCt = α0 + α1lnYt + \u000ft$$"
   ]
  },
  {
   "cell_type": "code",
   "execution_count": 499,
   "metadata": {},
   "outputs": [],
   "source": [
    "ln_X = np.log(data['Consumption'])\n",
    "ln_Y = np.log(data['GDP'])\n",
    "\n",
    "X = np.vstack([ln_X, np.ones(len(ln_X))]).T"
   ]
  },
  {
   "cell_type": "markdown",
   "metadata": {},
   "source": [
    "Finding $$\\hat{B} = (X'X)^{-1} X'Y$$"
   ]
  },
  {
   "cell_type": "code",
   "execution_count": 500,
   "metadata": {},
   "outputs": [
    {
     "data": {
      "text/plain": [
       "array([0.9599205 , 0.77067186])"
      ]
     },
     "execution_count": 500,
     "metadata": {},
     "output_type": "execute_result"
    }
   ],
   "source": [
    "beta = np.dot(np.linalg.inv(np.dot(X.T, X)), np.dot(X.T, ln_Y))\n",
    "beta"
   ]
  },
  {
   "cell_type": "markdown",
   "metadata": {},
   "source": [
    "Finding $$\\hat{Y} = X\\hat{B}$$"
   ]
  },
  {
   "cell_type": "code",
   "execution_count": 501,
   "metadata": {},
   "outputs": [],
   "source": [
    "y_hat = np.dot(X,beta)"
   ]
  },
  {
   "cell_type": "code",
   "execution_count": 502,
   "metadata": {},
   "outputs": [
    {
     "data": {
      "text/plain": [
       "8.400834632673812"
      ]
     },
     "execution_count": 502,
     "metadata": {},
     "output_type": "execute_result"
    }
   ],
   "source": [
    "# Finding y_bar\n",
    "\n",
    "y_bar = np.mean(ln_Y)\n",
    "y_bar"
   ]
  },
  {
   "cell_type": "code",
   "execution_count": 503,
   "metadata": {},
   "outputs": [
    {
     "data": {
      "text/plain": [
       "308.74851788043463"
      ]
     },
     "execution_count": 503,
     "metadata": {},
     "output_type": "execute_result"
    }
   ],
   "source": [
    "SSR = np.sum((y_hat-y_bar)**2)\n",
    "SSR"
   ]
  },
  {
   "cell_type": "code",
   "execution_count": 504,
   "metadata": {},
   "outputs": [
    {
     "data": {
      "text/plain": [
       "308.80555827478497"
      ]
     },
     "execution_count": 504,
     "metadata": {},
     "output_type": "execute_result"
    }
   ],
   "source": [
    "SST = np.sum((ln_Y-y_bar)**2)\n",
    "SST"
   ]
  },
  {
   "cell_type": "code",
   "execution_count": 505,
   "metadata": {},
   "outputs": [
    {
     "data": {
      "text/plain": [
       "0.9998152870218108"
      ]
     },
     "execution_count": 505,
     "metadata": {},
     "output_type": "execute_result"
    }
   ],
   "source": [
    "R_2 = SSR/SST\n",
    "R_2"
   ]
  },
  {
   "cell_type": "code",
   "execution_count": 518,
   "metadata": {},
   "outputs": [],
   "source": [
    "r_2_ln_table = pd.DataFrame(columns = ['Equation', 'R2'])\n",
    "r_2_ln_table = r_2_ln_table.append({'Equation' :'1', 'R2':R_2}, ignore_index=True)"
   ]
  },
  {
   "cell_type": "markdown",
   "metadata": {},
   "source": [
    "Next $$lnCt = β0 + β1lnYt + β2rt + εt$$"
   ]
  },
  {
   "cell_type": "code",
   "execution_count": 519,
   "metadata": {},
   "outputs": [],
   "source": [
    "ln_r = np.log(data['Interest Rate'])\n",
    "ln_X = np.log(data['Consumption'])\n",
    "ln_Y = np.log(data['GDP'])\n",
    "\n",
    "X = np.vstack([ln_X, ln_r, np.ones(len(ln_X))]).T"
   ]
  },
  {
   "cell_type": "markdown",
   "metadata": {},
   "source": [
    "Finding $$\\hat{B} = (X'X)^{-1} X'Y$$"
   ]
  },
  {
   "cell_type": "code",
   "execution_count": 520,
   "metadata": {},
   "outputs": [
    {
     "data": {
      "text/plain": [
       "array([0.96381002, 0.02327403, 0.70051106])"
      ]
     },
     "execution_count": 520,
     "metadata": {},
     "output_type": "execute_result"
    }
   ],
   "source": [
    "beta = np.dot(np.linalg.inv(np.dot(X.T, X)), np.dot(X.T, ln_Y))\n",
    "beta"
   ]
  },
  {
   "cell_type": "markdown",
   "metadata": {},
   "source": [
    "Finding $$\\hat{Y} = X\\hat{B}$$"
   ]
  },
  {
   "cell_type": "code",
   "execution_count": 521,
   "metadata": {},
   "outputs": [],
   "source": [
    "y_hat = np.dot(X,beta)"
   ]
  },
  {
   "cell_type": "code",
   "execution_count": 522,
   "metadata": {},
   "outputs": [
    {
     "data": {
      "text/plain": [
       "308.77573992684313"
      ]
     },
     "execution_count": 522,
     "metadata": {},
     "output_type": "execute_result"
    }
   ],
   "source": [
    "SSR = np.sum((y_hat-y_bar)**2)\n",
    "SSR"
   ]
  },
  {
   "cell_type": "code",
   "execution_count": 523,
   "metadata": {},
   "outputs": [
    {
     "data": {
      "text/plain": [
       "308.80555827478497"
      ]
     },
     "execution_count": 523,
     "metadata": {},
     "output_type": "execute_result"
    }
   ],
   "source": [
    "SST = np.sum((ln_Y-y_bar)**2)\n",
    "SST"
   ]
  },
  {
   "cell_type": "code",
   "execution_count": 524,
   "metadata": {},
   "outputs": [
    {
     "data": {
      "text/plain": [
       "0.999903439730462"
      ]
     },
     "execution_count": 524,
     "metadata": {},
     "output_type": "execute_result"
    }
   ],
   "source": [
    "R_2 = SSR/SST\n",
    "R_2"
   ]
  },
  {
   "cell_type": "code",
   "execution_count": 525,
   "metadata": {},
   "outputs": [],
   "source": [
    "r_2_ln_table = r_2_ln_table.append({'Equation' :'2', 'R2':R_2}, ignore_index=True)"
   ]
  },
  {
   "cell_type": "code",
   "execution_count": 526,
   "metadata": {},
   "outputs": [
    {
     "data": {
      "text/html": [
       "<div>\n",
       "<style scoped>\n",
       "    .dataframe tbody tr th:only-of-type {\n",
       "        vertical-align: middle;\n",
       "    }\n",
       "\n",
       "    .dataframe tbody tr th {\n",
       "        vertical-align: top;\n",
       "    }\n",
       "\n",
       "    .dataframe thead th {\n",
       "        text-align: right;\n",
       "    }\n",
       "</style>\n",
       "<table border=\"1\" class=\"dataframe\">\n",
       "  <thead>\n",
       "    <tr style=\"text-align: right;\">\n",
       "      <th></th>\n",
       "      <th>Equation</th>\n",
       "      <th>R2</th>\n",
       "    </tr>\n",
       "  </thead>\n",
       "  <tbody>\n",
       "    <tr>\n",
       "      <th>0</th>\n",
       "      <td>1</td>\n",
       "      <td>1.00</td>\n",
       "    </tr>\n",
       "    <tr>\n",
       "      <th>1</th>\n",
       "      <td>2</td>\n",
       "      <td>1.00</td>\n",
       "    </tr>\n",
       "  </tbody>\n",
       "</table>\n",
       "</div>"
      ],
      "text/plain": [
       "  Equation   R2\n",
       "0        1 1.00\n",
       "1        2 1.00"
      ]
     },
     "execution_count": 526,
     "metadata": {},
     "output_type": "execute_result"
    }
   ],
   "source": [
    "r_2_ln_table"
   ]
  },
  {
   "cell_type": "markdown",
   "metadata": {},
   "source": [
    "Again we are getting that R^2 is equal to 1 in both instances, which would mean the estimate is a perfect fit to the data"
   ]
  },
  {
   "cell_type": "markdown",
   "metadata": {},
   "source": [
    "### Question 3: An IS-LM-FE Mode\n",
    "\n",
    "Consider the general IS-LM model for a closed economy that we discussed in class. To start with, all the parameters are kept at their benchmark values: c = 0.63, b = 1500, k = 0.6, h = 2700, C = 55, I = 75, G = 200, T = 110, M = 200, P = 1."
   ]
  },
  {
   "cell_type": "markdown",
   "metadata": {},
   "source": [
    "#### Endogenous variables: \n",
    "\n",
    "- product, $Y$;\n",
    "- consumption, $C$; \n",
    "- investment, $I$; \n",
    "- interest rate, $r$."
   ]
  },
  {
   "cell_type": "code",
   "execution_count": 40,
   "metadata": {},
   "outputs": [],
   "source": [
    "Y, C, I, r = symbols('Y C I r')"
   ]
  },
  {
   "cell_type": "markdown",
   "metadata": {},
   "source": [
    "#### Exogenous variables: \n",
    "\n",
    "- government/public spending, $\\bar G$; \n",
    "- independent/autonomous consumption, $\\bar C$; \n",
    "- independent/autonomous investment, $\\bar I$; \n",
    "- income taxes, $\\bar T$;\n",
    "- money supply, $\\bar M$; \n",
    "- price level (fixed), $\\bar P$."
   ]
  },
  {
   "cell_type": "code",
   "execution_count": 43,
   "metadata": {},
   "outputs": [],
   "source": [
    "Gbar, Cbar, Ibar, Tbar, Mbar, Pbar = symbols('Gbar Cbar Ibar Tbar Mbar Pbar')"
   ]
  },
  {
   "cell_type": "markdown",
   "metadata": {},
   "source": [
    "#### Parameters:\n",
    "\n",
    "- $c$ is the propensity to consume, $0 < c < 1$; \n",
    "- $b > 0$ is the interest sensitivity of investment; \n",
    "- $k > 0$ is the output sensitivity of the demand for money; \n",
    "- $h > 0$ is the interest sensitivity of the demand for money."
   ]
  },
  {
   "cell_type": "code",
   "execution_count": 45,
   "metadata": {},
   "outputs": [],
   "source": [
    "c, b, k, h = symbols('c b k h', positive = True)"
   ]
  },
  {
   "cell_type": "code",
   "execution_count": 174,
   "metadata": {},
   "outputs": [],
   "source": [
    "# Creating a dataframe to load our values into later\n",
    "\n",
    "df_a = pd.DataFrame(columns = ['Title', 'Sensitivity of Investment to Intest Rate', 'Product', 'Consumption', 'Investment', 'Interest Rate'])\n",
    "\n",
    "pd.options.display.float_format = '{:.2f}'.format"
   ]
  },
  {
   "cell_type": "code",
   "execution_count": 175,
   "metadata": {},
   "outputs": [],
   "source": [
    "def ISLM(newTitle, new_b=1500):\n",
    " \n",
    "    #Parameters \n",
    "    c = 0.63 #marginal propensity to consume\n",
    "    b = new_b #sensitivity of the investment to the interest rate \n",
    "    k = 0.6  #sensitivity of the money demand to income \n",
    "    h = 2700 #sensitivity of the money demand to the interest rate\n",
    "    \n",
    "    #Matrix representation of the model : Ax=d \n",
    "    # A, coefficient matrix for [Y, C, I, r]\n",
    "    A = np.matrix([ [1, -1, -1, 0], # Y=C+I+G \n",
    "     [-c, 1, 0, 0], # C=C_bar+c(Y−T) \n",
    "     [0, 0, 1, b], # I=I_bar−br \n",
    "     [k, 0, 0, -h] ]) # M/P=kY−hr    \n",
    "    \n",
    "    #Policy exogenous variables \n",
    "    C_bar = 55 # autonomous consumption \n",
    "    I_bar = 75 # autonomous investment \n",
    "    G_bar = 200 #government spending \n",
    "    T_bar = 110 # tax on income \n",
    "    M_bar = 200 # money supply \n",
    "    P_bar = 1 #price level ( fixed in the short−run )\n",
    "    \n",
    "    # x = [Y,C,I,r] , vector of the endogeneous variables \n",
    "    # d, vector of the exogenous variables\n",
    "    d = np.array([ G_bar , C_bar - c*T_bar , I_bar , M_bar/P_bar ] )\n",
    "    \n",
    "    #Compute the endogenous variables \n",
    "    new_x = sp.linalg.solve(A, d)\n",
    "\n",
    "    print(\" IS-LM model: closed economy\")    \n",
    "    print(\"-----------------------------------------------------------\")\n",
    "    print(\"exogenous variables:\")\n",
    "    print(\"G = {0:.0f}; T = {1:.0f}; M = {2:.0f}; P = 1\".format(G_bar,T_bar,M_bar))\n",
    "    print(\"product, Y = {:.2f}, \".format(new_x[0]))\n",
    "    print(\"consumption, C = {:.2f}, \".format(new_x[1]))\n",
    "    print(\"investment, I = {:.2f}，\".format(new_x[2]))\n",
    "    print(\"interest rate (%), r = {:.2f} \".format(new_x[3]*100))\n",
    "    print(\" IS-LM model: closed economy\")\n",
    "\n",
    "\n",
    "    return b, new_x"
   ]
  },
  {
   "cell_type": "code",
   "execution_count": 176,
   "metadata": {},
   "outputs": [
    {
     "name": "stdout",
     "output_type": "stream",
     "text": [
      " IS-LM model: closed economy\n",
      "-----------------------------------------------------------\n",
      "exogenous variables:\n",
      "G = 200; T = 110; M = 200; P = 1\n",
      "product, Y = 528.64, \n",
      "consumption, C = 318.74, \n",
      "investment, I = 9.90，\n",
      "interest rate (%), r = 4.34 \n",
      " IS-LM model: closed economy\n"
     ]
    }
   ],
   "source": [
    "# Calling our default function and loading the results into the dataframe\n",
    "\n",
    "b, new_x = ISLM(newTitle= r'Default')\n",
    "\n",
    "df_a = df_a.append({'Title':'Default', 'Sensitivity of Investment to Intest Rate': b, 'Product':new_x[0], 'Consumption':new_x[1], \n",
    "                    'Investment': new_x[2], 'Interest Rate':new_x[3]*100}, ignore_index=True)"
   ]
  },
  {
   "cell_type": "code",
   "execution_count": 177,
   "metadata": {},
   "outputs": [
    {
     "name": "stdout",
     "output_type": "stream",
     "text": [
      " IS-LM model: closed economy\n",
      "-----------------------------------------------------------\n",
      "exogenous variables:\n",
      "G = 200; T = 110; M = 200; P = 1\n",
      "product, Y = 565.28, \n",
      "consumption, C = 341.83, \n",
      "investment, I = 23.46，\n",
      "interest rate (%), r = 5.15 \n",
      " IS-LM model: closed economy\n"
     ]
    }
   ],
   "source": [
    "# Calling our function again and getting results for Low Sensitivity of investment to interest rate\n",
    "# and then loading the data into the table\n",
    "\n",
    "b, new_x = ISLM(newTitle= r'Low Sensitivity of investment to interest rate', new_b=1000)\n",
    "\n",
    "df = df.append({'Title':'Low', 'Sensitivity of Investment to Intest Rate': b, 'Product':new_x[0], 'Consumption':new_x[1], \n",
    "                    'Investment': new_x[2], 'Interest Rate':new_x[3]*100}, ignore_index=True)"
   ]
  },
  {
   "cell_type": "code",
   "execution_count": 178,
   "metadata": {},
   "outputs": [
    {
     "name": "stdout",
     "output_type": "stream",
     "text": [
      " IS-LM model: closed economy\n",
      "-----------------------------------------------------------\n",
      "exogenous variables:\n",
      "G = 200; T = 110; M = 200; P = 1\n",
      "product, Y = 502.00, \n",
      "consumption, C = 301.96, \n",
      "investment, I = 0.04，\n",
      "interest rate (%), r = 3.75 \n",
      " IS-LM model: closed economy\n"
     ]
    }
   ],
   "source": [
    "# Calling our function and getting results for High Sensitivity of investment to interest rate\n",
    "# and then loading the data into the table\n",
    "\n",
    "\n",
    "\n",
    "b, new_x = ISLM(newTitle= r'High Sensitivity of investment to interest rate',\n",
    "     new_b=2000)\n",
    "\n",
    "df_a = df_a.append({'Title':'High', 'Sensitivity of Investment to Intest Rate': b, 'Product':new_x[0], 'Consumption':new_x[1], \n",
    "                    'Investment': new_x[2], 'Interest Rate':new_x[3]*100}, ignore_index=True)"
   ]
  },
  {
   "cell_type": "code",
   "execution_count": 179,
   "metadata": {},
   "outputs": [
    {
     "data": {
      "text/html": [
       "<div>\n",
       "<style scoped>\n",
       "    .dataframe tbody tr th:only-of-type {\n",
       "        vertical-align: middle;\n",
       "    }\n",
       "\n",
       "    .dataframe tbody tr th {\n",
       "        vertical-align: top;\n",
       "    }\n",
       "\n",
       "    .dataframe thead th {\n",
       "        text-align: right;\n",
       "    }\n",
       "</style>\n",
       "<table border=\"1\" class=\"dataframe\">\n",
       "  <thead>\n",
       "    <tr style=\"text-align: right;\">\n",
       "      <th></th>\n",
       "      <th>Title</th>\n",
       "      <th>Sensitivity of Investment to Intest Rate</th>\n",
       "      <th>Product</th>\n",
       "      <th>Consumption</th>\n",
       "      <th>Investment</th>\n",
       "      <th>Interest Rate</th>\n",
       "    </tr>\n",
       "  </thead>\n",
       "  <tbody>\n",
       "    <tr>\n",
       "      <th>0</th>\n",
       "      <td>Default</td>\n",
       "      <td>1500</td>\n",
       "      <td>528.64</td>\n",
       "      <td>318.74</td>\n",
       "      <td>9.90</td>\n",
       "      <td>4.34</td>\n",
       "    </tr>\n",
       "    <tr>\n",
       "      <th>1</th>\n",
       "      <td>Low</td>\n",
       "      <td>1000</td>\n",
       "      <td>565.28</td>\n",
       "      <td>341.83</td>\n",
       "      <td>23.46</td>\n",
       "      <td>5.15</td>\n",
       "    </tr>\n",
       "    <tr>\n",
       "      <th>2</th>\n",
       "      <td>High</td>\n",
       "      <td>2000</td>\n",
       "      <td>502.00</td>\n",
       "      <td>301.96</td>\n",
       "      <td>0.04</td>\n",
       "      <td>3.75</td>\n",
       "    </tr>\n",
       "  </tbody>\n",
       "</table>\n",
       "</div>"
      ],
      "text/plain": [
       "     Title Sensitivity of Investment to Intest Rate  Product  Consumption  \\\n",
       "0  Default                                     1500   528.64       318.74   \n",
       "1      Low                                     1000   565.28       341.83   \n",
       "2     High                                     2000   502.00       301.96   \n",
       "\n",
       "   Investment  Interest Rate  \n",
       "0        9.90           4.34  \n",
       "1       23.46           5.15  \n",
       "2        0.04           3.75  "
      ]
     },
     "execution_count": 179,
     "metadata": {},
     "output_type": "execute_result"
    }
   ],
   "source": [
    "df_a"
   ]
  },
  {
   "cell_type": "markdown",
   "metadata": {},
   "source": [
    "Decreasing the sensitivity of invesment to interest rate leads to a increase in all four paramaters, whereas, increasing the sensitivity of investment to the interest rate leads to a decrease in all four parameters shown above."
   ]
  },
  {
   "cell_type": "markdown",
   "metadata": {},
   "source": [
    "I think the bigget change just by looking at the table above is Invesment. Increasing or decreasing the sensitivity of investment leads to large changes in the amount of investment. The interest rate and consumtion are bothreasonably estimated. A standard yearly interest rate is usually between 3-5% and in all the cases above consumption is about 60% of GDP which is standard in real world. However, the model does not provide a realistic determination of investment. All the investment numbers provided above are approximetly 2-4% of GDP when it the real world that number should be more like 20%."
   ]
  },
  {
   "cell_type": "markdown",
   "metadata": {},
   "source": [
    "#### b)\n",
    "\n",
    "For the case with the low sensitivity of investment to the interest rate (bL = 1000), analyze the role of fiscal and monetary policies. Study two cases: in one case there is a fiscal austerity policy with Gnew = 180, while in the other one there is a reduction in the money supply with Mnew = 180. In two separate figures, plot the IS and LM curves before and after the policy changes. In a Table, report the values of GDP, Consumption, Investment and the interest rate."
   ]
  },
  {
   "cell_type": "code",
   "execution_count": 268,
   "metadata": {},
   "outputs": [],
   "source": [
    "# Creating a new datafram for part b to load our results into.\n",
    "\n",
    "df_b = pd.DataFrame(columns = ['Change', 'GDP', 'Consumption', 'Investment', 'Interest Rate'])\n",
    "\n",
    "pd.options.display.float_format = '{:.2f}'.format"
   ]
  },
  {
   "cell_type": "code",
   "execution_count": 269,
   "metadata": {},
   "outputs": [],
   "source": [
    "def ISLM(title, b_low, new_G_bar = 200, new_M_bar=200):\n",
    "\n",
    "    #Parameters \n",
    "    c = 0.63 #marginal propensity to consume\n",
    "    b = b_low #sensitivity of the investment to the interest rate \n",
    "    k = 0.6  #sensitivity of the money demand to income \n",
    "    h = 2700 #sensitivity of the money demand to the interest rate\n",
    "    \n",
    "    #Matrix representation of the model : Ax=d \n",
    "    # A, coefficient matrix for [Y, C, I, r]\n",
    "    A = np.matrix([ [1, -1, -1, 0], # Y=C+I+G \n",
    "     [-c, 1, 0, 0], # C=C_bar+c(Y−T) \n",
    "     [0, 0, 1, b], # I=I_bar−br \n",
    "     [k, 0, 0, -h] ]) # M/P=kY−hr    \n",
    "    \n",
    "    #Policy exogenous variables \n",
    "    C_bar = 55 # autonomous consumption \n",
    "    I_bar = 75 # autonomous investment \n",
    "    G_bar = 200 #government spending \n",
    "    T_bar = 110 # tax on income \n",
    "    M_bar = 200 # money supply \n",
    "    P_bar = 1 #price level ( fixed in the short−run )\n",
    "\n",
    "    #Policy shocks\n",
    "    G_bar = new_G_bar #government spending \n",
    "    M_bar = new_M_bar # money supply \n",
    "\n",
    "    # x = [Y,C,I,r] , vector of the endogeneous variables \n",
    "    # d, vector of the exogenous variables\n",
    "    d = np.array([ G_bar , C_bar - c*T_bar , I_bar , M_bar/P_bar ] )\n",
    "    \n",
    "    #Compute the endogenous variables \n",
    "    new_x = sp.linalg.solve(A, d)\n",
    "\n",
    "    print(\" IS-LM model: closed economy\")    \n",
    "    print(\"-----------------------------------------------------------\")\n",
    "    print(\"Changes: \",title)\n",
    "    print(\"exogenous variables:\")\n",
    "    print(\"G = {0:.0f}; T = {1:.0f}; M = {2:.0f}; P = 1\".format(new_G_bar,T_bar,new_M_bar))\n",
    "    print(\"product, Y = {:.2f}, \".format(new_x[0]))\n",
    "    print(\"consumption, C = {:.2f}, \".format(new_x[1]))\n",
    "    print(\"investment, I = {:.2f}，\".format(new_x[2]))\n",
    "    print(\"interest rate (%), r = {:.2f} \".format(new_x[3]*100))\n",
    "    print(\" IS-LM model: closed economy\")\n",
    "\n",
    "    #Plot the solution: IS−LM diagram\n",
    "\n",
    "    #Generate a grid on Y; in this case, since this is a line, only 2 points would have been enough\n",
    "    new_Y = np.linspace(0.95*new_x[0],1.05*new_x[0], num=100) \n",
    "\n",
    "    # IS: I=Y−C−G and I=I_bar−br expressed in terms of r\n",
    "    new_C = C_bar+c*(new_Y-T_bar ) \n",
    "    new_I =new_Y-new_C-G_bar \n",
    "    new_IS=( I_bar-new_I ) / b  \n",
    "\n",
    "    # LM: M_bar/P_bar=kY−hr expressed in terms of r\n",
    "    new_LM = 1/h*( k*new_Y-M_bar / P_bar ) \n",
    "    \n",
    "    return new_Y, new_IS, new_LM, new_x"
   ]
  },
  {
   "cell_type": "code",
   "execution_count": 270,
   "metadata": {},
   "outputs": [
    {
     "name": "stdout",
     "output_type": "stream",
     "text": [
      " IS-LM model: closed economy\n",
      "-----------------------------------------------------------\n",
      "Changes:  Default\n",
      "exogenous variables:\n",
      "G = 200; T = 110; M = 200; P = 1\n",
      "product, Y = 565.28, \n",
      "consumption, C = 341.83, \n",
      "investment, I = 23.46，\n",
      "interest rate (%), r = 5.15 \n",
      " IS-LM model: closed economy\n"
     ]
    }
   ],
   "source": [
    "# calling our function and getting the results for the default, and then loading into dataframe\n",
    "\n",
    "Y, default_IS, default_LM, new_x = ISLM(title= r'Default', b_low = 1000)\n",
    "\n",
    "df_b = df_b.append({'Change':'Default', 'GDP':new_x[0], 'Consumption':new_x[1], \n",
    "                    'Investment': new_x[2], 'Interest Rate':new_x[3]*100}, ignore_index=True)"
   ]
  },
  {
   "cell_type": "code",
   "execution_count": 271,
   "metadata": {},
   "outputs": [
    {
     "name": "stdout",
     "output_type": "stream",
     "text": [
      " IS-LM model: closed economy\n",
      "-----------------------------------------------------------\n",
      "Changes:  Reduction in Government Spending\n",
      "exogenous variables:\n",
      "G = 180; T = 110; M = 200; P = 1\n",
      "product, Y = 531.51, \n",
      "consumption, C = 320.55, \n",
      "investment, I = 30.96，\n",
      "interest rate (%), r = 4.40 \n",
      " IS-LM model: closed economy\n"
     ]
    }
   ],
   "source": [
    "# calling our function and getting the results for a reduction in Gov spenind\n",
    "# and then loading into dataframe\n",
    "\n",
    "new_Y, new_G_IS, new_G_LM, new_x = ISLM(title= r'Reduction in Government Spending', b_low = 1000, new_G_bar = 180)\n",
    "\n",
    "df_b = df_b.append({'Change':'Reduction in Gov. Spending', 'GDP':new_x[0], 'Consumption':new_x[1], \n",
    "                    'Investment': new_x[2], 'Interest Rate':new_x[3]*100}, ignore_index=True)"
   ]
  },
  {
   "cell_type": "code",
   "execution_count": 272,
   "metadata": {},
   "outputs": [
    {
     "data": {
      "image/png": "[encoded data removed]",
      "text/plain": [
       "<Figure size 720x576 with 1 Axes>"
      ]
     },
     "metadata": {
      "needs_background": "light"
     },
     "output_type": "display_data"
    }
   ],
   "source": [
    "# Plotting the results from the default IS and LM line versus the IS and LM lines resulting\n",
    "# from a reduction in Gov. Spending\n",
    "\n",
    "plt.figure(figsize = (10,8))\n",
    "l1 = plt.plot(Y, default_IS , 'blue', linewidth=4.0, label='default IS line')\n",
    "l2 = plt.plot(Y, default_LM,  color='red', linewidth=4.0, label='default LM line')\n",
    "l1 = plt.plot(new_Y, new_G_IS , 'teal', linewidth=4.0, linestyle='--', label='new IS line')\n",
    "l2 = plt.plot(new_Y, new_G_LM,  color='orange', linewidth=4.0, linestyle='--', label='new LM line')\n",
    "plt.xlim((520, 600))\n",
    "plt.ylim((0.03, 0.07))\n",
    "plt.legend(loc = 'best')\n",
    "plt.title('Default IS and LM lines vs IS and LM lines resulting from a Reduction in Gov. Spending')\n",
    "plt.show()"
   ]
  },
  {
   "cell_type": "code",
   "execution_count": 273,
   "metadata": {},
   "outputs": [
    {
     "name": "stdout",
     "output_type": "stream",
     "text": [
      " IS-LM model: closed economy\n",
      "-----------------------------------------------------------\n",
      "Changes:  Reduction in Money Supply\n",
      "exogenous variables:\n",
      "G = 200; T = 110; M = 180; P = 1\n",
      "product, Y = 552.78, \n",
      "consumption, C = 333.95, \n",
      "investment, I = 18.83，\n",
      "interest rate (%), r = 5.62 \n",
      " IS-LM model: closed economy\n"
     ]
    }
   ],
   "source": [
    "# calling our function and getting the results for a reduction in Money Supply\n",
    "# and then loading into dataframe\n",
    "\n",
    "new_Y, new_M_IS, new_M_LM, new_x = ISLM(title= r'Reduction in Money Supply', b_low = 1000, new_M_bar = 180)\n",
    "\n",
    "df_b = df_b.append({'Change':'Reduction in Money Supply', 'GDP':new_x[0], 'Consumption':new_x[1], \n",
    "                    'Investment': new_x[2], 'Interest Rate':new_x[3]*100}, ignore_index=True)"
   ]
  },
  {
   "cell_type": "code",
   "execution_count": 274,
   "metadata": {},
   "outputs": [
    {
     "data": {
      "image/png": "[encoded data removed]",
      "text/plain": [
       "<Figure size 720x576 with 1 Axes>"
      ]
     },
     "metadata": {
      "needs_background": "light"
     },
     "output_type": "display_data"
    }
   ],
   "source": [
    "# Plotting the results from the default IS and LM line versus the IS and LM lines resulting\n",
    "# from a reduction in Money Supply\n",
    "\n",
    "plt.figure(figsize = (10,8))\n",
    "l1 = plt.plot(Y, default_IS , 'blue', linewidth=4.0, label='default IS line')\n",
    "l2 = plt.plot(Y, default_LM,  color='red', linewidth=4.0, label='default LM line')\n",
    "l1 = plt.plot(new_Y, new_M_IS , 'teal', linewidth=4.0, linestyle='--', label='new IS line')\n",
    "l2 = plt.plot(new_Y, new_M_LM,  color='orange', linewidth=4.0, linestyle='--', label='new LM line')\n",
    "plt.xlim((520, 600))\n",
    "plt.ylim((0.03, 0.07))\n",
    "plt.legend(loc = 'best')\n",
    "plt.title('Default IS and LM lines vs IS and LM lines resulting from a Reduction in Money Supply')\n",
    "plt.show()"
   ]
  },
  {
   "cell_type": "code",
   "execution_count": 275,
   "metadata": {},
   "outputs": [
    {
     "data": {
      "text/html": [
       "<div>\n",
       "<style scoped>\n",
       "    .dataframe tbody tr th:only-of-type {\n",
       "        vertical-align: middle;\n",
       "    }\n",
       "\n",
       "    .dataframe tbody tr th {\n",
       "        vertical-align: top;\n",
       "    }\n",
       "\n",
       "    .dataframe thead th {\n",
       "        text-align: right;\n",
       "    }\n",
       "</style>\n",
       "<table border=\"1\" class=\"dataframe\">\n",
       "  <thead>\n",
       "    <tr style=\"text-align: right;\">\n",
       "      <th></th>\n",
       "      <th>Change</th>\n",
       "      <th>GDP</th>\n",
       "      <th>Consumption</th>\n",
       "      <th>Investment</th>\n",
       "      <th>Interest Rate</th>\n",
       "    </tr>\n",
       "  </thead>\n",
       "  <tbody>\n",
       "    <tr>\n",
       "      <th>0</th>\n",
       "      <td>Default</td>\n",
       "      <td>565.28</td>\n",
       "      <td>341.83</td>\n",
       "      <td>23.46</td>\n",
       "      <td>5.15</td>\n",
       "    </tr>\n",
       "    <tr>\n",
       "      <th>1</th>\n",
       "      <td>Reduction in Gov. Spending</td>\n",
       "      <td>531.51</td>\n",
       "      <td>320.55</td>\n",
       "      <td>30.96</td>\n",
       "      <td>4.40</td>\n",
       "    </tr>\n",
       "    <tr>\n",
       "      <th>2</th>\n",
       "      <td>Reduction in Money Supply</td>\n",
       "      <td>552.78</td>\n",
       "      <td>333.95</td>\n",
       "      <td>18.83</td>\n",
       "      <td>5.62</td>\n",
       "    </tr>\n",
       "  </tbody>\n",
       "</table>\n",
       "</div>"
      ],
      "text/plain": [
       "                       Change    GDP  Consumption  Investment  Interest Rate\n",
       "0                     Default 565.28       341.83       23.46           5.15\n",
       "1  Reduction in Gov. Spending 531.51       320.55       30.96           4.40\n",
       "2   Reduction in Money Supply 552.78       333.95       18.83           5.62"
      ]
     },
     "execution_count": 275,
     "metadata": {},
     "output_type": "execute_result"
    }
   ],
   "source": [
    "df_b"
   ]
  },
  {
   "cell_type": "markdown",
   "metadata": {},
   "source": [
    "As we can see a reduction in Government spending leads to a decrease in GDP, Consumption and the interest rate but leads to an increase in Investment. Where as a reduction in the Money Supply leads to a decreasea in GDP, consumption and Invesment but an increase in the interest rate. "
   ]
  },
  {
   "cell_type": "code",
   "execution_count": null,
   "metadata": {},
   "outputs": [],
   "source": []
  },
  {
   "cell_type": "code",
   "execution_count": 530,
   "metadata": {},
   "outputs": [
    {
     "name": "stdout",
     "output_type": "stream",
     "text": [
      "[NbConvertApp] WARNING | pattern 'Assignment_2.pdf' matched no files\n",
      "This application is used to convert notebook files (*.ipynb) to various other\n",
      "formats.\n",
      "\n",
      "WARNING: THE COMMANDLINE INTERFACE MAY CHANGE IN FUTURE RELEASES.\n",
      "\n",
      "Options\n",
      "-------\n",
      "\n",
      "Arguments that take values are actually convenience aliases to full\n",
      "Configurables, whose aliases are listed on the help line. For more information\n",
      "on full configurables, see '--help-all'.\n",
      "\n",
      "--debug\n",
      "    set log level to logging.DEBUG (maximize logging output)\n",
      "--generate-config\n",
      "    generate default config file\n",
      "-y\n",
      "    Answer yes to any questions instead of prompting.\n",
      "--execute\n",
      "    Execute the notebook prior to export.\n",
      "--allow-errors\n",
      "    Continue notebook execution even if one of the cells throws an error and include the error message in the cell output (the default behaviour is to abort conversion). This flag is only relevant if '--execute' was specified, too.\n",
      "--stdin\n",
      "    read a single notebook file from stdin. Write the resulting notebook with default basename 'notebook.*'\n",
      "--stdout\n",
      "    Write notebook output to stdout instead of files.\n",
      "--inplace\n",
      "    Run nbconvert in place, overwriting the existing notebook (only \n",
      "    relevant when converting to notebook format)\n",
      "--clear-output\n",
      "    Clear output of current file and save in place, \n",
      "    overwriting the existing notebook.\n",
      "--no-prompt\n",
      "    Exclude input and output prompts from converted document.\n",
      "--no-input\n",
      "    Exclude input cells and output prompts from converted document. \n",
      "    This mode is ideal for generating code-free reports.\n",
      "--log-level=<Enum> (Application.log_level)\n",
      "    Default: 30\n",
      "    Choices: (0, 10, 20, 30, 40, 50, 'DEBUG', 'INFO', 'WARN', 'ERROR', 'CRITICAL')\n",
      "    Set the log level by value or name.\n",
      "--config=<Unicode> (JupyterApp.config_file)\n",
      "    Default: ''\n",
      "    Full path of a config file.\n",
      "--to=<Unicode> (NbConvertApp.export_format)\n",
      "    Default: 'html'\n",
      "    The export format to be used, either one of the built-in formats\n",
      "    ['PDFviaHTML', 'asciidoc', 'custom', 'html', 'latex', 'markdown',\n",
      "    'notebook', 'pdf', 'python', 'rst', 'script', 'slides'] or a dotted object\n",
      "    name that represents the import path for an `Exporter` class\n",
      "--template=<Unicode> (TemplateExporter.template_file)\n",
      "    Default: ''\n",
      "    Name of the template file to use\n",
      "--writer=<DottedObjectName> (NbConvertApp.writer_class)\n",
      "    Default: 'FilesWriter'\n",
      "    Writer class used to write the  results of the conversion\n",
      "--post=<DottedOrNone> (NbConvertApp.postprocessor_class)\n",
      "    Default: ''\n",
      "    PostProcessor class used to write the results of the conversion\n",
      "--output=<Unicode> (NbConvertApp.output_base)\n",
      "    Default: ''\n",
      "    overwrite base name use for output files. can only be used when converting\n",
      "    one notebook at a time.\n",
      "--output-dir=<Unicode> (FilesWriter.build_directory)\n",
      "    Default: ''\n",
      "    Directory to write output(s) to. Defaults to output to the directory of each\n",
      "    notebook. To recover previous default behaviour (outputting to the current\n",
      "    working directory) use . as the flag value.\n",
      "--reveal-prefix=<Unicode> (SlidesExporter.reveal_url_prefix)\n",
      "    Default: ''\n",
      "    The URL prefix for reveal.js (version 3.x). This defaults to the reveal CDN,\n",
      "    but can be any url pointing to a copy  of reveal.js.\n",
      "    For speaker notes to work, this must be a relative path to a local  copy of\n",
      "    reveal.js: e.g., \"reveal.js\".\n",
      "    If a relative path is given, it must be a subdirectory of the current\n",
      "    directory (from which the server is run).\n",
      "    See the usage documentation\n",
      "    (https://nbconvert.readthedocs.io/en/latest/usage.html#reveal-js-html-\n",
      "    slideshow) for more details.\n",
      "--nbformat=<Enum> (NotebookExporter.nbformat_version)\n",
      "    Default: 4\n",
      "    Choices: [1, 2, 3, 4]\n",
      "    The nbformat version to write. Use this to downgrade notebooks.\n",
      "\n",
      "To see all available configurables, use `--help-all`\n",
      "\n",
      "Examples\n",
      "--------\n",
      "\n",
      "    The simplest way to use nbconvert is\n",
      "    \n",
      "    > jupyter nbconvert mynotebook.ipynb\n",
      "    \n",
      "    which will convert mynotebook.ipynb to the default format (probably HTML).\n",
      "    \n",
      "    You can specify the export format with `--to`.\n",
      "    Options include ['PDFviaHTML', 'asciidoc', 'custom', 'html', 'latex', 'markdown', 'notebook', 'pdf', 'python', 'rst', 'script', 'slides'].\n",
      "    \n",
      "    > jupyter nbconvert --to latex mynotebook.ipynb\n",
      "    \n",
      "    Both HTML and LaTeX support multiple output templates. LaTeX includes\n",
      "    'base', 'article' and 'report'.  HTML includes 'basic' and 'full'. You\n",
      "    can specify the flavor of the format used.\n",
      "    \n",
      "    > jupyter nbconvert --to html --template basic mynotebook.ipynb\n",
      "    \n",
      "    You can also pipe the output to stdout, rather than a file\n",
      "    \n",
      "    > jupyter nbconvert mynotebook.ipynb --stdout\n",
      "    \n",
      "    PDF is generated via latex\n",
      "    \n",
      "    > jupyter nbconvert mynotebook.ipynb --to pdf\n",
      "    \n",
      "    You can get (and serve) a Reveal.js-powered slideshow\n",
      "    \n",
      "    > jupyter nbconvert myslides.ipynb --to slides --post serve\n",
      "    \n",
      "    Multiple notebooks can be given at the command line in a couple of \n",
      "    different ways:\n",
      "    \n",
      "    > jupyter nbconvert notebook*.ipynb\n",
      "    > jupyter nbconvert notebook1.ipynb notebook2.ipynb\n",
      "    \n",
      "    or you can specify the notebooks list in a config file, containing::\n",
      "    \n",
      "        c.NbConvertApp.notebooks = [\"my_notebook.ipynb\"]\n",
      "    \n",
      "    > jupyter nbconvert --config mycfg.py\n",
      "\n"
     ]
    }
   ],
   "source": [
    "!jupyter-nbconvert --to PDFviaHTML Assignment_2.pdf"
   ]
  },
  {
   "cell_type": "code",
   "execution_count": null,
   "metadata": {},
   "outputs": [],
   "source": []
  }
 ],
 "metadata": {
  "kernelspec": {
   "display_name": "Python 3",
   "language": "python",
   "name": "python3"
  },
  "language_info": {
   "codemirror_mode": {
    "name": "ipython",
    "version": 3
   },
   "file_extension": ".py",
   "mimetype": "text/x-python",
   "name": "python",
   "nbconvert_exporter": "python",
   "pygments_lexer": "ipython3",
   "version": "3.8.0"
  }
 },
 "nbformat": 4,
 "nbformat_minor": 4
}
