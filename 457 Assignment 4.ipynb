{
 "cells": [
  {
   "cell_type": "code",
   "execution_count": 126,
   "metadata": {},
   "outputs": [],
   "source": [
    "import numpy as np\n",
    "from scipy.optimize import minimize\n",
    "import pandas as pd\n",
    "import matplotlib.pyplot as plt\n",
    "from numpy import append, array, diagonal, tril, triu\n",
    "from numpy.linalg import inv\n",
    "from scipy.linalg import lu\n",
    "from scipy.linalg import solve\n",
    "from pprint import pprint\n",
    "from numpy import array, zeros, diag, diagflat, dot\n",
    "np.random.seed(123)\n",
    "import warnings\n",
    "\n",
    "from sympy import *\n",
    "import sympy as sym"
   ]
  },
  {
   "cell_type": "markdown",
   "metadata": {},
   "source": [
    "### Question 1 : The Efficient Frontier in the Optimal Portfolio Model\n",
    "\n",
    "In this question we want to compute and plot the efficient frontier in the optimal portfolio model. The efficient frontier is the set of portfolios that satisfy the condition that no other portfolio exists with a higher expected return but with the same risk (i.e., the standard deviation of the return). We use the same case we considered in class, namely with the following vector of returns c and covariance matrix H:\n",
    "\n",
    "$$c = \\begin{bmatrix} 0.10 \\\\ 0.20 \\\\ -0.15 \\end{bmatrix}$$\n",
    "\n",
    "$$H = \\begin{bmatrix} 0.005 & -0.010 & 0.004 \\\\ -0.010 & 0.040 & -0.002\\\\ 0.004 & -0.002 & 0.023 \\end{bmatrix}$$\n",
    "\n"
   ]
  },
  {
   "cell_type": "markdown",
   "metadata": {},
   "source": [
    "(a) Generate a discrete grid of 21 equidistant points on the expected rate of return. The boundaries must be: the rate of return of the portfolio with the minimum global variance, and the rate of return of the portfolio with the highest return. For each value on the grid of expected rate of returns, compute the portfolio that minimizes the risk subject to the additional linear (equality) constraint that the portfolio has\n",
    "to deliver that specific rate of return"
   ]
  },
  {
   "cell_type": "code",
   "execution_count": 178,
   "metadata": {},
   "outputs": [
    {
     "data": {
      "text/plain": [
       "array([ 0.1 ,  0.2 , -0.15])"
      ]
     },
     "execution_count": 178,
     "metadata": {},
     "output_type": "execute_result"
    }
   ],
   "source": [
    "# Rate of returns\n",
    "\n",
    "c = np.array([0.10,0.20,-0.15])\n",
    "c"
   ]
  },
  {
   "cell_type": "code",
   "execution_count": 179,
   "metadata": {},
   "outputs": [
    {
     "data": {
      "text/plain": [
       "[[0.005, -0.01, 0.004], [-0.01, 0.04, -0.002], [0.004, -0.002, 0.023]]"
      ]
     },
     "execution_count": 179,
     "metadata": {},
     "output_type": "execute_result"
    }
   ],
   "source": [
    "# Variance/Covariance Matrix\n",
    "\n",
    "H = ([[0.005, -0.010,0.004],\n",
    "     [-0.010, 0.040, -0.002],\n",
    "     [0.004, -0.002, 0.023]])\n",
    "H"
   ]
  },
  {
   "cell_type": "code",
   "execution_count": null,
   "metadata": {},
   "outputs": [],
   "source": [
    "#Finding the expected return for the portfolio with the minimum global variance"
   ]
  },
  {
   "cell_type": "code",
   "execution_count": 180,
   "metadata": {},
   "outputs": [],
   "source": [
    "def objective(x):\n",
    "    return x@H@x"
   ]
  },
  {
   "cell_type": "code",
   "execution_count": 181,
   "metadata": {},
   "outputs": [],
   "source": [
    "# initial guesses\n",
    "\n",
    "n = 3\n",
    "x0 = np.zeros(n)\n",
    "x0[0] = 1.0/n\n",
    "x0[1] = 1.0/n\n",
    "x0[2] = 1.0/n"
   ]
  },
  {
   "cell_type": "code",
   "execution_count": 182,
   "metadata": {},
   "outputs": [
    {
     "name": "stdout",
     "output_type": "stream",
     "text": [
      "Initial SSE Objective: 0.005777777777777777\n"
     ]
    }
   ],
   "source": [
    "# show initial objective\n",
    "\n",
    "print('Initial SSE Objective: ' + str(objective(x0)))"
   ]
  },
  {
   "cell_type": "code",
   "execution_count": 183,
   "metadata": {},
   "outputs": [],
   "source": [
    "# Constraint that makes sure the sum of the weights is equal to 1\n",
    "\n",
    "def constraint(x):\n",
    "    return 1-np.sum(x)"
   ]
  },
  {
   "cell_type": "code",
   "execution_count": 184,
   "metadata": {},
   "outputs": [
    {
     "name": "stdout",
     "output_type": "stream",
     "text": [
      "     fun: 0.0015384615384615393\n",
      "     jac: array([0.00307692, 0.00307692, 0.00523077])\n",
      " message: 'Optimization terminated successfully.'\n",
      "    nfev: 45\n",
      "     nit: 9\n",
      "    njev: 9\n",
      "  status: 0\n",
      " success: True\n",
      "       x: array([0.76923077, 0.23076923, 0.        ])\n"
     ]
    }
   ],
   "source": [
    "# set \"minimize\" optimizer options and call it\n",
    "\n",
    "b = (0,np.inf)\n",
    "bnds = (b, b,b)\n",
    "con = {'type': 'eq', 'fun': constraint} \n",
    "\n",
    "solution = minimize(objective,x0,method='SLSQP',\\\n",
    "                    bounds=bnds,constraints=con)\n",
    "\n",
    "x = solution.x"
   ]
  },
  {
   "cell_type": "code",
   "execution_count": 61,
   "metadata": {},
   "outputs": [
    {
     "name": "stdout",
     "output_type": "stream",
     "text": [
      "Final SSE Objective: 0.0015384615384615393\n",
      "Final expected return: 0.1230769226786553\n",
      "Final risk:  0.039223227027636816\n",
      "Optimal Portfolio\n",
      "x1 = 0.769230773213447\n",
      "x2 = 0.23076922678655298\n",
      "x3 = 0.0\n"
     ]
    }
   ],
   "source": [
    "# risk is represented by the s.d, hence we'll need to compute a square-root\n",
    "import math\n",
    "\n",
    "# show final objective\n",
    "print('Final SSE Objective: ' + str(objective(x)))\n",
    "\n",
    "# show final expected return\n",
    "print('Final expected return: ' + str(x@c))\n",
    "\n",
    "# show final risk\n",
    "print('Final risk: ', math.sqrt(x@H@x) )\n",
    "\n",
    "# show solution\n",
    "print('Optimal Portfolio')\n",
    "print('x1 = ' + str(x[0]))\n",
    "print('x2 = ' + str(x[1]))\n",
    "print('x3 = ' + str(x[2]))"
   ]
  },
  {
   "cell_type": "code",
   "execution_count": 20,
   "metadata": {},
   "outputs": [
    {
     "data": {
      "text/plain": [
       "0.1230769226786553"
      ]
     },
     "execution_count": 20,
     "metadata": {},
     "output_type": "execute_result"
    }
   ],
   "source": [
    "# Stores the value of return for the portfolio with the minimum global variance\n",
    "rp_min = x@c\n",
    "rp_min"
   ]
  },
  {
   "cell_type": "code",
   "execution_count": null,
   "metadata": {},
   "outputs": [],
   "source": [
    "# Now I need to find the portfolio that has the highest exprected return"
   ]
  },
  {
   "cell_type": "code",
   "execution_count": 158,
   "metadata": {},
   "outputs": [],
   "source": [
    "def objective(x):\n",
    "    return x@H@x"
   ]
  },
  {
   "cell_type": "code",
   "execution_count": 159,
   "metadata": {},
   "outputs": [],
   "source": [
    "# initial guesses\n",
    "n = 3\n",
    "x0 = np.zeros(n)\n",
    "x0[0] = 1.0/n\n",
    "x0[1] = 1.0/n\n",
    "x0[2] = 1.0/n\n",
    "\n",
    "# compute the max expectd return\n",
    "maxret = max(c)"
   ]
  },
  {
   "cell_type": "code",
   "execution_count": 160,
   "metadata": {},
   "outputs": [
    {
     "name": "stdout",
     "output_type": "stream",
     "text": [
      "Initial SSE Objective: 0.005777777777777777\n"
     ]
    }
   ],
   "source": [
    "# show initial objective\n",
    "print('Initial SSE Objective: ' + str(objective(x0)))"
   ]
  },
  {
   "cell_type": "code",
   "execution_count": 161,
   "metadata": {},
   "outputs": [],
   "source": [
    "def constraintsum(x):\n",
    "    return 1-np.sum(x)"
   ]
  },
  {
   "cell_type": "code",
   "execution_count": 24,
   "metadata": {},
   "outputs": [],
   "source": [
    "def constraintmax(x):\n",
    "    return x@c-maxret"
   ]
  },
  {
   "cell_type": "code",
   "execution_count": 25,
   "metadata": {},
   "outputs": [],
   "source": [
    "# set \"minimize\" optimizer options and call it\n",
    "b = (0,np.inf)\n",
    "bnds = (b, b, b)\n",
    "conmax1 = {'type': 'eq', 'fun': constraintsum} \n",
    "conmax2 = {'type': 'eq', 'fun': constraintmax}\n",
    "conmax = ([conmax1,conmax2])\n",
    "\n",
    "solution = minimize(objective,x0,method='SLSQP',\\\n",
    "                    bounds=bnds,constraints=conmax)\n",
    "x = solution.x"
   ]
  },
  {
   "cell_type": "code",
   "execution_count": 26,
   "metadata": {},
   "outputs": [
    {
     "name": "stdout",
     "output_type": "stream",
     "text": [
      "Final SSE Objective: 0.0399999999996584\n",
      "Final expected return: 0.19999999999965842\n",
      "Final risk:  0.199999999999146\n",
      "Optimal Portfolio\n",
      "x1 = 3.416075338184485e-12\n",
      "x2 = 0.999999999996584\n",
      "x3 = 0.0\n"
     ]
    }
   ],
   "source": [
    "# risk is represented by the s.d., hence we'll need to compute a square-root\n",
    "import math\n",
    "\n",
    "# show final objective\n",
    "print('Final SSE Objective: ' + str(objective(x)))\n",
    "\n",
    "# show final expected return\n",
    "print('Final expected return: ' + str(x@c))\n",
    "\n",
    "# show final risk\n",
    "print('Final risk: ', math.sqrt(x@H@x) )\n",
    "\n",
    "# show solution\n",
    "print('Optimal Portfolio')\n",
    "print('x1 = ' + str(x[0]))\n",
    "print('x2 = ' + str(x[1]))\n",
    "print('x3 = ' + str(x[2]))"
   ]
  },
  {
   "cell_type": "code",
   "execution_count": 28,
   "metadata": {},
   "outputs": [
    {
     "data": {
      "text/plain": [
       "0.19999999999965842"
      ]
     },
     "execution_count": 28,
     "metadata": {},
     "output_type": "execute_result"
    }
   ],
   "source": [
    "# Stores value of return for portfolio with the highest rate of return\n",
    "rp_max = x@c\n",
    "rp_max"
   ]
  },
  {
   "cell_type": "code",
   "execution_count": 177,
   "metadata": {},
   "outputs": [
    {
     "data": {
      "text/plain": [
       "array([0.12307692, 0.12692308, 0.13076923, 0.13461538, 0.13846154,\n",
       "       0.14230769, 0.14615385, 0.15      , 0.15384615, 0.15769231,\n",
       "       0.16153846, 0.16538462, 0.16923077, 0.17307692, 0.17692308,\n",
       "       0.18076923, 0.18461538, 0.18846154, 0.19230769, 0.19615385,\n",
       "       0.2       ])"
      ]
     },
     "execution_count": 177,
     "metadata": {},
     "output_type": "execute_result"
    }
   ],
   "source": [
    "# Creating our target varibles that we need to use\n",
    "target = np.linspace(rp_min, rp_max, 21)\n",
    "target"
   ]
  },
  {
   "cell_type": "code",
   "execution_count": 223,
   "metadata": {},
   "outputs": [],
   "source": [
    "# Creating a df to store the efficient portfolios\n",
    "efficient_portfolios = pd.DataFrame(columns = ['Risk', 'Expected Return', 'Target Return'])"
   ]
  },
  {
   "cell_type": "code",
   "execution_count": 224,
   "metadata": {},
   "outputs": [
    {
     "data": {
      "text/html": [
       "<div>\n",
       "<style scoped>\n",
       "    .dataframe tbody tr th:only-of-type {\n",
       "        vertical-align: middle;\n",
       "    }\n",
       "\n",
       "    .dataframe tbody tr th {\n",
       "        vertical-align: top;\n",
       "    }\n",
       "\n",
       "    .dataframe thead th {\n",
       "        text-align: right;\n",
       "    }\n",
       "</style>\n",
       "<table border=\"1\" class=\"dataframe\">\n",
       "  <thead>\n",
       "    <tr style=\"text-align: right;\">\n",
       "      <th></th>\n",
       "      <th>Risk</th>\n",
       "      <th>Expected Return</th>\n",
       "      <th>Target Return</th>\n",
       "    </tr>\n",
       "  </thead>\n",
       "  <tbody>\n",
       "    <tr>\n",
       "      <th>0</th>\n",
       "      <td>0.039223</td>\n",
       "      <td>0.123077</td>\n",
       "      <td>0.123077</td>\n",
       "    </tr>\n",
       "    <tr>\n",
       "      <th>1</th>\n",
       "      <td>0.040430</td>\n",
       "      <td>0.126923</td>\n",
       "      <td>0.126923</td>\n",
       "    </tr>\n",
       "    <tr>\n",
       "      <th>2</th>\n",
       "      <td>0.043853</td>\n",
       "      <td>0.130769</td>\n",
       "      <td>0.130769</td>\n",
       "    </tr>\n",
       "    <tr>\n",
       "      <th>3</th>\n",
       "      <td>0.049029</td>\n",
       "      <td>0.134615</td>\n",
       "      <td>0.134615</td>\n",
       "    </tr>\n",
       "    <tr>\n",
       "      <th>4</th>\n",
       "      <td>0.055470</td>\n",
       "      <td>0.138462</td>\n",
       "      <td>0.138462</td>\n",
       "    </tr>\n",
       "    <tr>\n",
       "      <th>5</th>\n",
       "      <td>0.062788</td>\n",
       "      <td>0.142308</td>\n",
       "      <td>0.142308</td>\n",
       "    </tr>\n",
       "    <tr>\n",
       "      <th>6</th>\n",
       "      <td>0.070711</td>\n",
       "      <td>0.146154</td>\n",
       "      <td>0.146154</td>\n",
       "    </tr>\n",
       "    <tr>\n",
       "      <th>7</th>\n",
       "      <td>0.079057</td>\n",
       "      <td>0.150000</td>\n",
       "      <td>0.150000</td>\n",
       "    </tr>\n",
       "    <tr>\n",
       "      <th>8</th>\n",
       "      <td>0.087706</td>\n",
       "      <td>0.153846</td>\n",
       "      <td>0.153846</td>\n",
       "    </tr>\n",
       "    <tr>\n",
       "      <th>9</th>\n",
       "      <td>0.096576</td>\n",
       "      <td>0.157692</td>\n",
       "      <td>0.157692</td>\n",
       "    </tr>\n",
       "    <tr>\n",
       "      <th>10</th>\n",
       "      <td>0.105612</td>\n",
       "      <td>0.161538</td>\n",
       "      <td>0.161538</td>\n",
       "    </tr>\n",
       "    <tr>\n",
       "      <th>11</th>\n",
       "      <td>0.114774</td>\n",
       "      <td>0.165385</td>\n",
       "      <td>0.165385</td>\n",
       "    </tr>\n",
       "    <tr>\n",
       "      <th>12</th>\n",
       "      <td>0.124035</td>\n",
       "      <td>0.169231</td>\n",
       "      <td>0.169231</td>\n",
       "    </tr>\n",
       "    <tr>\n",
       "      <th>13</th>\n",
       "      <td>0.133373</td>\n",
       "      <td>0.173077</td>\n",
       "      <td>0.173077</td>\n",
       "    </tr>\n",
       "    <tr>\n",
       "      <th>14</th>\n",
       "      <td>0.142775</td>\n",
       "      <td>0.176923</td>\n",
       "      <td>0.176923</td>\n",
       "    </tr>\n",
       "    <tr>\n",
       "      <th>15</th>\n",
       "      <td>0.152227</td>\n",
       "      <td>0.180769</td>\n",
       "      <td>0.180769</td>\n",
       "    </tr>\n",
       "    <tr>\n",
       "      <th>16</th>\n",
       "      <td>0.161722</td>\n",
       "      <td>0.184615</td>\n",
       "      <td>0.184615</td>\n",
       "    </tr>\n",
       "    <tr>\n",
       "      <th>17</th>\n",
       "      <td>0.171251</td>\n",
       "      <td>0.188462</td>\n",
       "      <td>0.188462</td>\n",
       "    </tr>\n",
       "    <tr>\n",
       "      <th>18</th>\n",
       "      <td>0.180810</td>\n",
       "      <td>0.192308</td>\n",
       "      <td>0.192308</td>\n",
       "    </tr>\n",
       "    <tr>\n",
       "      <th>19</th>\n",
       "      <td>0.190394</td>\n",
       "      <td>0.196154</td>\n",
       "      <td>0.196154</td>\n",
       "    </tr>\n",
       "    <tr>\n",
       "      <th>20</th>\n",
       "      <td>0.200000</td>\n",
       "      <td>0.200000</td>\n",
       "      <td>0.200000</td>\n",
       "    </tr>\n",
       "  </tbody>\n",
       "</table>\n",
       "</div>"
      ],
      "text/plain": [
       "        Risk  Expected Return  Target Return\n",
       "0   0.039223         0.123077       0.123077\n",
       "1   0.040430         0.126923       0.126923\n",
       "2   0.043853         0.130769       0.130769\n",
       "3   0.049029         0.134615       0.134615\n",
       "4   0.055470         0.138462       0.138462\n",
       "5   0.062788         0.142308       0.142308\n",
       "6   0.070711         0.146154       0.146154\n",
       "7   0.079057         0.150000       0.150000\n",
       "8   0.087706         0.153846       0.153846\n",
       "9   0.096576         0.157692       0.157692\n",
       "10  0.105612         0.161538       0.161538\n",
       "11  0.114774         0.165385       0.165385\n",
       "12  0.124035         0.169231       0.169231\n",
       "13  0.133373         0.173077       0.173077\n",
       "14  0.142775         0.176923       0.176923\n",
       "15  0.152227         0.180769       0.180769\n",
       "16  0.161722         0.184615       0.184615\n",
       "17  0.171251         0.188462       0.188462\n",
       "18  0.180810         0.192308       0.192308\n",
       "19  0.190394         0.196154       0.196154\n",
       "20  0.200000         0.200000       0.200000"
      ]
     },
     "execution_count": 224,
     "metadata": {},
     "output_type": "execute_result"
    }
   ],
   "source": [
    "for i in range(len(target)):\n",
    "    \n",
    "    def objective(x):\n",
    "        return x@H@x\n",
    "\n",
    "    # initial guesses\n",
    "    n = 3\n",
    "    x0 = np.zeros(n)\n",
    "    x0[0] = 1.0/n\n",
    "    x0[1] = 1.0/n\n",
    "    x0[2] = 1.0/n\n",
    "\n",
    "    def constraintsum(x):\n",
    "        return 1-np.sum(x)\n",
    "    \n",
    "    # New Constraint added to make sure expected return of portfolio equals target\n",
    "    def constrainttarget(x):\n",
    "        return x@c-target[i]\n",
    "    \n",
    "    # set \"minimize\" optimizer options and call it\n",
    "    b = (0,np.inf)\n",
    "    bnds = (b, b, b)\n",
    "    conmax1 = {'type': 'eq', 'fun': constraintsum} \n",
    "    conmax2 = {'type': 'eq', 'fun': constrainttarget}\n",
    "    conmax = ([conmax1,conmax2])\n",
    "\n",
    "    solution = minimize(objective,x0,method='SLSQP',\\\n",
    "                    bounds=bnds,constraints=conmax)\n",
    "    x = solution.x\n",
    "\n",
    "    efficient_portfolios = efficient_portfolios.append({'Risk': math.sqrt(x@H@x), 'Expected Return': x@c,'Target Return':target[i] }, ignore_index=True)\n",
    "\n",
    "efficient_portfolios"
   ]
  },
  {
   "cell_type": "markdown",
   "metadata": {},
   "source": [
    "(b) The collection of (risk, return) pairs represents the efficient frontier. Plot it in a graph with the risk on the x-axis and the expected return on the y-axis."
   ]
  },
  {
   "cell_type": "code",
   "execution_count": 239,
   "metadata": {},
   "outputs": [
    {
     "data": {
      "image/png": "[encoded data removed]",
      "text/plain": [
       "<Figure size 576x432 with 1 Axes>"
      ]
     },
     "metadata": {
      "needs_background": "light"
     },
     "output_type": "display_data"
    }
   ],
   "source": [
    "plt.subplots(figsize = (8,6))\n",
    "plt.plot(efficient_portfolios['Risk'], efficient_portfolios['Expected Return'],  linestyle='-.',\n",
    "        marker = \"o\", color = \"black\")\n",
    "plt.xlabel(\"Risk\")\n",
    "plt.ylabel(\"Expected Return\")\n",
    "plt.grid()\n",
    "plt.title('Efficient Frontier')\n",
    "plt.plot(efficient_portfolios['Risk'][0], efficient_portfolios['Expected Return'][0], marker = \"x\", color = \"red\", \n",
    "         markersize = 20, label = \"Minimum Variance Allocation\")\n",
    "plt.legend()\n",
    "plt.show()"
   ]
  },
  {
   "cell_type": "markdown",
   "metadata": {},
   "source": [
    "### Question 2: Utility Maximization\n",
    "\n",
    "A consumer has preferences over two commodities x1 and x2. These preferences are represented by the following utility function:\n",
    "\n",
    "$$ U(x_{1},x_{2}) =  [αx_{1}^{γ}+(1-α)x_{2}^{γ}]^{1/γ} $$\n",
    "\n",
    "α and γ are parameters, and are such that 0 < α < 1 and −∞ < γ < 1. The consumer wants to maximize utility by choosing the optimal values $x_{1}^{*}$ and $x_{2}^{*}$, subject to the budget constraint:\n",
    "\n",
    "$$ p_{1}x_{1} + p_{2}x_{2} = I $$\n",
    "\n",
    "where pi > 0 denotes the price of good xi and I denotes income.\n"
   ]
  },
  {
   "cell_type": "markdown",
   "metadata": {},
   "source": [
    "(a) To start with, set the parameters to their benchmark values: α = 0.5, γ = −1, p1 = 1, p2 = 1, I = 100.\n",
    "Note: you may want to substitute the budget constraint into the objective function.\n",
    "Write a code in Python that maximizes the consumer’s utility, by using the golden search algorithm. Report\n",
    "your results and comment on your findings. Plot the objective function in a two-dimensional graph."
   ]
  },
  {
   "cell_type": "code",
   "execution_count": 7,
   "metadata": {},
   "outputs": [],
   "source": [
    "# Start by solving the constraint for x2 and substituting that into the utility function\n",
    "# This is the function we are going to be maximizing for x1 (x)\n",
    "\n",
    "f = lambda x: (0.5*(x)**(-1) + 0.5*(100-x)**(-1))**(-1)"
   ]
  },
  {
   "cell_type": "code",
   "execution_count": 8,
   "metadata": {},
   "outputs": [],
   "source": [
    "# golden search algorithm function \n",
    "\n",
    "def mygolden(f,a, b, maxit = 1000, tol = 1/10000):\n",
    "    alpha1 = (3 - np.sqrt(5)) / 2\n",
    "    alpha2 = (np.sqrt(5) - 1) / 2\n",
    "    if a > b:\n",
    "        a, b = b, a\n",
    "        \n",
    "    x1 = a + alpha1 * (b - a)\n",
    "    x2 = a + alpha2 * (b - a)\n",
    "\n",
    "    f1, f2 = f(x1), f(x2)\n",
    "\n",
    "    d = (alpha1 * alpha2)*(b - a) # initial d\n",
    "    while d > tol:\n",
    "        d = d * alpha2 # alpha2 is the golden ratio\n",
    "        if f2 < f1: # x2 is new upper bound\n",
    "            x2, x1 = x1, x1 - d\n",
    "            f2, f1 = f1, f(x1)\n",
    "        else:  # x1 is new lower bound\n",
    "            x1, x2 = x2, x2 + d\n",
    "            f1, f2 = f2, f(x2)\n",
    "            \n",
    "    if f1>f2:\n",
    "        x = x2\n",
    "    else:\n",
    "        x = x1      \n",
    "    return x    "
   ]
  },
  {
   "cell_type": "code",
   "execution_count": 9,
   "metadata": {},
   "outputs": [
    {
     "data": {
      "text/plain": [
       "50.0"
      ]
     },
     "execution_count": 9,
     "metadata": {},
     "output_type": "execute_result"
    }
   ],
   "source": [
    "# Passing the function we define above into the algorithm function. 0 and 100 represent\n",
    "# the range of values we want it to look over.\n",
    "x1 = round(mygolden(f, 0, 100),2)\n",
    "# This gives us the optimal x1 value. \n",
    "x1"
   ]
  },
  {
   "cell_type": "code",
   "execution_count": 10,
   "metadata": {},
   "outputs": [
    {
     "data": {
      "text/plain": [
       "50.0"
      ]
     },
     "execution_count": 10,
     "metadata": {},
     "output_type": "execute_result"
    }
   ],
   "source": [
    "# If we sub in the given values for the constraint we know that x2 = 100-x1. Therefore we \n",
    "# substitute the optimal x1 value into the constraint to find optimal x2\n",
    "x2 = 100 - x1\n",
    "\n",
    "#optimal x2\n",
    "x2"
   ]
  },
  {
   "cell_type": "code",
   "execution_count": 11,
   "metadata": {},
   "outputs": [
    {
     "name": "stderr",
     "output_type": "stream",
     "text": [
      "<ipython-input-7-58a8c1939480>:4: RuntimeWarning: divide by zero encountered in reciprocal\n",
      "  f = lambda x: (0.5*(x)**(-1) + 0.5*(100-x)**(-1))**(-1)\n"
     ]
    },
    {
     "data": {
      "image/png": "[encoded data removed]",
      "text/plain": [
       "<Figure size 432x288 with 1 Axes>"
      ]
     },
     "metadata": {
      "needs_background": "light"
     },
     "output_type": "display_data"
    }
   ],
   "source": [
    "# Plotting the function\n",
    "x = np.linspace(0,100,100)\n",
    "y = f(x)\n",
    "plt.figure()\n",
    "plt.grid()\n",
    "plt.plot(x,y, color = \"black\")\n",
    "plt.show()"
   ]
  },
  {
   "cell_type": "markdown",
   "metadata": {},
   "source": [
    "(b) Now consider the effect of changing some parameter values. \n",
    "\n",
    "In one case they are:\n",
    "$$ α = 0.5, γ = −10, p1 = 1, p2 = 1, I = 100 $$ \n",
    "In another case they are:\n",
    "$$α = 0.25, γ = −1, p1 = 1, p2 = 1, I = 100.$$\n",
    "In a final case they are:\n",
    "$$α = 0.5, γ = −1, p1 = 2, p2 = 1, I = 200.$$"
   ]
  },
  {
   "cell_type": "markdown",
   "metadata": {},
   "source": [
    "Starting with first case α = 0.5, γ = −10, p1 = 1, p2 = 1, I = 100.\n",
    "\n",
    "The constraint is \n",
    "$$x_{1}+x_{2} = 100$$\n",
    "\n",
    "Subsituting that into the utilty function for x2 we get \n",
    "$$ U(x_{1},x_{2}) =  [0.5x_{1}^{-10}+0.5(100-x_{1})^{-10}]^{1/-10} $$"
   ]
  },
  {
   "cell_type": "code",
   "execution_count": 22,
   "metadata": {},
   "outputs": [],
   "source": [
    "# Defining the function from above\n",
    "f = lambda x: (0.5*(x)**(-10) + 0.5*(100-x)**(-10))**(1/-10)"
   ]
  },
  {
   "cell_type": "code",
   "execution_count": 23,
   "metadata": {},
   "outputs": [],
   "source": [
    "def mygolden(f,a, b, maxit = 1000, tol = 1/10000):\n",
    "    alpha1 = (3 - np.sqrt(5)) / 2\n",
    "    alpha2 = (np.sqrt(5) - 1) / 2\n",
    "    if a > b:\n",
    "        a, b = b, a\n",
    "        \n",
    "    x1 = a + alpha1 * (b - a)\n",
    "    x2 = a + alpha2 * (b - a)\n",
    "\n",
    "    f1, f2 = f(x1), f(x2)\n",
    "\n",
    "    d = (alpha1 * alpha2)*(b - a) # initial d\n",
    "    while d > tol:\n",
    "        d = d * alpha2 # alpha2 is the golden ratio\n",
    "        if f2 < f1: # x2 is new upper bound\n",
    "            x2, x1 = x1, x1 - d\n",
    "            f2, f1 = f1, f(x1)\n",
    "        else:  # x1 is new lower bound\n",
    "            x1, x2 = x2, x2 + d\n",
    "            f1, f2 = f2, f(x2)\n",
    "            \n",
    "    if f1>f2:\n",
    "        x = x2\n",
    "    else:\n",
    "        x = x1      \n",
    "    return x    "
   ]
  },
  {
   "cell_type": "code",
   "execution_count": 24,
   "metadata": {},
   "outputs": [
    {
     "data": {
      "text/plain": [
       "50.0"
      ]
     },
     "execution_count": 24,
     "metadata": {},
     "output_type": "execute_result"
    }
   ],
   "source": [
    "x1_opt = round(mygolden(f, 0, 100),2)\n",
    "x1_opt"
   ]
  },
  {
   "cell_type": "code",
   "execution_count": 25,
   "metadata": {},
   "outputs": [
    {
     "data": {
      "text/plain": [
       "50.0"
      ]
     },
     "execution_count": 25,
     "metadata": {},
     "output_type": "execute_result"
    }
   ],
   "source": [
    "# Finding x2 using x1 optimal and budget constraint\n",
    "x2_opt = 100 - x1_opt\n",
    "x2_opt"
   ]
  },
  {
   "cell_type": "code",
   "execution_count": 26,
   "metadata": {},
   "outputs": [],
   "source": [
    "# Creating a df to store the answers\n",
    "results = pd.DataFrame(columns = ['x1 opt', 'x2 opt'])"
   ]
  },
  {
   "cell_type": "code",
   "execution_count": 27,
   "metadata": {},
   "outputs": [],
   "source": [
    "results = results.append({'x1 opt': x1_opt, 'x2 opt':x2_opt}, ignore_index=True)"
   ]
  },
  {
   "cell_type": "markdown",
   "metadata": {},
   "source": [
    "Now the second case α = 0.25, γ = −1, p1 = 1, p2 = 1, I = 100.\n",
    "\n",
    "The constraint is \n",
    "$$x_{1}+x_{2} = 100$$\n",
    "Subsituting that into the utilty function for x2 we get \n",
    "$$ U(x_{1},x_{2}) =  [0.25x_{1}^{-1}+0.25(100-x_{1})^{-1}]^{1/-1} $$"
   ]
  },
  {
   "cell_type": "code",
   "execution_count": 28,
   "metadata": {},
   "outputs": [],
   "source": [
    "# Defining the function from above\n",
    "f = lambda x: (0.25*(x)**(-1) + 0.25*(100-x)**(-1))**(1/-1)"
   ]
  },
  {
   "cell_type": "code",
   "execution_count": 29,
   "metadata": {},
   "outputs": [
    {
     "data": {
      "text/html": [
       "<div>\n",
       "<style scoped>\n",
       "    .dataframe tbody tr th:only-of-type {\n",
       "        vertical-align: middle;\n",
       "    }\n",
       "\n",
       "    .dataframe tbody tr th {\n",
       "        vertical-align: top;\n",
       "    }\n",
       "\n",
       "    .dataframe thead th {\n",
       "        text-align: right;\n",
       "    }\n",
       "</style>\n",
       "<table border=\"1\" class=\"dataframe\">\n",
       "  <thead>\n",
       "    <tr style=\"text-align: right;\">\n",
       "      <th></th>\n",
       "      <th>x1 opt</th>\n",
       "      <th>x2 opt</th>\n",
       "    </tr>\n",
       "  </thead>\n",
       "  <tbody>\n",
       "    <tr>\n",
       "      <th>0</th>\n",
       "      <td>50.0</td>\n",
       "      <td>50.0</td>\n",
       "    </tr>\n",
       "    <tr>\n",
       "      <th>1</th>\n",
       "      <td>50.0</td>\n",
       "      <td>50.0</td>\n",
       "    </tr>\n",
       "  </tbody>\n",
       "</table>\n",
       "</div>"
      ],
      "text/plain": [
       "   x1 opt  x2 opt\n",
       "0    50.0    50.0\n",
       "1    50.0    50.0"
      ]
     },
     "execution_count": 29,
     "metadata": {},
     "output_type": "execute_result"
    }
   ],
   "source": [
    "x1_opt = round(mygolden(f, 0, 100),2)\n",
    "\n",
    "# Finding x2 using x1 optimal and budget constraint\n",
    "x2_opt = 100 - x1_opt\n",
    "\n",
    "results = results.append({'x1 opt': x1_opt, 'x2 opt':x2_opt}, ignore_index=True)\n",
    "results"
   ]
  },
  {
   "cell_type": "markdown",
   "metadata": {},
   "source": [
    "Now the final case α = 0.5, γ = −1, p1 = 2, p2 = 1, I = 200.\n",
    "\n",
    "The constraint is \n",
    "$$2x_{1}+x_{2} = 200$$\n",
    "Subsituting that into the utilty function for x2 we get \n",
    "$$ U(x_{1},x_{2}) =  [0.5x_{1}^{-1}+0.5(200-2x_{1})^{-1}]^{1/-1} $$"
   ]
  },
  {
   "cell_type": "code",
   "execution_count": 30,
   "metadata": {},
   "outputs": [],
   "source": [
    "# Defining the function from above\n",
    "f = lambda x: (0.5*(x)**(-1) + 0.5*(200-2*x)**(-1))**(1/-1)"
   ]
  },
  {
   "cell_type": "code",
   "execution_count": 31,
   "metadata": {},
   "outputs": [
    {
     "data": {
      "text/html": [
       "<div>\n",
       "<style scoped>\n",
       "    .dataframe tbody tr th:only-of-type {\n",
       "        vertical-align: middle;\n",
       "    }\n",
       "\n",
       "    .dataframe tbody tr th {\n",
       "        vertical-align: top;\n",
       "    }\n",
       "\n",
       "    .dataframe thead th {\n",
       "        text-align: right;\n",
       "    }\n",
       "</style>\n",
       "<table border=\"1\" class=\"dataframe\">\n",
       "  <thead>\n",
       "    <tr style=\"text-align: right;\">\n",
       "      <th></th>\n",
       "      <th>x1 opt</th>\n",
       "      <th>x2 opt</th>\n",
       "    </tr>\n",
       "  </thead>\n",
       "  <tbody>\n",
       "    <tr>\n",
       "      <th>0</th>\n",
       "      <td>50.00</td>\n",
       "      <td>50.00</td>\n",
       "    </tr>\n",
       "    <tr>\n",
       "      <th>1</th>\n",
       "      <td>50.00</td>\n",
       "      <td>50.00</td>\n",
       "    </tr>\n",
       "    <tr>\n",
       "      <th>2</th>\n",
       "      <td>58.58</td>\n",
       "      <td>82.84</td>\n",
       "    </tr>\n",
       "  </tbody>\n",
       "</table>\n",
       "</div>"
      ],
      "text/plain": [
       "   x1 opt  x2 opt\n",
       "0   50.00   50.00\n",
       "1   50.00   50.00\n",
       "2   58.58   82.84"
      ]
     },
     "execution_count": 31,
     "metadata": {},
     "output_type": "execute_result"
    }
   ],
   "source": [
    "x1_opt = round(mygolden(f, 0, 100),2)\n",
    "\n",
    "# Finding x2 optimal using x1 optimal and budget constraint\n",
    "x2_opt = 200 - 2*x1_opt\n",
    "\n",
    "results = results.append({'x1 opt': x1_opt, 'x2 opt':x2_opt}, ignore_index=True)\n",
    "results"
   ]
  },
  {
   "cell_type": "markdown",
   "metadata": {},
   "source": [
    "For the first two cases, because we have a cobb-douglas equation and the powers on each variable are the same, and the prices of the goods are the same, the consumers are indifferent between them. This is why we get that x1 optimal and x2 optimal are the same (50). In the third and final case, because the price is x1 is now double that of x2, and the powers are in the Utility equation are still equal, we see consumers switch preferences and choose to consume more x2 than x1. "
   ]
  },
  {
   "cell_type": "markdown",
   "metadata": {},
   "source": [
    " Now the consumer’s preferences are over three commodities x1, x2, and x3. The utility function is:\n",
    " \n",
    "$$ U(x1, x2, x3) = [αx_{1}^{γ} + βx_{2}^{γ} + (1 − α − β)x_{3}^{γ}]^{1/γ}$$\n",
    "\n",
    "α, β and γ are parameters, and are such that 0 < α < 1, 0 < β < 1 and −∞ < γ < 1. The consumer wants to maximize utility by choosing the optimal values $ x_{1}^{*},x_{2}^{*}, x_{3}^{*} $, subject to the budget constraint:\n",
    "\n",
    "$$p_{1}x_{1} + p_{2}x_{2} + p_{3}x_{3}= I$$\n",
    "\n",
    "The parameters have these values: α = 0.5, β = 0.3, γ = −1, p1 = 1, p2 = 2, p3 = 3, I = 100.\n",
    "Note: you may want to substitute the budget constraint into the objective function.\n",
    "Write a code in Python that maximizes the consumer’s utility, by using a multivariate algorithm of your\n",
    "choice. Report your results and comment on your findings. Plot the objective function both in a threedimensional graph and by using a contour plot."
   ]
  },
  {
   "cell_type": "markdown",
   "metadata": {},
   "source": [
    "Subbing the given parameters into the constraint we get \n",
    "\n",
    "$$x_{1} + 2x_{2}+3x_{3} = 100$$\n",
    "\n",
    "if we rearange and solve for $x_{3}$ we get\n",
    "\n",
    "$$x{3} = 100/3 - 2/3x_{2}- 1/3x_{1}$$\n",
    "\n",
    "If we substitute that into the utility function and add the given params we get\n",
    "\n",
    "$$ U(x1, x2, x3) = [0.5x_{1}^{-1} + 0.3x_{2}^{-1} + 0.2(100/3 - 2/3x_{2}- 1/3x_{1})^{-1}]^{-1}$$\n",
    "\n",
    "To solve this I am going to use the nelder_mead method we talked about in class"
   ]
  },
  {
   "cell_type": "code",
   "execution_count": 35,
   "metadata": {},
   "outputs": [],
   "source": [
    "def nelder_mead(f, x_start,\n",
    "                step=0.1, no_improve_thr=10e-6,\n",
    "                no_improv_break=10, max_iter=0,\n",
    "                alpha=1., gamma=2., rho=-0.5, sigma=0.5):\n",
    "    \n",
    "    # init\n",
    "    dim = len(x_start)\n",
    "    prev_best = f(x_start)\n",
    "    no_improv = 0\n",
    "    res = [[x_start, prev_best]]\n",
    "\n",
    "    for i in range(dim):\n",
    "        x = copy.copy(x_start)\n",
    "        x[i] = x[i] + step\n",
    "        score = f(x)\n",
    "        res.append([x, score])\n",
    "\n",
    "    # simplex iter\n",
    "    iters = 0\n",
    "    while 1:\n",
    "        # order\n",
    "        res.sort(key=lambda x: x[1])\n",
    "        best = res[0][1]\n",
    "\n",
    "        # break after max_iter\n",
    "        if max_iter and iters >= max_iter:\n",
    "            return res[0]\n",
    "        iters += 1\n",
    "\n",
    "        # break after no_improv_break iterations with no improvement\n",
    "        print('...best so far:', best)\n",
    "\n",
    "        if best < prev_best - no_improve_thr:\n",
    "            no_improv = 0\n",
    "            prev_best = best\n",
    "        else:\n",
    "            no_improv += 1\n",
    "\n",
    "        if no_improv >= no_improv_break:\n",
    "            return res[0]\n",
    "\n",
    "        # centroid\n",
    "        x0 = [0.] * dim\n",
    "        for tup in res[:-1]:\n",
    "            for i, c in enumerate(tup[0]):\n",
    "                x0[i] += c / (len(res)-1)\n",
    "\n",
    "        # reflection\n",
    "        xr = x0 + alpha*(x0 - res[-1][0])\n",
    "        rscore = f(xr)\n",
    "        if res[0][1] <= rscore < res[-2][1]:\n",
    "            del res[-1]\n",
    "            res.append([xr, rscore])\n",
    "            continue\n",
    "\n",
    "        # expansion\n",
    "        if rscore < res[0][1]:\n",
    "            xe = x0 + gamma*(x0 - res[-1][0])\n",
    "            escore = f(xe)\n",
    "            if escore < rscore:\n",
    "                del res[-1]\n",
    "                res.append([xe, escore])\n",
    "                continue\n",
    "            else:\n",
    "                del res[-1]\n",
    "                res.append([xr, rscore])\n",
    "                continue\n",
    "\n",
    "        # contraction\n",
    "        xc = x0 + rho*(x0 - res[-1][0])\n",
    "        cscore = f(xc)\n",
    "        if cscore < res[-1][1]:\n",
    "            del res[-1]\n",
    "            res.append([xc, cscore])\n",
    "            continue\n",
    "\n",
    "        # reduction\n",
    "        x1 = res[0][0]\n",
    "        nres = []\n",
    "        for tup in res:\n",
    "            redx = x1 + sigma*(tup[0] - x1)\n",
    "            score = f(redx)\n",
    "            nres.append([redx, score])\n",
    "        res = nres\n",
    "\n"
   ]
  },
  {
   "cell_type": "markdown",
   "metadata": {},
   "source": [
    "Using this function: \n",
    "\n",
    "$$ U(x1, x2, x3) = [0.5x_{1}^{-1} + 0.3x_{2}^{-1} + 0.2(100/3 - 2/3x_{2}- 1/3x_{1})^{-1}]^{-1}$$\n",
    "\n",
    "in order to maximize we can negate it to get:\n",
    "\n",
    "$$ U(x1, x2, x3) = -[0.5x_{1}^{-1} + 0.3x_{2}^{-1} + (20/3 - 0.4/3x_{2}- 0.2/3x_{1})^{-1}]^{-1}$$"
   ]
  },
  {
   "cell_type": "code",
   "execution_count": 107,
   "metadata": {},
   "outputs": [],
   "source": [
    "# Defining the function\n",
    "def f(x):\n",
    "    return -1*(0.5*x[0]**-1 + 0.3*x[1]**-1 + (0.2*(100/3-2/3*x[1]-1/3*x[0]))**-1)**-1"
   ]
  },
  {
   "cell_type": "code",
   "execution_count": 115,
   "metadata": {},
   "outputs": [
    {
     "name": "stdout",
     "output_type": "stream",
     "text": [
      "...best so far: -1.0996935838311306\n",
      "...best so far: -1.1750714361308077\n",
      "...best so far: -1.2320748659168572\n",
      "...best so far: -1.4104020001706317\n",
      "...best so far: -1.5259172172587454\n",
      "...best so far: -1.8874694948334176\n",
      "...best so far: -2.083013596373825\n",
      "...best so far: -2.6450697366191616\n",
      "...best so far: -2.9151057758153707\n",
      "...best so far: -3.3239720392556382\n",
      "...best so far: -3.3239720392556382\n",
      "...best so far: -3.3239720392556382\n",
      "...best so far: -3.3239720392556382\n",
      "...best so far: -3.398001365076091\n",
      "...best so far: -3.398001365076091\n",
      "...best so far: -3.398001365076091\n",
      "...best so far: -3.419823319887018\n",
      "...best so far: -3.471084887634045\n",
      "...best so far: -3.482200589586937\n",
      "...best so far: -3.482200589586937\n",
      "...best so far: -3.48622205042238\n",
      "...best so far: -3.48622205042238\n",
      "...best so far: -3.48648289950839\n",
      "...best so far: -3.48648289950839\n",
      "...best so far: -3.487311083244837\n",
      "...best so far: -3.487311083244837\n",
      "...best so far: -3.487311083244837\n",
      "...best so far: -3.4875127778962502\n",
      "...best so far: -3.4875127778962502\n",
      "...best so far: -3.4875345932597126\n",
      "...best so far: -3.4876392988407656\n",
      "...best so far: -3.4876392988407656\n",
      "...best so far: -3.4876392988407656\n",
      "...best so far: -3.4876392988407656\n",
      "...best so far: -3.4876392988407656\n",
      "...best so far: -3.4876392988407656\n",
      "...best so far: -3.4876412987552303\n",
      "...best so far: -3.4876412987552303\n",
      "...best so far: -3.4876412987552303\n",
      "...best so far: -3.4876415195290686\n",
      "...best so far: -3.487641607733475\n"
     ]
    },
    {
     "data": {
      "text/plain": [
       "[array([13.20312044,  7.23220414]), -3.487641607733475]"
      ]
     },
     "execution_count": 115,
     "metadata": {},
     "output_type": "execute_result"
    }
   ],
   "source": [
    "# Passing the function into the nelder_mead function with an initial guess\n",
    "nelder_mead(f, np.array([1., 1.]))"
   ]
  },
  {
   "cell_type": "code",
   "execution_count": 109,
   "metadata": {},
   "outputs": [
    {
     "data": {
      "text/plain": [
       " final_simplex: (array([[13.20540162,  7.23287885],\n",
       "       [13.20537993,  7.23285979],\n",
       "       [13.20533851,  7.23290926]]), array([-3.48764163, -3.48764163, -3.48764163]))\n",
       "           fun: -3.48764163202335\n",
       "       message: 'Optimization terminated successfully.'\n",
       "          nfev: 74\n",
       "           nit: 38\n",
       "        status: 0\n",
       "       success: True\n",
       "             x: array([13.20540162,  7.23287885])"
      ]
     },
     "execution_count": 109,
     "metadata": {},
     "output_type": "execute_result"
    }
   ],
   "source": [
    "# Checking my result with scipy and a different initial guess to make sure that \n",
    "# it is converging.\n",
    "\n",
    "optimize.minimize(f,[10,10], method='Nelder-Mead')\n",
    "\n",
    "#We can see that the answers are the same. So it is safe to safe they are correct."
   ]
  },
  {
   "cell_type": "code",
   "execution_count": 118,
   "metadata": {},
   "outputs": [
    {
     "data": {
      "text/plain": [
       "24.110000000000003"
      ]
     },
     "execution_count": 118,
     "metadata": {},
     "output_type": "execute_result"
    }
   ],
   "source": [
    "x1_opt = 13.21\n",
    "x2_opt = 7.23\n",
    "\n",
    "x3_opt = 100/3 - 2/3*x2_opt - 1/3*x1_opt\n",
    "x3_opt"
   ]
  },
  {
   "cell_type": "code",
   "execution_count": 145,
   "metadata": {},
   "outputs": [
    {
     "data": {
      "image/png": "[encoded data removed]",
      "text/plain": [
       "<Figure size 432x288 with 1 Axes>"
      ]
     },
     "metadata": {
      "needs_background": "light"
     },
     "output_type": "display_data"
    }
   ],
   "source": [
    "# Graphing the function using countour plots\n",
    "\n",
    "f = lambda x,y: (0.5*x**-1 + 0.3*y**-1 + (0.2*(100/3-2/3*y-1/3*x))**-1)**-1\n",
    "\n",
    "n = 250\n",
    "x = np.linspace(1, 30, n)\n",
    "y = np.linspace(1, 30, n)\n",
    "X,Y = np.meshgrid(x, y) \n",
    "\n",
    "plt.figure()\n",
    "x0,y0 = 0,0\n",
    "\n",
    "plt.contourf(X, Y, f(X, Y), 38, alpha=.75,cmap='bone')\n",
    "\n",
    "C = plt.contour(X, Y, f(X, Y), 38, colors='black')\n",
    "\n",
    "plt.clabel(C, inline=True, fontsize=7)\n",
    "\n",
    "plt.show()"
   ]
  },
  {
   "cell_type": "code",
   "execution_count": null,
   "metadata": {},
   "outputs": [],
   "source": []
  },
  {
   "cell_type": "code",
   "execution_count": null,
   "metadata": {},
   "outputs": [],
   "source": []
  },
  {
   "cell_type": "code",
   "execution_count": null,
   "metadata": {},
   "outputs": [],
   "source": []
  },
  {
   "cell_type": "code",
   "execution_count": 147,
   "metadata": {},
   "outputs": [
    {
     "name": "stdout",
     "output_type": "stream",
     "text": [
      "[NbConvertApp] WARNING | pattern 'Assignment_4.pdf' matched no files\n",
      "This application is used to convert notebook files (*.ipynb) to various other\n",
      "formats.\n",
      "\n",
      "WARNING: THE COMMANDLINE INTERFACE MAY CHANGE IN FUTURE RELEASES.\n",
      "\n",
      "Options\n",
      "-------\n",
      "\n",
      "Arguments that take values are actually convenience aliases to full\n",
      "Configurables, whose aliases are listed on the help line. For more information\n",
      "on full configurables, see '--help-all'.\n",
      "\n",
      "--debug\n",
      "    set log level to logging.DEBUG (maximize logging output)\n",
      "--generate-config\n",
      "    generate default config file\n",
      "-y\n",
      "    Answer yes to any questions instead of prompting.\n",
      "--execute\n",
      "    Execute the notebook prior to export.\n",
      "--allow-errors\n",
      "    Continue notebook execution even if one of the cells throws an error and include the error message in the cell output (the default behaviour is to abort conversion). This flag is only relevant if '--execute' was specified, too.\n",
      "--stdin\n",
      "    read a single notebook file from stdin. Write the resulting notebook with default basename 'notebook.*'\n",
      "--stdout\n",
      "    Write notebook output to stdout instead of files.\n",
      "--inplace\n",
      "    Run nbconvert in place, overwriting the existing notebook (only \n",
      "    relevant when converting to notebook format)\n",
      "--clear-output\n",
      "    Clear output of current file and save in place, \n",
      "    overwriting the existing notebook.\n",
      "--no-prompt\n",
      "    Exclude input and output prompts from converted document.\n",
      "--no-input\n",
      "    Exclude input cells and output prompts from converted document. \n",
      "    This mode is ideal for generating code-free reports.\n",
      "--log-level=<Enum> (Application.log_level)\n",
      "    Default: 30\n",
      "    Choices: (0, 10, 20, 30, 40, 50, 'DEBUG', 'INFO', 'WARN', 'ERROR', 'CRITICAL')\n",
      "    Set the log level by value or name.\n",
      "--config=<Unicode> (JupyterApp.config_file)\n",
      "    Default: ''\n",
      "    Full path of a config file.\n",
      "--to=<Unicode> (NbConvertApp.export_format)\n",
      "    Default: 'html'\n",
      "    The export format to be used, either one of the built-in formats\n",
      "    ['PDFviaHTML', 'asciidoc', 'custom', 'html', 'latex', 'markdown',\n",
      "    'notebook', 'pdf', 'python', 'rst', 'script', 'slides'] or a dotted object\n",
      "    name that represents the import path for an `Exporter` class\n",
      "--template=<Unicode> (TemplateExporter.template_file)\n",
      "    Default: ''\n",
      "    Name of the template file to use\n",
      "--writer=<DottedObjectName> (NbConvertApp.writer_class)\n",
      "    Default: 'FilesWriter'\n",
      "    Writer class used to write the  results of the conversion\n",
      "--post=<DottedOrNone> (NbConvertApp.postprocessor_class)\n",
      "    Default: ''\n",
      "    PostProcessor class used to write the results of the conversion\n",
      "--output=<Unicode> (NbConvertApp.output_base)\n",
      "    Default: ''\n",
      "    overwrite base name use for output files. can only be used when converting\n",
      "    one notebook at a time.\n",
      "--output-dir=<Unicode> (FilesWriter.build_directory)\n",
      "    Default: ''\n",
      "    Directory to write output(s) to. Defaults to output to the directory of each\n",
      "    notebook. To recover previous default behaviour (outputting to the current\n",
      "    working directory) use . as the flag value.\n",
      "--reveal-prefix=<Unicode> (SlidesExporter.reveal_url_prefix)\n",
      "    Default: ''\n",
      "    The URL prefix for reveal.js (version 3.x). This defaults to the reveal CDN,\n",
      "    but can be any url pointing to a copy  of reveal.js.\n",
      "    For speaker notes to work, this must be a relative path to a local  copy of\n",
      "    reveal.js: e.g., \"reveal.js\".\n",
      "    If a relative path is given, it must be a subdirectory of the current\n",
      "    directory (from which the server is run).\n",
      "    See the usage documentation\n",
      "    (https://nbconvert.readthedocs.io/en/latest/usage.html#reveal-js-html-\n",
      "    slideshow) for more details.\n",
      "--nbformat=<Enum> (NotebookExporter.nbformat_version)\n",
      "    Default: 4\n",
      "    Choices: [1, 2, 3, 4]\n",
      "    The nbformat version to write. Use this to downgrade notebooks.\n",
      "\n",
      "To see all available configurables, use `--help-all`\n",
      "\n",
      "Examples\n",
      "--------\n",
      "\n",
      "    The simplest way to use nbconvert is\n",
      "    \n",
      "    > jupyter nbconvert mynotebook.ipynb\n",
      "    \n",
      "    which will convert mynotebook.ipynb to the default format (probably HTML).\n",
      "    \n",
      "    You can specify the export format with `--to`.\n",
      "    Options include ['PDFviaHTML', 'asciidoc', 'custom', 'html', 'latex', 'markdown', 'notebook', 'pdf', 'python', 'rst', 'script', 'slides'].\n",
      "    \n",
      "    > jupyter nbconvert --to latex mynotebook.ipynb\n",
      "    \n",
      "    Both HTML and LaTeX support multiple output templates. LaTeX includes\n",
      "    'base', 'article' and 'report'.  HTML includes 'basic' and 'full'. You\n",
      "    can specify the flavor of the format used.\n",
      "    \n",
      "    > jupyter nbconvert --to html --template basic mynotebook.ipynb\n",
      "    \n",
      "    You can also pipe the output to stdout, rather than a file\n",
      "    \n",
      "    > jupyter nbconvert mynotebook.ipynb --stdout\n",
      "    \n",
      "    PDF is generated via latex\n",
      "    \n",
      "    > jupyter nbconvert mynotebook.ipynb --to pdf\n",
      "    \n",
      "    You can get (and serve) a Reveal.js-powered slideshow\n",
      "    \n",
      "    > jupyter nbconvert myslides.ipynb --to slides --post serve\n",
      "    \n",
      "    Multiple notebooks can be given at the command line in a couple of \n",
      "    different ways:\n",
      "    \n",
      "    > jupyter nbconvert notebook*.ipynb\n",
      "    > jupyter nbconvert notebook1.ipynb notebook2.ipynb\n",
      "    \n",
      "    or you can specify the notebooks list in a config file, containing::\n",
      "    \n",
      "        c.NbConvertApp.notebooks = [\"my_notebook.ipynb\"]\n",
      "    \n",
      "    > jupyter nbconvert --config mycfg.py\n",
      "\n"
     ]
    }
   ],
   "source": [
    "!jupyter-nbconvert --to PDFviaHTML Assignment_4.pdf"
   ]
  },
  {
   "cell_type": "code",
   "execution_count": null,
   "metadata": {},
   "outputs": [],
   "source": []
  }
 ],
 "metadata": {
  "kernelspec": {
   "display_name": "Python 3",
   "language": "python",
   "name": "python3"
  },
  "language_info": {
   "codemirror_mode": {
    "name": "ipython",
    "version": 3
   },
   "file_extension": ".py",
   "mimetype": "text/x-python",
   "name": "python",
   "nbconvert_exporter": "python",
   "pygments_lexer": "ipython3",
   "version": "3.8.0"
  }
 },
 "nbformat": 4,
 "nbformat_minor": 4
}
